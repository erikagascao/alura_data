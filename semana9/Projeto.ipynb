{
 "cells": [
  {
   "attachments": {},
   "cell_type": "markdown",
   "metadata": {
    "id": "P_gXKCYpevgP"
   },
   "source": [
    "### Importando pacotes"
   ]
  },
  {
   "cell_type": "code",
   "execution_count": 78,
   "metadata": {
    "ExecuteTime": {
     "end_time": "2020-10-25T16:41:53.996410Z",
     "start_time": "2020-10-25T16:41:53.989428Z"
    },
    "id": "s-xCbXDzevgQ"
   },
   "outputs": [
    {
     "data": {
      "text/plain": [
       "'1.5.1'"
      ]
     },
     "execution_count": 78,
     "metadata": {},
     "output_type": "execute_result"
    }
   ],
   "source": [
    "import pandas as pd\n",
    "pd.__version__"
   ]
  },
  {
   "cell_type": "code",
   "execution_count": 4,
   "metadata": {
    "ExecuteTime": {
     "end_time": "2020-10-25T16:41:54.449198Z",
     "start_time": "2020-10-25T16:41:54.436233Z"
    },
    "id": "-BWaF1-uevgQ"
   },
   "outputs": [],
   "source": [
    "import numpy as np"
   ]
  },
  {
   "cell_type": "code",
   "execution_count": null,
   "metadata": {},
   "outputs": [],
   "source": [
    "df=pd.DataFrame(np.arange(100).reshape(10,10))\n",
    "df"
   ]
  },
  {
   "cell_type": "code",
   "execution_count": 14,
   "metadata": {},
   "outputs": [
    {
     "data": {
      "text/html": [
       "<div>\n",
       "<style scoped>\n",
       "    .dataframe tbody tr th:only-of-type {\n",
       "        vertical-align: middle;\n",
       "    }\n",
       "\n",
       "    .dataframe tbody tr th {\n",
       "        vertical-align: top;\n",
       "    }\n",
       "\n",
       "    .dataframe thead th {\n",
       "        text-align: right;\n",
       "    }\n",
       "</style>\n",
       "<table border=\"1\" class=\"dataframe\">\n",
       "  <thead>\n",
       "    <tr style=\"text-align: right;\">\n",
       "      <th></th>\n",
       "      <th>0</th>\n",
       "      <th>1</th>\n",
       "      <th>2</th>\n",
       "      <th>3</th>\n",
       "      <th>4</th>\n",
       "      <th>5</th>\n",
       "      <th>6</th>\n",
       "      <th>7</th>\n",
       "      <th>8</th>\n",
       "      <th>9</th>\n",
       "    </tr>\n",
       "  </thead>\n",
       "  <tbody>\n",
       "    <tr>\n",
       "      <th>0</th>\n",
       "      <td>0</td>\n",
       "      <td>1</td>\n",
       "      <td>2</td>\n",
       "      <td>3</td>\n",
       "      <td>4</td>\n",
       "      <td>5</td>\n",
       "      <td>6</td>\n",
       "      <td>7</td>\n",
       "      <td>8</td>\n",
       "      <td>9</td>\n",
       "    </tr>\n",
       "    <tr>\n",
       "      <th>1</th>\n",
       "      <td>10</td>\n",
       "      <td>11</td>\n",
       "      <td>12</td>\n",
       "      <td>13</td>\n",
       "      <td>14</td>\n",
       "      <td>15</td>\n",
       "      <td>16</td>\n",
       "      <td>17</td>\n",
       "      <td>18</td>\n",
       "      <td>19</td>\n",
       "    </tr>\n",
       "    <tr>\n",
       "      <th>2</th>\n",
       "      <td>20</td>\n",
       "      <td>21</td>\n",
       "      <td>22</td>\n",
       "      <td>23</td>\n",
       "      <td>24</td>\n",
       "      <td>25</td>\n",
       "      <td>26</td>\n",
       "      <td>27</td>\n",
       "      <td>28</td>\n",
       "      <td>29</td>\n",
       "    </tr>\n",
       "    <tr>\n",
       "      <th>3</th>\n",
       "      <td>30</td>\n",
       "      <td>31</td>\n",
       "      <td>32</td>\n",
       "      <td>33</td>\n",
       "      <td>34</td>\n",
       "      <td>35</td>\n",
       "      <td>36</td>\n",
       "      <td>37</td>\n",
       "      <td>38</td>\n",
       "      <td>39</td>\n",
       "    </tr>\n",
       "    <tr>\n",
       "      <th>4</th>\n",
       "      <td>40</td>\n",
       "      <td>41</td>\n",
       "      <td>42</td>\n",
       "      <td>43</td>\n",
       "      <td>44</td>\n",
       "      <td>45</td>\n",
       "      <td>46</td>\n",
       "      <td>47</td>\n",
       "      <td>48</td>\n",
       "      <td>49</td>\n",
       "    </tr>\n",
       "    <tr>\n",
       "      <th>5</th>\n",
       "      <td>50</td>\n",
       "      <td>51</td>\n",
       "      <td>52</td>\n",
       "      <td>53</td>\n",
       "      <td>54</td>\n",
       "      <td>55</td>\n",
       "      <td>56</td>\n",
       "      <td>57</td>\n",
       "      <td>58</td>\n",
       "      <td>59</td>\n",
       "    </tr>\n",
       "    <tr>\n",
       "      <th>6</th>\n",
       "      <td>60</td>\n",
       "      <td>61</td>\n",
       "      <td>62</td>\n",
       "      <td>63</td>\n",
       "      <td>64</td>\n",
       "      <td>65</td>\n",
       "      <td>66</td>\n",
       "      <td>67</td>\n",
       "      <td>68</td>\n",
       "      <td>69</td>\n",
       "    </tr>\n",
       "    <tr>\n",
       "      <th>7</th>\n",
       "      <td>70</td>\n",
       "      <td>71</td>\n",
       "      <td>72</td>\n",
       "      <td>73</td>\n",
       "      <td>74</td>\n",
       "      <td>75</td>\n",
       "      <td>76</td>\n",
       "      <td>77</td>\n",
       "      <td>78</td>\n",
       "      <td>79</td>\n",
       "    </tr>\n",
       "    <tr>\n",
       "      <th>8</th>\n",
       "      <td>80</td>\n",
       "      <td>81</td>\n",
       "      <td>82</td>\n",
       "      <td>83</td>\n",
       "      <td>84</td>\n",
       "      <td>85</td>\n",
       "      <td>86</td>\n",
       "      <td>87</td>\n",
       "      <td>88</td>\n",
       "      <td>89</td>\n",
       "    </tr>\n",
       "    <tr>\n",
       "      <th>9</th>\n",
       "      <td>90</td>\n",
       "      <td>91</td>\n",
       "      <td>92</td>\n",
       "      <td>93</td>\n",
       "      <td>94</td>\n",
       "      <td>95</td>\n",
       "      <td>96</td>\n",
       "      <td>97</td>\n",
       "      <td>98</td>\n",
       "      <td>99</td>\n",
       "    </tr>\n",
       "  </tbody>\n",
       "</table>\n",
       "</div>"
      ],
      "text/plain": [
       "    0   1   2   3   4   5   6   7   8   9\n",
       "0   0   1   2   3   4   5   6   7   8   9\n",
       "1  10  11  12  13  14  15  16  17  18  19\n",
       "2  20  21  22  23  24  25  26  27  28  29\n",
       "3  30  31  32  33  34  35  36  37  38  39\n",
       "4  40  41  42  43  44  45  46  47  48  49\n",
       "5  50  51  52  53  54  55  56  57  58  59\n",
       "6  60  61  62  63  64  65  66  67  68  69\n",
       "7  70  71  72  73  74  75  76  77  78  79\n",
       "8  80  81  82  83  84  85  86  87  88  89\n",
       "9  90  91  92  93  94  95  96  97  98  99"
      ]
     },
     "execution_count": 14,
     "metadata": {},
     "output_type": "execute_result"
    }
   ],
   "source": [
    "#pd.set_option(\"display.max_rows\",5)\n",
    "#pd.reset_option(\"display.max_rows\")\n",
    "#df"
   ]
  },
  {
   "cell_type": "code",
   "execution_count": 79,
   "metadata": {},
   "outputs": [
    {
     "data": {
      "text/html": [
       "<div>\n",
       "<style scoped>\n",
       "    .dataframe tbody tr th:only-of-type {\n",
       "        vertical-align: middle;\n",
       "    }\n",
       "\n",
       "    .dataframe tbody tr th {\n",
       "        vertical-align: top;\n",
       "    }\n",
       "\n",
       "    .dataframe thead th {\n",
       "        text-align: right;\n",
       "    }\n",
       "</style>\n",
       "<table border=\"1\" class=\"dataframe\">\n",
       "  <thead>\n",
       "    <tr style=\"text-align: right;\">\n",
       "      <th></th>\n",
       "      <th>normal</th>\n",
       "      <th>highlights</th>\n",
       "    </tr>\n",
       "  </thead>\n",
       "  <tbody>\n",
       "    <tr>\n",
       "      <th>output</th>\n",
       "      <td>{'listings': [{'imovel': {'tipos': {'proprieda...</td>\n",
       "      <td>{'listings': [{'imovel': {'tipos': {'proprieda...</td>\n",
       "    </tr>\n",
       "  </tbody>\n",
       "</table>\n",
       "</div>"
      ],
      "text/plain": [
       "                                                   normal  \\\n",
       "output  {'listings': [{'imovel': {'tipos': {'proprieda...   \n",
       "\n",
       "                                               highlights  \n",
       "output  {'listings': [{'imovel': {'tipos': {'proprieda...  "
      ]
     },
     "execution_count": 79,
     "metadata": {},
     "output_type": "execute_result"
    }
   ],
   "source": [
    "dados=pd.read_json('realestates.json',orient='columns')\n",
    "dados"
   ]
  },
  {
   "cell_type": "code",
   "execution_count": 15,
   "metadata": {},
   "outputs": [
    {
     "data": {
      "text/html": [
       "<div>\n",
       "<style scoped>\n",
       "    .dataframe tbody tr th:only-of-type {\n",
       "        vertical-align: middle;\n",
       "    }\n",
       "\n",
       "    .dataframe tbody tr th {\n",
       "        vertical-align: top;\n",
       "    }\n",
       "\n",
       "    .dataframe thead th {\n",
       "        text-align: right;\n",
       "    }\n",
       "</style>\n",
       "<table border=\"1\" class=\"dataframe\">\n",
       "  <thead>\n",
       "    <tr style=\"text-align: right;\">\n",
       "      <th></th>\n",
       "      <th></th>\n",
       "      <th>valor m2 por bairro</th>\n",
       "    </tr>\n",
       "    <tr>\n",
       "      <th>bairros</th>\n",
       "      <th>tipo</th>\n",
       "      <th></th>\n",
       "    </tr>\n",
       "  </thead>\n",
       "  <tbody>\n",
       "    <tr>\n",
       "      <th rowspan=\"5\" valign=\"top\">São Cristóvão</th>\n",
       "      <th>Casa</th>\n",
       "      <td>13793</td>\n",
       "    </tr>\n",
       "    <tr>\n",
       "      <th>Apartamento</th>\n",
       "      <td>6306</td>\n",
       "    </tr>\n",
       "    <tr>\n",
       "      <th>Cobertura</th>\n",
       "      <td>11695</td>\n",
       "    </tr>\n",
       "    <tr>\n",
       "      <th>Consultório</th>\n",
       "      <td>6991</td>\n",
       "    </tr>\n",
       "    <tr>\n",
       "      <th>Imóvel Comercial</th>\n",
       "      <td>19633</td>\n",
       "    </tr>\n",
       "    <tr>\n",
       "      <th>...</th>\n",
       "      <th>...</th>\n",
       "      <td>...</td>\n",
       "    </tr>\n",
       "    <tr>\n",
       "      <th rowspan=\"5\" valign=\"top\">Vista Alegre</th>\n",
       "      <th>Cobertura</th>\n",
       "      <td>16567</td>\n",
       "    </tr>\n",
       "    <tr>\n",
       "      <th>Consultório</th>\n",
       "      <td>5812</td>\n",
       "    </tr>\n",
       "    <tr>\n",
       "      <th>Imóvel Comercial</th>\n",
       "      <td>12895</td>\n",
       "    </tr>\n",
       "    <tr>\n",
       "      <th>Loja</th>\n",
       "      <td>6182</td>\n",
       "    </tr>\n",
       "    <tr>\n",
       "      <th>Sala Comercial</th>\n",
       "      <td>3377</td>\n",
       "    </tr>\n",
       "  </tbody>\n",
       "</table>\n",
       "<p>1127 rows × 1 columns</p>\n",
       "</div>"
      ],
      "text/plain": [
       "                                valor m2 por bairro\n",
       "bairros       tipo                                 \n",
       "São Cristóvão Casa                            13793\n",
       "              Apartamento                      6306\n",
       "              Cobertura                       11695\n",
       "              Consultório                      6991\n",
       "              Imóvel Comercial                19633\n",
       "...                                             ...\n",
       "Vista Alegre  Cobertura                       16567\n",
       "              Consultório                      5812\n",
       "              Imóvel Comercial                12895\n",
       "              Loja                             6182\n",
       "              Sala Comercial                   3377\n",
       "\n",
       "[1127 rows x 1 columns]"
      ]
     },
     "execution_count": 15,
     "metadata": {},
     "output_type": "execute_result"
    }
   ],
   "source": [
    "dados2=pd.read_excel(io='bairros.xlsx',sheet_name=\"Preço médio por tipo\",usecols=\"c:e\",header=2,index_col=[0,1],names=[\"bairros\",\"tipo\",\"valor m2 por bairro\"])\n",
    "dados2"
   ]
  },
  {
   "cell_type": "code",
   "execution_count": 83,
   "metadata": {},
   "outputs": [
    {
     "data": {
      "text/plain": [
       "output    {'listings': [{'imovel': {'tipos': {'proprieda...\n",
       "Name: normal, dtype: object"
      ]
     },
     "execution_count": 83,
     "metadata": {},
     "output_type": "execute_result"
    }
   ],
   "source": [
    "dados_norm=pd.json_normalize(data=dados.normal)\n",
    "dados.normal"
   ]
  },
  {
   "cell_type": "code",
   "execution_count": 84,
   "metadata": {},
   "outputs": [
    {
     "data": {
      "text/html": [
       "<div>\n",
       "<style scoped>\n",
       "    .dataframe tbody tr th:only-of-type {\n",
       "        vertical-align: middle;\n",
       "    }\n",
       "\n",
       "    .dataframe tbody tr th {\n",
       "        vertical-align: top;\n",
       "    }\n",
       "\n",
       "    .dataframe thead th {\n",
       "        text-align: right;\n",
       "    }\n",
       "</style>\n",
       "<table border=\"1\" class=\"dataframe\">\n",
       "  <thead>\n",
       "    <tr style=\"text-align: right;\">\n",
       "      <th></th>\n",
       "      <th>imovel_tipos_propriedade</th>\n",
       "      <th>imovel_endereco_bairro</th>\n",
       "      <th>imovel_endereco_localizacao_type</th>\n",
       "      <th>imovel_endereco_localizacao_coordinates</th>\n",
       "      <th>imovel_vagasGaragem</th>\n",
       "      <th>imovel_area</th>\n",
       "      <th>imovel_caracteristicas_propriedade</th>\n",
       "      <th>imovel_caracteristicas_condominio</th>\n",
       "      <th>imovel_caracteristicas_entorno</th>\n",
       "      <th>anuncio_tipos_publicacao</th>\n",
       "      <th>anuncio_tipos_listagem</th>\n",
       "      <th>anuncio_valores_venda</th>\n",
       "      <th>anuncio_valores_aluguel</th>\n",
       "      <th>anuncio_valores_condominio</th>\n",
       "      <th>anuncio_valores_iptu</th>\n",
       "      <th>anuncio_descricao</th>\n",
       "    </tr>\n",
       "  </thead>\n",
       "  <tbody>\n",
       "    <tr>\n",
       "      <th>0</th>\n",
       "      <td>Casa</td>\n",
       "      <td>Barra da Tijuca</td>\n",
       "      <td>Point</td>\n",
       "      <td>[-43.3039086, -23.0139692]</td>\n",
       "      <td>4</td>\n",
       "      <td>279</td>\n",
       "      <td>['Área de Serviço', 'Terraço', 'Churrasqueira'...</td>\n",
       "      <td>['Churrasqueira', 'Salão de Jogos', 'Sauna', '...</td>\n",
       "      <td>['Próximo a Escola Particular', 'Próximo ao Me...</td>\n",
       "      <td>Padrão</td>\n",
       "      <td>Lançamento</td>\n",
       "      <td>2400000.0</td>\n",
       "      <td>0.0</td>\n",
       "      <td>790.0</td>\n",
       "      <td>5700.0</td>\n",
       "      <td>Amplo imóvel para venda com 3 quartos, sendo 1...</td>\n",
       "    </tr>\n",
       "    <tr>\n",
       "      <th>1</th>\n",
       "      <td>Apartamento</td>\n",
       "      <td>Campo Grande</td>\n",
       "      <td>Point</td>\n",
       "      <td>[0, 0]</td>\n",
       "      <td>1</td>\n",
       "      <td>60</td>\n",
       "      <td>['Sauna']</td>\n",
       "      <td>['Elevador', 'Playground', 'Salão de Festas', ...</td>\n",
       "      <td>['Próximo ao Shopping', 'Próximo a Áreas de La...</td>\n",
       "      <td>Padrão</td>\n",
       "      <td>Usado</td>\n",
       "      <td>200000.0</td>\n",
       "      <td>0.0</td>\n",
       "      <td>0.0</td>\n",
       "      <td>0.0</td>\n",
       "      <td>Amplo imóvel para venda com 2 quartos, sendo 0...</td>\n",
       "    </tr>\n",
       "    <tr>\n",
       "      <th>2</th>\n",
       "      <td>Cobertura</td>\n",
       "      <td>Barra da Tijuca</td>\n",
       "      <td>Point</td>\n",
       "      <td>[-43.3037186, -22.9951304]</td>\n",
       "      <td>2</td>\n",
       "      <td>380</td>\n",
       "      <td>['Acessibilidade', 'Área de Serviço', 'Sauna',...</td>\n",
       "      <td>['Sauna', 'Playground', 'Quadra Poliesportiva'...</td>\n",
       "      <td>['Próximo a Escola Particular']</td>\n",
       "      <td>Premium</td>\n",
       "      <td>Usado</td>\n",
       "      <td>4400000.0</td>\n",
       "      <td>0.0</td>\n",
       "      <td>1200.0</td>\n",
       "      <td>850.0</td>\n",
       "      <td>Amplo imóvel para venda com 5 quartos, sendo 4...</td>\n",
       "    </tr>\n",
       "    <tr>\n",
       "      <th>3</th>\n",
       "      <td>Cobertura</td>\n",
       "      <td>Barra da Tijuca</td>\n",
       "      <td>Point</td>\n",
       "      <td>[-43.3548121, -23.0097423]</td>\n",
       "      <td>1</td>\n",
       "      <td>73</td>\n",
       "      <td>['Vista Panorâmica', 'Piscina', 'Sauna', 'Clos...</td>\n",
       "      <td>['Quadra Poliesportiva', 'Aceita Pet', 'Playgr...</td>\n",
       "      <td>['Próximo a Farmácia', 'Próximo a Academia', '...</td>\n",
       "      <td>Padrão</td>\n",
       "      <td>Usado</td>\n",
       "      <td>1100000.0</td>\n",
       "      <td>0.0</td>\n",
       "      <td>1300.0</td>\n",
       "      <td>364.0</td>\n",
       "      <td>Amplo imóvel para venda com 2 quartos, sendo 1...</td>\n",
       "    </tr>\n",
       "    <tr>\n",
       "      <th>4</th>\n",
       "      <td>Sala Comercial</td>\n",
       "      <td>Glória</td>\n",
       "      <td>Point</td>\n",
       "      <td>[-43.1779703, -22.9174894]</td>\n",
       "      <td>1</td>\n",
       "      <td>32</td>\n",
       "      <td>['Armários Planejados']</td>\n",
       "      <td>['Quadra Poliesportiva', 'Porteiro 24 Horas', ...</td>\n",
       "      <td>['Próximo a Centro Empresarial', 'Próximo a Ár...</td>\n",
       "      <td>Padrão</td>\n",
       "      <td>Usado</td>\n",
       "      <td>260000.0</td>\n",
       "      <td>0.0</td>\n",
       "      <td>450.0</td>\n",
       "      <td>800.0</td>\n",
       "      <td>Amplo imóvel para venda com 0 quartos, sendo 0...</td>\n",
       "    </tr>\n",
       "    <tr>\n",
       "      <th>5</th>\n",
       "      <td>Casa</td>\n",
       "      <td>Vila Isabel</td>\n",
       "      <td>Point</td>\n",
       "      <td>[0, 0]</td>\n",
       "      <td>2</td>\n",
       "      <td>164</td>\n",
       "      <td>['Mobiliado', 'Varanda', 'Closet', 'Churrasque...</td>\n",
       "      <td>['Aceita Pet', 'Quadra Poliesportiva', 'Playgr...</td>\n",
       "      <td>['Próximo a Centro Empresarial', 'Próximo a Es...</td>\n",
       "      <td>Padrão</td>\n",
       "      <td>Lançamento</td>\n",
       "      <td>280000.0</td>\n",
       "      <td>0.0</td>\n",
       "      <td>583.0</td>\n",
       "      <td>188.0</td>\n",
       "      <td>Amplo imóvel para venda com 1 quartos, sendo 0...</td>\n",
       "    </tr>\n",
       "    <tr>\n",
       "      <th>6</th>\n",
       "      <td>Casa</td>\n",
       "      <td>Andaraí</td>\n",
       "      <td>Point</td>\n",
       "      <td>[-43.252201188, -22.9282608539]</td>\n",
       "      <td>1</td>\n",
       "      <td>68</td>\n",
       "      <td>['Churrasqueira', 'Gás Encanado', 'Cozinha Ame...</td>\n",
       "      <td>['Sauna', 'Sistema de Incêndio', 'Estacionamen...</td>\n",
       "      <td>['Próximo ao Metrô', 'Próximo ao Shopping', 'P...</td>\n",
       "      <td>Destaque</td>\n",
       "      <td>Usado</td>\n",
       "      <td>300000.0</td>\n",
       "      <td>0.0</td>\n",
       "      <td>350.0</td>\n",
       "      <td>0.0</td>\n",
       "      <td>Amplo imóvel para venda com 2 quartos, sendo 0...</td>\n",
       "    </tr>\n",
       "    <tr>\n",
       "      <th>7</th>\n",
       "      <td>Apartamento</td>\n",
       "      <td>Copacabana</td>\n",
       "      <td>Point</td>\n",
       "      <td>[-43.1749613, -22.964604]</td>\n",
       "      <td>1</td>\n",
       "      <td>110</td>\n",
       "      <td>['Quarto/WC Empregada', 'Gás Encanado', 'Sauna...</td>\n",
       "      <td>['Piscina', 'Comércio/Serviços no Condomínio',...</td>\n",
       "      <td>['Próximo a Escola Particular', 'Próximo a Com...</td>\n",
       "      <td>Premium</td>\n",
       "      <td>Usado</td>\n",
       "      <td>950000.0</td>\n",
       "      <td>0.0</td>\n",
       "      <td>800.0</td>\n",
       "      <td>120.0</td>\n",
       "      <td>Amplo imóvel para venda com 3 quartos, sendo 1...</td>\n",
       "    </tr>\n",
       "    <tr>\n",
       "      <th>8</th>\n",
       "      <td>Consultório</td>\n",
       "      <td>Recreio dos Bandeirantes</td>\n",
       "      <td>Point</td>\n",
       "      <td>[-43.453754, -23.0102127]</td>\n",
       "      <td>4</td>\n",
       "      <td>214</td>\n",
       "      <td>['Acessibilidade', 'Mobiliado', 'Churrasqueira...</td>\n",
       "      <td>['Aceita Pet', 'Salão de Festas', 'Sauna', 'De...</td>\n",
       "      <td>['Próximo a Mercado', 'Próximo a Farmácia']</td>\n",
       "      <td>Super Destaque</td>\n",
       "      <td>Usado</td>\n",
       "      <td>1390000.0</td>\n",
       "      <td>0.0</td>\n",
       "      <td>750.0</td>\n",
       "      <td>3282.0</td>\n",
       "      <td>Amplo imóvel para venda com 4 quartos, sendo 1...</td>\n",
       "    </tr>\n",
       "    <tr>\n",
       "      <th>9</th>\n",
       "      <td>Casa</td>\n",
       "      <td>Recreio dos Bandeirantes</td>\n",
       "      <td>Point</td>\n",
       "      <td>[-43.5129166, -23.0241139]</td>\n",
       "      <td>1</td>\n",
       "      <td>82</td>\n",
       "      <td>['Área de Serviço', 'Terraço', 'Ambientes Inte...</td>\n",
       "      <td>['Piscina', 'Salão de Festas', 'Estacionamento...</td>\n",
       "      <td>['Próximo ao Metrô', 'Próximo a Comércio Diver...</td>\n",
       "      <td>Padrão</td>\n",
       "      <td>Usado</td>\n",
       "      <td>439000.0</td>\n",
       "      <td>0.0</td>\n",
       "      <td>620.0</td>\n",
       "      <td>1.0</td>\n",
       "      <td>Amplo imóvel para venda com 3 quartos, sendo 1...</td>\n",
       "    </tr>\n",
       "    <tr>\n",
       "      <th>10</th>\n",
       "      <td>Casa</td>\n",
       "      <td>Tijuca</td>\n",
       "      <td>Point</td>\n",
       "      <td>[-43.2369414, -22.93291]</td>\n",
       "      <td>2</td>\n",
       "      <td>230</td>\n",
       "      <td>['Closet', 'Ambientes Integrados', 'Área de Se...</td>\n",
       "      <td>['Segurança Interna', 'Piscina', 'Salão de Jog...</td>\n",
       "      <td>['Próximo a Centro Empresarial', 'Próximo a Es...</td>\n",
       "      <td>Destaque</td>\n",
       "      <td>Lançamento</td>\n",
       "      <td>960000.0</td>\n",
       "      <td>0.0</td>\n",
       "      <td>680.0</td>\n",
       "      <td>900.0</td>\n",
       "      <td>Amplo imóvel para venda com 3 quartos, sendo 0...</td>\n",
       "    </tr>\n",
       "    <tr>\n",
       "      <th>11</th>\n",
       "      <td>Apartamento</td>\n",
       "      <td>Copacabana</td>\n",
       "      <td>Point</td>\n",
       "      <td>[-49.0607072, -26.9225117]</td>\n",
       "      <td>1</td>\n",
       "      <td>135</td>\n",
       "      <td>[]</td>\n",
       "      <td>['Bicicletário']</td>\n",
       "      <td>['Próximo a Farmácia', 'Próximo a Áreas de Laz...</td>\n",
       "      <td>Padrão</td>\n",
       "      <td>Usado</td>\n",
       "      <td>1080000.0</td>\n",
       "      <td>0.0</td>\n",
       "      <td>1000.0</td>\n",
       "      <td>1900.0</td>\n",
       "      <td>Amplo imóvel para venda com 3 quartos, sendo 0...</td>\n",
       "    </tr>\n",
       "    <tr>\n",
       "      <th>12</th>\n",
       "      <td>Apartamento</td>\n",
       "      <td>Méier</td>\n",
       "      <td>Point</td>\n",
       "      <td>[-49.0607072, -26.9225117]</td>\n",
       "      <td>1</td>\n",
       "      <td>63</td>\n",
       "      <td>['Piscina', 'Quarto/WC Empregada', 'Gás Encana...</td>\n",
       "      <td>['Sauna', 'Estacionamento Coberto', 'Porteiro ...</td>\n",
       "      <td>['Próximo a Comércio Diversos', 'Próximo a Esc...</td>\n",
       "      <td>Padrão</td>\n",
       "      <td>Usado</td>\n",
       "      <td>400000.0</td>\n",
       "      <td>0.0</td>\n",
       "      <td>628.0</td>\n",
       "      <td>661.0</td>\n",
       "      <td>Amplo imóvel para venda com 2 quartos, sendo 0...</td>\n",
       "    </tr>\n",
       "    <tr>\n",
       "      <th>13</th>\n",
       "      <td>Consultório</td>\n",
       "      <td>Recreio dos Bandeirantes</td>\n",
       "      <td>Point</td>\n",
       "      <td>[-43.5010964, -23.0249208]</td>\n",
       "      <td>0</td>\n",
       "      <td>0</td>\n",
       "      <td>['Sauna', 'Terraço', 'Closet', 'Gás Encanado',...</td>\n",
       "      <td>['Playground', 'Aceita Pet', 'Porteiro 24 Horas']</td>\n",
       "      <td>['Próximo a Restaurante', 'Próximo ao Metrô', ...</td>\n",
       "      <td>Padrão</td>\n",
       "      <td>Usado</td>\n",
       "      <td>370583.0</td>\n",
       "      <td>0.0</td>\n",
       "      <td>0.0</td>\n",
       "      <td>0.0</td>\n",
       "      <td>Amplo imóvel para venda com 0 quartos, sendo 0...</td>\n",
       "    </tr>\n",
       "    <tr>\n",
       "      <th>14</th>\n",
       "      <td>Apartamento</td>\n",
       "      <td>Recreio dos Bandeirantes</td>\n",
       "      <td>Point</td>\n",
       "      <td>[-43.4842556, -23.0302751]</td>\n",
       "      <td>1</td>\n",
       "      <td>96</td>\n",
       "      <td>[]</td>\n",
       "      <td>['Quadra Poliesportiva', 'Porteiro 24 Horas']</td>\n",
       "      <td>['Próximo ao Metrô', 'Próximo a Mercado', 'Pró...</td>\n",
       "      <td>Padrão</td>\n",
       "      <td>Usado</td>\n",
       "      <td>490000.0</td>\n",
       "      <td>0.0</td>\n",
       "      <td>480.0</td>\n",
       "      <td>200.0</td>\n",
       "      <td>Amplo imóvel para venda com 2 quartos, sendo 1...</td>\n",
       "    </tr>\n",
       "    <tr>\n",
       "      <th>15</th>\n",
       "      <td>Casa</td>\n",
       "      <td>Vila Isabel</td>\n",
       "      <td>Point</td>\n",
       "      <td>[-43.2427336, -22.9185964]</td>\n",
       "      <td>1</td>\n",
       "      <td>66</td>\n",
       "      <td>['Quarto/WC Empregada', 'Varanda', 'Piscina', ...</td>\n",
       "      <td>['Quadra Poliesportiva']</td>\n",
       "      <td>['Próximo ao Shopping', 'Próximo a Farmácia', ...</td>\n",
       "      <td>Padrão</td>\n",
       "      <td>Usado</td>\n",
       "      <td>440000.0</td>\n",
       "      <td>0.0</td>\n",
       "      <td>500.0</td>\n",
       "      <td>25.0</td>\n",
       "      <td>Amplo imóvel para venda com 2 quartos, sendo 0...</td>\n",
       "    </tr>\n",
       "    <tr>\n",
       "      <th>16</th>\n",
       "      <td>Apartamento</td>\n",
       "      <td>Campo Grande</td>\n",
       "      <td>Point</td>\n",
       "      <td>[-43.1728965, -22.9068467]</td>\n",
       "      <td>0</td>\n",
       "      <td>40</td>\n",
       "      <td>['Vista Panorâmica', 'Sauna', 'Área de Serviço...</td>\n",
       "      <td>['Bicicletário', 'Comércio/Serviços no Condomí...</td>\n",
       "      <td>['Próximo a Escola Particular', 'Próximo a Pra...</td>\n",
       "      <td>Padrão</td>\n",
       "      <td>Usado</td>\n",
       "      <td>700000.0</td>\n",
       "      <td>0.0</td>\n",
       "      <td>0.0</td>\n",
       "      <td>0.0</td>\n",
       "      <td>Amplo imóvel para venda com 2 quartos, sendo 0...</td>\n",
       "    </tr>\n",
       "    <tr>\n",
       "      <th>17</th>\n",
       "      <td>Sala Comercial</td>\n",
       "      <td>Copacabana</td>\n",
       "      <td>Point</td>\n",
       "      <td>[-43.1857067, -22.9670207]</td>\n",
       "      <td>1</td>\n",
       "      <td>80</td>\n",
       "      <td>['Quarto/WC Empregada', 'Churrasqueira', 'Sauna']</td>\n",
       "      <td>['Depósito Privativo', 'Bicicletário', 'Churra...</td>\n",
       "      <td>['Próximo a Farmácia', 'Próximo a Escola Parti...</td>\n",
       "      <td>Destaque</td>\n",
       "      <td>Usado</td>\n",
       "      <td>1000000.0</td>\n",
       "      <td>0.0</td>\n",
       "      <td>630.0</td>\n",
       "      <td>112.0</td>\n",
       "      <td>Amplo imóvel para venda com 2 quartos, sendo 0...</td>\n",
       "    </tr>\n",
       "    <tr>\n",
       "      <th>18</th>\n",
       "      <td>Casa</td>\n",
       "      <td>Ipanema</td>\n",
       "      <td>Point</td>\n",
       "      <td>[-43.2019364, -22.9832228]</td>\n",
       "      <td>2</td>\n",
       "      <td>240</td>\n",
       "      <td>['Sauna', 'Ambientes Integrados', 'Armários Pl...</td>\n",
       "      <td>['Elevador', 'Estacionamento Coberto']</td>\n",
       "      <td>['Próximo a Centro Empresarial']</td>\n",
       "      <td>Destaque</td>\n",
       "      <td>Usado</td>\n",
       "      <td>4500000.0</td>\n",
       "      <td>0.0</td>\n",
       "      <td>2300.0</td>\n",
       "      <td>0.0</td>\n",
       "      <td>Amplo imóvel para venda com 3 quartos, sendo 1...</td>\n",
       "    </tr>\n",
       "    <tr>\n",
       "      <th>19</th>\n",
       "      <td>Sala Comercial</td>\n",
       "      <td>Paciência</td>\n",
       "      <td>Point</td>\n",
       "      <td>[-43.6220075, -22.8938151]</td>\n",
       "      <td>1</td>\n",
       "      <td>45</td>\n",
       "      <td>['Mobiliado', 'Acessibilidade', 'Área de Servi...</td>\n",
       "      <td>['Sistema de Incêndio', 'Acessibilidade', 'Sal...</td>\n",
       "      <td>['Próximo a Centro Empresarial', 'Próximo a Co...</td>\n",
       "      <td>Padrão</td>\n",
       "      <td>Usado</td>\n",
       "      <td>135000.0</td>\n",
       "      <td>0.0</td>\n",
       "      <td>300.0</td>\n",
       "      <td>0.0</td>\n",
       "      <td>Amplo imóvel para venda com 2 quartos, sendo 0...</td>\n",
       "    </tr>\n",
       "    <tr>\n",
       "      <th>20</th>\n",
       "      <td>Apartamento</td>\n",
       "      <td>Freguesia (Jacarepaguá)</td>\n",
       "      <td>Point</td>\n",
       "      <td>[-43.1721422, -22.7894064]</td>\n",
       "      <td>1</td>\n",
       "      <td>71</td>\n",
       "      <td>['Sauna', 'Gás Encanado', 'Terraço', 'Ambiente...</td>\n",
       "      <td>['Salão de Festas', 'Bicicletário', 'Academia']</td>\n",
       "      <td>['Próximo a Academia', 'Próximo a Mercado', 'P...</td>\n",
       "      <td>Destaque</td>\n",
       "      <td>Usado</td>\n",
       "      <td>300000.0</td>\n",
       "      <td>0.0</td>\n",
       "      <td>370.0</td>\n",
       "      <td>243.0</td>\n",
       "      <td>Amplo imóvel para venda com 3 quartos, sendo 0...</td>\n",
       "    </tr>\n",
       "    <tr>\n",
       "      <th>21</th>\n",
       "      <td>Apartamento</td>\n",
       "      <td>Vargem Pequena</td>\n",
       "      <td>Point</td>\n",
       "      <td>[-43.4516177, -22.993534]</td>\n",
       "      <td>0</td>\n",
       "      <td>0</td>\n",
       "      <td>[]</td>\n",
       "      <td>['Quadra Poliesportiva', 'Porteiro 24 Horas', ...</td>\n",
       "      <td>['Próximo ao Shopping', 'Próximo a Parques e Á...</td>\n",
       "      <td>Destaque</td>\n",
       "      <td>Usado</td>\n",
       "      <td>0.0</td>\n",
       "      <td>0.0</td>\n",
       "      <td>0.0</td>\n",
       "      <td>0.0</td>\n",
       "      <td>Amplo imóvel para venda com 0 quartos, sendo 0...</td>\n",
       "    </tr>\n",
       "    <tr>\n",
       "      <th>22</th>\n",
       "      <td>Apartamento</td>\n",
       "      <td>Tijuca</td>\n",
       "      <td>Point</td>\n",
       "      <td>[-43.2377311, -22.919436]</td>\n",
       "      <td>2</td>\n",
       "      <td>136</td>\n",
       "      <td>['Terraço', 'Armários Planejados', 'Ambientes ...</td>\n",
       "      <td>['Comércio/Serviços no Condomínio', 'Depósito ...</td>\n",
       "      <td>['Próximo a Restaurante', 'Próximo a Farmácia'...</td>\n",
       "      <td>Padrão</td>\n",
       "      <td>Usado</td>\n",
       "      <td>1285000.0</td>\n",
       "      <td>0.0</td>\n",
       "      <td>1300.0</td>\n",
       "      <td>0.0</td>\n",
       "      <td>Amplo imóvel para venda com 3 quartos, sendo 1...</td>\n",
       "    </tr>\n",
       "    <tr>\n",
       "      <th>23</th>\n",
       "      <td>Casa</td>\n",
       "      <td>Recreio dos Bandeirantes</td>\n",
       "      <td>Point</td>\n",
       "      <td>[-43.482437, -23.0061018]</td>\n",
       "      <td>2</td>\n",
       "      <td>168</td>\n",
       "      <td>['Área de Serviço', 'Quarto/WC Empregada', 'Cl...</td>\n",
       "      <td>['Serviço de Transporte no Condomínio', 'Eleva...</td>\n",
       "      <td>['Próximo a Academia', 'Próximo a Escola Parti...</td>\n",
       "      <td>Padrão</td>\n",
       "      <td>Lançamento</td>\n",
       "      <td>409900.0</td>\n",
       "      <td>0.0</td>\n",
       "      <td>490.0</td>\n",
       "      <td>0.0</td>\n",
       "      <td>Amplo imóvel para venda com 2 quartos, sendo 1...</td>\n",
       "    </tr>\n",
       "    <tr>\n",
       "      <th>24</th>\n",
       "      <td>Consultório</td>\n",
       "      <td>Recreio dos Bandeirantes</td>\n",
       "      <td>Point</td>\n",
       "      <td>[-43.4656992, -23.0226712]</td>\n",
       "      <td>4</td>\n",
       "      <td>300</td>\n",
       "      <td>['Cozinha Americana', 'Gás Encanado', 'Mobilia...</td>\n",
       "      <td>['Estacionamento Visitantes', 'Elevador', 'Ace...</td>\n",
       "      <td>['Próximo ao Metrô', 'Próximo a Escola Pública']</td>\n",
       "      <td>Padrão</td>\n",
       "      <td>Usado</td>\n",
       "      <td>1600000.0</td>\n",
       "      <td>0.0</td>\n",
       "      <td>0.0</td>\n",
       "      <td>0.0</td>\n",
       "      <td>Amplo imóvel para venda com 4 quartos, sendo 4...</td>\n",
       "    </tr>\n",
       "    <tr>\n",
       "      <th>25</th>\n",
       "      <td>Apartamento</td>\n",
       "      <td>Pechincha</td>\n",
       "      <td>Point</td>\n",
       "      <td>[-49.0607072, -26.9225117]</td>\n",
       "      <td>2</td>\n",
       "      <td>123</td>\n",
       "      <td>['Área de Serviço', 'Ambientes Integrados', 'V...</td>\n",
       "      <td>['Elevador', 'Salão de Festas', 'Quadra Polies...</td>\n",
       "      <td>['Próximo a Escola Particular', 'Próximo a Mer...</td>\n",
       "      <td>Destaque</td>\n",
       "      <td>Usado</td>\n",
       "      <td>505000.0</td>\n",
       "      <td>0.0</td>\n",
       "      <td>500.0</td>\n",
       "      <td>0.0</td>\n",
       "      <td>Amplo imóvel para venda com 3 quartos, sendo 1...</td>\n",
       "    </tr>\n",
       "    <tr>\n",
       "      <th>26</th>\n",
       "      <td>Apartamento</td>\n",
       "      <td>Copacabana</td>\n",
       "      <td>Point</td>\n",
       "      <td>[-43.1874754, -22.9682656]</td>\n",
       "      <td>1</td>\n",
       "      <td>113</td>\n",
       "      <td>['Gás Encanado', 'Cozinha Americana', 'Vista P...</td>\n",
       "      <td>['Sauna', 'Quadra Poliesportiva', 'Porteiro 24...</td>\n",
       "      <td>['Próximo a Serviços de Saúde', 'Próximo a Mer...</td>\n",
       "      <td>Super Destaque</td>\n",
       "      <td>Usado</td>\n",
       "      <td>1190000.0</td>\n",
       "      <td>0.0</td>\n",
       "      <td>750.0</td>\n",
       "      <td>1904.0</td>\n",
       "      <td>Amplo imóvel para venda com 3 quartos, sendo 0...</td>\n",
       "    </tr>\n",
       "    <tr>\n",
       "      <th>27</th>\n",
       "      <td>Apartamento</td>\n",
       "      <td>Vargem Pequena</td>\n",
       "      <td>Point</td>\n",
       "      <td>[-43.4516177, -22.993534]</td>\n",
       "      <td>0</td>\n",
       "      <td>0</td>\n",
       "      <td>['Vista Panorâmica', 'Quarto/WC Empregada', 'S...</td>\n",
       "      <td>['Quadra Poliesportiva', 'Bicicletário', 'Play...</td>\n",
       "      <td>['Próximo ao Metrô', 'Próximo a Academia', 'Pr...</td>\n",
       "      <td>Super Destaque</td>\n",
       "      <td>Usado</td>\n",
       "      <td>0.0</td>\n",
       "      <td>0.0</td>\n",
       "      <td>0.0</td>\n",
       "      <td>0.0</td>\n",
       "      <td>Amplo imóvel para venda com 0 quartos, sendo 0...</td>\n",
       "    </tr>\n",
       "    <tr>\n",
       "      <th>28</th>\n",
       "      <td>Casa</td>\n",
       "      <td>Freguesia</td>\n",
       "      <td>Point</td>\n",
       "      <td>[-43.3273079, -22.9354146]</td>\n",
       "      <td>0</td>\n",
       "      <td>0</td>\n",
       "      <td>['Armários Planejados', 'Piscina', 'Churrasque...</td>\n",
       "      <td>['Piscina', 'Quadra Poliesportiva', 'Playgroun...</td>\n",
       "      <td>['Próximo a Parques e Áreas Verdes', 'Próximo ...</td>\n",
       "      <td>Destaque</td>\n",
       "      <td>Lançamento</td>\n",
       "      <td>0.0</td>\n",
       "      <td>0.0</td>\n",
       "      <td>0.0</td>\n",
       "      <td>0.0</td>\n",
       "      <td>Amplo imóvel para venda com 0 quartos, sendo 0...</td>\n",
       "    </tr>\n",
       "    <tr>\n",
       "      <th>29</th>\n",
       "      <td>Apartamento</td>\n",
       "      <td>Recreio dos Bandeirantes</td>\n",
       "      <td>Point</td>\n",
       "      <td>[-43.4710229, -23.0170387]</td>\n",
       "      <td>2</td>\n",
       "      <td>112</td>\n",
       "      <td>[]</td>\n",
       "      <td>['Salão de Jogos', 'Quadra Poliesportiva', 'El...</td>\n",
       "      <td>['Próximo a Praia', 'Próximo a Academia', 'Pró...</td>\n",
       "      <td>Padrão</td>\n",
       "      <td>Usado</td>\n",
       "      <td>500000.0</td>\n",
       "      <td>0.0</td>\n",
       "      <td>451.0</td>\n",
       "      <td>1500.0</td>\n",
       "      <td>Amplo imóvel para venda com 2 quartos, sendo 1...</td>\n",
       "    </tr>\n",
       "    <tr>\n",
       "      <th>30</th>\n",
       "      <td>Apartamento</td>\n",
       "      <td>Botafogo</td>\n",
       "      <td>Point</td>\n",
       "      <td>[-43.190689, -22.9510137]</td>\n",
       "      <td>3</td>\n",
       "      <td>195</td>\n",
       "      <td>['Mobiliado', 'Sauna', 'Cozinha Americana', 'Á...</td>\n",
       "      <td>['Salão de Festas', 'Segurança Interna', 'Comé...</td>\n",
       "      <td>['Próximo a Parques e Áreas Verdes', 'Próximo ...</td>\n",
       "      <td>Destaque</td>\n",
       "      <td>Lançamento</td>\n",
       "      <td>2582000.0</td>\n",
       "      <td>0.0</td>\n",
       "      <td>0.0</td>\n",
       "      <td>0.0</td>\n",
       "      <td>Amplo imóvel para venda com 3 quartos, sendo 1...</td>\n",
       "    </tr>\n",
       "    <tr>\n",
       "      <th>31</th>\n",
       "      <td>Casa</td>\n",
       "      <td>Paciência</td>\n",
       "      <td>Point</td>\n",
       "      <td>[0, 0]</td>\n",
       "      <td>0</td>\n",
       "      <td>231000</td>\n",
       "      <td>['Cozinha Americana', 'Varanda', 'Vista Panorâ...</td>\n",
       "      <td>['Sistema de Incêndio', 'Academia', 'Salão de ...</td>\n",
       "      <td>['Próximo a Áreas de Lazer', 'Próximo a Parque...</td>\n",
       "      <td>Padrão</td>\n",
       "      <td>Usado</td>\n",
       "      <td>24000000.0</td>\n",
       "      <td>0.0</td>\n",
       "      <td>0.0</td>\n",
       "      <td>0.0</td>\n",
       "      <td>Amplo imóvel para venda com 0 quartos, sendo 0...</td>\n",
       "    </tr>\n",
       "    <tr>\n",
       "      <th>32</th>\n",
       "      <td>Casa</td>\n",
       "      <td>Ipanema</td>\n",
       "      <td>Point</td>\n",
       "      <td>[-43.2052848, -22.9814583]</td>\n",
       "      <td>1</td>\n",
       "      <td>120</td>\n",
       "      <td>['Terraço', 'Vista Panorâmica', 'Piscina', 'Ac...</td>\n",
       "      <td>['Salão de Festas', 'Acessibilidade', 'Quadra ...</td>\n",
       "      <td>['Próximo a Comércio Diversos', 'Próximo a Far...</td>\n",
       "      <td>Super Destaque</td>\n",
       "      <td>Usado</td>\n",
       "      <td>2500000.0</td>\n",
       "      <td>0.0</td>\n",
       "      <td>0.0</td>\n",
       "      <td>0.0</td>\n",
       "      <td>Amplo imóvel para venda com 1 quartos, sendo 1...</td>\n",
       "    </tr>\n",
       "    <tr>\n",
       "      <th>33</th>\n",
       "      <td>Cobertura</td>\n",
       "      <td>Vila da Penha</td>\n",
       "      <td>Point</td>\n",
       "      <td>[-43.3083014, -22.8334376]</td>\n",
       "      <td>1</td>\n",
       "      <td>64</td>\n",
       "      <td>['Cozinha Americana', 'Quarto/WC Empregada', '...</td>\n",
       "      <td>['Porteiro 24 Horas', 'Piscina', 'Estacionamen...</td>\n",
       "      <td>[]</td>\n",
       "      <td>Destaque</td>\n",
       "      <td>Usado</td>\n",
       "      <td>270000.0</td>\n",
       "      <td>0.0</td>\n",
       "      <td>360.0</td>\n",
       "      <td>0.0</td>\n",
       "      <td>Amplo imóvel para venda com 2 quartos, sendo 0...</td>\n",
       "    </tr>\n",
       "    <tr>\n",
       "      <th>34</th>\n",
       "      <td>Casa</td>\n",
       "      <td>Jacarepaguá</td>\n",
       "      <td>Point</td>\n",
       "      <td>[-43.4152304, -22.9690832]</td>\n",
       "      <td>0</td>\n",
       "      <td>0</td>\n",
       "      <td>['Área de Serviço', 'Terraço', 'Piscina', 'Clo...</td>\n",
       "      <td>['Playground', 'Acessibilidade', 'Serviço de T...</td>\n",
       "      <td>['Próximo ao Metrô', 'Próximo a Áreas de Lazer...</td>\n",
       "      <td>Padrão</td>\n",
       "      <td>Lançamento</td>\n",
       "      <td>0.0</td>\n",
       "      <td>0.0</td>\n",
       "      <td>0.0</td>\n",
       "      <td>0.0</td>\n",
       "      <td>Amplo imóvel para venda com 0 quartos, sendo 0...</td>\n",
       "    </tr>\n",
       "    <tr>\n",
       "      <th>35</th>\n",
       "      <td>Apartamento</td>\n",
       "      <td>Pechincha</td>\n",
       "      <td>Point</td>\n",
       "      <td>[-43.3490452, -22.9240714]</td>\n",
       "      <td>3</td>\n",
       "      <td>348</td>\n",
       "      <td>['Acessibilidade', 'Churrasqueira', 'Sauna', '...</td>\n",
       "      <td>[]</td>\n",
       "      <td>['Próximo a Escola Particular', 'Próximo a Ser...</td>\n",
       "      <td>Padrão</td>\n",
       "      <td>Lançamento</td>\n",
       "      <td>1100000.0</td>\n",
       "      <td>0.0</td>\n",
       "      <td>0.0</td>\n",
       "      <td>1560.0</td>\n",
       "      <td>Amplo imóvel para venda com 3 quartos, sendo 1...</td>\n",
       "    </tr>\n",
       "    <tr>\n",
       "      <th>36</th>\n",
       "      <td>Casa</td>\n",
       "      <td>Copacabana</td>\n",
       "      <td>Point</td>\n",
       "      <td>[-43.1889208, -22.9751691]</td>\n",
       "      <td>0</td>\n",
       "      <td>240</td>\n",
       "      <td>['Sauna', 'Vista Panorâmica', 'Terraço', 'Mobi...</td>\n",
       "      <td>['Depósito Privativo', 'Elevador', 'Quadra Pol...</td>\n",
       "      <td>['Próximo a Restaurante', 'Próximo ao Metrô', ...</td>\n",
       "      <td>Premium</td>\n",
       "      <td>Lançamento</td>\n",
       "      <td>2730000.0</td>\n",
       "      <td>0.0</td>\n",
       "      <td>1900.0</td>\n",
       "      <td>1700.0</td>\n",
       "      <td>Amplo imóvel para venda com 3 quartos, sendo 0...</td>\n",
       "    </tr>\n",
       "    <tr>\n",
       "      <th>37</th>\n",
       "      <td>Casa</td>\n",
       "      <td>Laranjeiras</td>\n",
       "      <td>Point</td>\n",
       "      <td>[-43.1919165, -22.9358772]</td>\n",
       "      <td>2</td>\n",
       "      <td>85</td>\n",
       "      <td>['Gás Encanado', 'Mobiliado', 'Cozinha America...</td>\n",
       "      <td>['Comércio/Serviços no Condomínio', 'Depósito ...</td>\n",
       "      <td>['Próximo a Serviços de Saúde', 'Próximo a Cen...</td>\n",
       "      <td>Premium</td>\n",
       "      <td>Usado</td>\n",
       "      <td>1260000.0</td>\n",
       "      <td>0.0</td>\n",
       "      <td>890.0</td>\n",
       "      <td>1009.0</td>\n",
       "      <td>Amplo imóvel para venda com 2 quartos, sendo 1...</td>\n",
       "    </tr>\n",
       "    <tr>\n",
       "      <th>38</th>\n",
       "      <td>Apartamento</td>\n",
       "      <td>Ribeira</td>\n",
       "      <td>Point</td>\n",
       "      <td>[-43.1710835, -22.8237953]</td>\n",
       "      <td>1</td>\n",
       "      <td>58</td>\n",
       "      <td>['Área de Serviço', 'Gás Encanado', 'Cozinha A...</td>\n",
       "      <td>['Acessibilidade', 'Aceita Pet', 'Quadra Polie...</td>\n",
       "      <td>['Próximo a Serviços de Saúde']</td>\n",
       "      <td>Super Destaque</td>\n",
       "      <td>Usado</td>\n",
       "      <td>470000.0</td>\n",
       "      <td>0.0</td>\n",
       "      <td>350.0</td>\n",
       "      <td>300.0</td>\n",
       "      <td>Amplo imóvel para venda com 2 quartos, sendo 0...</td>\n",
       "    </tr>\n",
       "    <tr>\n",
       "      <th>39</th>\n",
       "      <td>Imóvel Comercial</td>\n",
       "      <td>Barra da Tijuca</td>\n",
       "      <td>Point</td>\n",
       "      <td>[-43.3752545, -23.0031345]</td>\n",
       "      <td>9</td>\n",
       "      <td>950</td>\n",
       "      <td>['Acessibilidade', 'Cozinha Americana', 'Varan...</td>\n",
       "      <td>['Bicicletário', 'Quadra Poliesportiva']</td>\n",
       "      <td>['Próximo a Áreas de Lazer', 'Próximo a Restau...</td>\n",
       "      <td>Padrão</td>\n",
       "      <td>Usado</td>\n",
       "      <td>6900000.0</td>\n",
       "      <td>0.0</td>\n",
       "      <td>1000.0</td>\n",
       "      <td>1800.0</td>\n",
       "      <td>Amplo imóvel para venda com 6 quartos, sendo 5...</td>\n",
       "    </tr>\n",
       "    <tr>\n",
       "      <th>40</th>\n",
       "      <td>Casa</td>\n",
       "      <td>Jacarepaguá</td>\n",
       "      <td>Point</td>\n",
       "      <td>[0, 0]</td>\n",
       "      <td>1</td>\n",
       "      <td>50</td>\n",
       "      <td>['Sauna', 'Piscina', 'Closet', 'Varanda', 'Ace...</td>\n",
       "      <td>['Quadra Poliesportiva', 'Comércio/Serviços no...</td>\n",
       "      <td>['Próximo ao Shopping', 'Próximo a Escola Part...</td>\n",
       "      <td>Padrão</td>\n",
       "      <td>Usado</td>\n",
       "      <td>244000.0</td>\n",
       "      <td>0.0</td>\n",
       "      <td>450.0</td>\n",
       "      <td>330.0</td>\n",
       "      <td>Amplo imóvel para venda com 2 quartos, sendo 0...</td>\n",
       "    </tr>\n",
       "    <tr>\n",
       "      <th>41</th>\n",
       "      <td>Apartamento</td>\n",
       "      <td>Botafogo</td>\n",
       "      <td>Point</td>\n",
       "      <td>[-43.187335, -22.9564526]</td>\n",
       "      <td>0</td>\n",
       "      <td>0</td>\n",
       "      <td>['Mobiliado', 'Vista Panorâmica']</td>\n",
       "      <td>['Comércio/Serviços no Condomínio', 'Playgroun...</td>\n",
       "      <td>[]</td>\n",
       "      <td>Padrão</td>\n",
       "      <td>Usado</td>\n",
       "      <td>1890000.0</td>\n",
       "      <td>0.0</td>\n",
       "      <td>0.0</td>\n",
       "      <td>0.0</td>\n",
       "      <td>Amplo imóvel para venda com 0 quartos, sendo 0...</td>\n",
       "    </tr>\n",
       "    <tr>\n",
       "      <th>42</th>\n",
       "      <td>Apartamento</td>\n",
       "      <td>Copacabana</td>\n",
       "      <td>Point</td>\n",
       "      <td>[0, 0]</td>\n",
       "      <td>0</td>\n",
       "      <td>70</td>\n",
       "      <td>[]</td>\n",
       "      <td>[]</td>\n",
       "      <td>['Próximo a Serviços de Saúde', 'Próximo a Par...</td>\n",
       "      <td>Padrão</td>\n",
       "      <td>Usado</td>\n",
       "      <td>735000.0</td>\n",
       "      <td>0.0</td>\n",
       "      <td>800.0</td>\n",
       "      <td>700.0</td>\n",
       "      <td>Amplo imóvel para venda com 2 quartos, sendo 0...</td>\n",
       "    </tr>\n",
       "    <tr>\n",
       "      <th>43</th>\n",
       "      <td>Casa</td>\n",
       "      <td>Botafogo</td>\n",
       "      <td>Point</td>\n",
       "      <td>[-43.1816275, -22.9443828]</td>\n",
       "      <td>2</td>\n",
       "      <td>199</td>\n",
       "      <td>['Cozinha Americana', 'Vista Panorâmica', 'Gás...</td>\n",
       "      <td>['Porteiro 24 Horas', 'Playground', 'Segurança...</td>\n",
       "      <td>['Próximo ao Metrô', 'Próximo a Escola Particu...</td>\n",
       "      <td>Super Destaque</td>\n",
       "      <td>Usado</td>\n",
       "      <td>2190000.0</td>\n",
       "      <td>0.0</td>\n",
       "      <td>2050.0</td>\n",
       "      <td>397.0</td>\n",
       "      <td>Amplo imóvel para venda com 4 quartos, sendo 1...</td>\n",
       "    </tr>\n",
       "    <tr>\n",
       "      <th>44</th>\n",
       "      <td>Apartamento</td>\n",
       "      <td>Lapa</td>\n",
       "      <td>Point</td>\n",
       "      <td>[-43.1825899, -22.9144053]</td>\n",
       "      <td>2</td>\n",
       "      <td>170</td>\n",
       "      <td>['Mobiliado', 'Varanda', 'Cozinha Americana', ...</td>\n",
       "      <td>['Elevador', 'Bicicletário', 'Porteiro 24 Hora...</td>\n",
       "      <td>['Próximo a Serviços de Saúde', 'Próximo a Esc...</td>\n",
       "      <td>Destaque</td>\n",
       "      <td>Lançamento</td>\n",
       "      <td>690000.0</td>\n",
       "      <td>0.0</td>\n",
       "      <td>480.0</td>\n",
       "      <td>0.0</td>\n",
       "      <td>Amplo imóvel para venda com 2 quartos, sendo 1...</td>\n",
       "    </tr>\n",
       "    <tr>\n",
       "      <th>45</th>\n",
       "      <td>Cobertura</td>\n",
       "      <td>Copacabana</td>\n",
       "      <td>Point</td>\n",
       "      <td>[-43.1888153, -22.9778673]</td>\n",
       "      <td>2</td>\n",
       "      <td>250</td>\n",
       "      <td>['Ambientes Integrados', 'Sauna', 'Piscina', '...</td>\n",
       "      <td>['Estacionamento Visitantes', 'Estacionamento ...</td>\n",
       "      <td>['Próximo a Serviços de Saúde', 'Próximo a Aca...</td>\n",
       "      <td>Destaque</td>\n",
       "      <td>Lançamento</td>\n",
       "      <td>3000000.0</td>\n",
       "      <td>0.0</td>\n",
       "      <td>1800.0</td>\n",
       "      <td>500.0</td>\n",
       "      <td>Amplo imóvel para venda com 3 quartos, sendo 1...</td>\n",
       "    </tr>\n",
       "    <tr>\n",
       "      <th>46</th>\n",
       "      <td>Apartamento</td>\n",
       "      <td>Rocha</td>\n",
       "      <td>Point</td>\n",
       "      <td>[-43.2499016, -22.9017852]</td>\n",
       "      <td>0</td>\n",
       "      <td>67</td>\n",
       "      <td>['Acessibilidade', 'Gás Encanado', 'Área de Se...</td>\n",
       "      <td>['Segurança Interna', 'Depósito Privativo', 'A...</td>\n",
       "      <td>['Próximo a Comércio Diversos', 'Próximo a Esc...</td>\n",
       "      <td>Super Destaque</td>\n",
       "      <td>Usado</td>\n",
       "      <td>320000.0</td>\n",
       "      <td>0.0</td>\n",
       "      <td>0.0</td>\n",
       "      <td>135.0</td>\n",
       "      <td>Amplo imóvel para venda com 2 quartos, sendo 0...</td>\n",
       "    </tr>\n",
       "    <tr>\n",
       "      <th>47</th>\n",
       "      <td>Casa</td>\n",
       "      <td>Barra da Tijuca</td>\n",
       "      <td>Point</td>\n",
       "      <td>[-43.3413206, -22.99961]</td>\n",
       "      <td>0</td>\n",
       "      <td>370</td>\n",
       "      <td>['Acessibilidade', 'Quarto/WC Empregada', 'Arm...</td>\n",
       "      <td>['Churrasqueira', 'Depósito Privativo', 'Quadr...</td>\n",
       "      <td>['Próximo a Restaurante', 'Próximo a Comércio ...</td>\n",
       "      <td>Super Destaque</td>\n",
       "      <td>Usado</td>\n",
       "      <td>3200000.0</td>\n",
       "      <td>0.0</td>\n",
       "      <td>2520.0</td>\n",
       "      <td>7600.0</td>\n",
       "      <td>Amplo imóvel para venda com 4 quartos, sendo 1...</td>\n",
       "    </tr>\n",
       "    <tr>\n",
       "      <th>48</th>\n",
       "      <td>Casa</td>\n",
       "      <td>Copacabana</td>\n",
       "      <td>Point</td>\n",
       "      <td>[-43.1918012, -22.9756286]</td>\n",
       "      <td>0</td>\n",
       "      <td>30</td>\n",
       "      <td>['Cozinha Americana', 'Mobiliado', 'Sauna', 'P...</td>\n",
       "      <td>['Estacionamento Coberto', 'Quadra Poliesporti...</td>\n",
       "      <td>['Próximo ao Shopping', 'Próximo a Mercado', '...</td>\n",
       "      <td>Padrão</td>\n",
       "      <td>Usado</td>\n",
       "      <td>650000.0</td>\n",
       "      <td>0.0</td>\n",
       "      <td>0.0</td>\n",
       "      <td>0.0</td>\n",
       "      <td>Amplo imóvel para venda com 1 quartos, sendo 0...</td>\n",
       "    </tr>\n",
       "    <tr>\n",
       "      <th>49</th>\n",
       "      <td>Casa</td>\n",
       "      <td>Flamengo</td>\n",
       "      <td>Point</td>\n",
       "      <td>[-43.1758048, -22.9339568]</td>\n",
       "      <td>0</td>\n",
       "      <td>46</td>\n",
       "      <td>['Varanda', 'Closet', 'Armários Planejados', '...</td>\n",
       "      <td>['Serviço de Transporte no Condomínio', 'Bicic...</td>\n",
       "      <td>[]</td>\n",
       "      <td>Padrão</td>\n",
       "      <td>Usado</td>\n",
       "      <td>510000.0</td>\n",
       "      <td>0.0</td>\n",
       "      <td>535.0</td>\n",
       "      <td>724.0</td>\n",
       "      <td>Amplo imóvel para venda com 1 quartos, sendo 0...</td>\n",
       "    </tr>\n",
       "  </tbody>\n",
       "</table>\n",
       "</div>"
      ],
      "text/plain": [
       "   imovel_tipos_propriedade    imovel_endereco_bairro  \\\n",
       "0                      Casa           Barra da Tijuca   \n",
       "1               Apartamento              Campo Grande   \n",
       "2                 Cobertura           Barra da Tijuca   \n",
       "3                 Cobertura           Barra da Tijuca   \n",
       "4            Sala Comercial                    Glória   \n",
       "5                      Casa               Vila Isabel   \n",
       "6                      Casa                   Andaraí   \n",
       "7               Apartamento                Copacabana   \n",
       "8               Consultório  Recreio dos Bandeirantes   \n",
       "9                      Casa  Recreio dos Bandeirantes   \n",
       "10                     Casa                    Tijuca   \n",
       "11              Apartamento                Copacabana   \n",
       "12              Apartamento                     Méier   \n",
       "13              Consultório  Recreio dos Bandeirantes   \n",
       "14              Apartamento  Recreio dos Bandeirantes   \n",
       "15                     Casa               Vila Isabel   \n",
       "16              Apartamento              Campo Grande   \n",
       "17           Sala Comercial                Copacabana   \n",
       "18                     Casa                   Ipanema   \n",
       "19           Sala Comercial                 Paciência   \n",
       "20              Apartamento   Freguesia (Jacarepaguá)   \n",
       "21              Apartamento            Vargem Pequena   \n",
       "22              Apartamento                    Tijuca   \n",
       "23                     Casa  Recreio dos Bandeirantes   \n",
       "24              Consultório  Recreio dos Bandeirantes   \n",
       "25              Apartamento                 Pechincha   \n",
       "26              Apartamento                Copacabana   \n",
       "27              Apartamento            Vargem Pequena   \n",
       "28                     Casa                 Freguesia   \n",
       "29              Apartamento  Recreio dos Bandeirantes   \n",
       "30              Apartamento                  Botafogo   \n",
       "31                     Casa                 Paciência   \n",
       "32                     Casa                   Ipanema   \n",
       "33                Cobertura             Vila da Penha   \n",
       "34                     Casa               Jacarepaguá   \n",
       "35              Apartamento                 Pechincha   \n",
       "36                     Casa                Copacabana   \n",
       "37                     Casa               Laranjeiras   \n",
       "38              Apartamento                   Ribeira   \n",
       "39         Imóvel Comercial           Barra da Tijuca   \n",
       "40                     Casa               Jacarepaguá   \n",
       "41              Apartamento                  Botafogo   \n",
       "42              Apartamento                Copacabana   \n",
       "43                     Casa                  Botafogo   \n",
       "44              Apartamento                      Lapa   \n",
       "45                Cobertura                Copacabana   \n",
       "46              Apartamento                     Rocha   \n",
       "47                     Casa           Barra da Tijuca   \n",
       "48                     Casa                Copacabana   \n",
       "49                     Casa                  Flamengo   \n",
       "\n",
       "   imovel_endereco_localizacao_type imovel_endereco_localizacao_coordinates  \\\n",
       "0                             Point              [-43.3039086, -23.0139692]   \n",
       "1                             Point                                  [0, 0]   \n",
       "2                             Point              [-43.3037186, -22.9951304]   \n",
       "3                             Point              [-43.3548121, -23.0097423]   \n",
       "4                             Point              [-43.1779703, -22.9174894]   \n",
       "5                             Point                                  [0, 0]   \n",
       "6                             Point         [-43.252201188, -22.9282608539]   \n",
       "7                             Point               [-43.1749613, -22.964604]   \n",
       "8                             Point               [-43.453754, -23.0102127]   \n",
       "9                             Point              [-43.5129166, -23.0241139]   \n",
       "10                            Point                [-43.2369414, -22.93291]   \n",
       "11                            Point              [-49.0607072, -26.9225117]   \n",
       "12                            Point              [-49.0607072, -26.9225117]   \n",
       "13                            Point              [-43.5010964, -23.0249208]   \n",
       "14                            Point              [-43.4842556, -23.0302751]   \n",
       "15                            Point              [-43.2427336, -22.9185964]   \n",
       "16                            Point              [-43.1728965, -22.9068467]   \n",
       "17                            Point              [-43.1857067, -22.9670207]   \n",
       "18                            Point              [-43.2019364, -22.9832228]   \n",
       "19                            Point              [-43.6220075, -22.8938151]   \n",
       "20                            Point              [-43.1721422, -22.7894064]   \n",
       "21                            Point               [-43.4516177, -22.993534]   \n",
       "22                            Point               [-43.2377311, -22.919436]   \n",
       "23                            Point               [-43.482437, -23.0061018]   \n",
       "24                            Point              [-43.4656992, -23.0226712]   \n",
       "25                            Point              [-49.0607072, -26.9225117]   \n",
       "26                            Point              [-43.1874754, -22.9682656]   \n",
       "27                            Point               [-43.4516177, -22.993534]   \n",
       "28                            Point              [-43.3273079, -22.9354146]   \n",
       "29                            Point              [-43.4710229, -23.0170387]   \n",
       "30                            Point               [-43.190689, -22.9510137]   \n",
       "31                            Point                                  [0, 0]   \n",
       "32                            Point              [-43.2052848, -22.9814583]   \n",
       "33                            Point              [-43.3083014, -22.8334376]   \n",
       "34                            Point              [-43.4152304, -22.9690832]   \n",
       "35                            Point              [-43.3490452, -22.9240714]   \n",
       "36                            Point              [-43.1889208, -22.9751691]   \n",
       "37                            Point              [-43.1919165, -22.9358772]   \n",
       "38                            Point              [-43.1710835, -22.8237953]   \n",
       "39                            Point              [-43.3752545, -23.0031345]   \n",
       "40                            Point                                  [0, 0]   \n",
       "41                            Point               [-43.187335, -22.9564526]   \n",
       "42                            Point                                  [0, 0]   \n",
       "43                            Point              [-43.1816275, -22.9443828]   \n",
       "44                            Point              [-43.1825899, -22.9144053]   \n",
       "45                            Point              [-43.1888153, -22.9778673]   \n",
       "46                            Point              [-43.2499016, -22.9017852]   \n",
       "47                            Point                [-43.3413206, -22.99961]   \n",
       "48                            Point              [-43.1918012, -22.9756286]   \n",
       "49                            Point              [-43.1758048, -22.9339568]   \n",
       "\n",
       "    imovel_vagasGaragem  imovel_area  \\\n",
       "0                     4          279   \n",
       "1                     1           60   \n",
       "2                     2          380   \n",
       "3                     1           73   \n",
       "4                     1           32   \n",
       "5                     2          164   \n",
       "6                     1           68   \n",
       "7                     1          110   \n",
       "8                     4          214   \n",
       "9                     1           82   \n",
       "10                    2          230   \n",
       "11                    1          135   \n",
       "12                    1           63   \n",
       "13                    0            0   \n",
       "14                    1           96   \n",
       "15                    1           66   \n",
       "16                    0           40   \n",
       "17                    1           80   \n",
       "18                    2          240   \n",
       "19                    1           45   \n",
       "20                    1           71   \n",
       "21                    0            0   \n",
       "22                    2          136   \n",
       "23                    2          168   \n",
       "24                    4          300   \n",
       "25                    2          123   \n",
       "26                    1          113   \n",
       "27                    0            0   \n",
       "28                    0            0   \n",
       "29                    2          112   \n",
       "30                    3          195   \n",
       "31                    0       231000   \n",
       "32                    1          120   \n",
       "33                    1           64   \n",
       "34                    0            0   \n",
       "35                    3          348   \n",
       "36                    0          240   \n",
       "37                    2           85   \n",
       "38                    1           58   \n",
       "39                    9          950   \n",
       "40                    1           50   \n",
       "41                    0            0   \n",
       "42                    0           70   \n",
       "43                    2          199   \n",
       "44                    2          170   \n",
       "45                    2          250   \n",
       "46                    0           67   \n",
       "47                    0          370   \n",
       "48                    0           30   \n",
       "49                    0           46   \n",
       "\n",
       "                   imovel_caracteristicas_propriedade  \\\n",
       "0   ['Área de Serviço', 'Terraço', 'Churrasqueira'...   \n",
       "1                                           ['Sauna']   \n",
       "2   ['Acessibilidade', 'Área de Serviço', 'Sauna',...   \n",
       "3   ['Vista Panorâmica', 'Piscina', 'Sauna', 'Clos...   \n",
       "4                             ['Armários Planejados']   \n",
       "5   ['Mobiliado', 'Varanda', 'Closet', 'Churrasque...   \n",
       "6   ['Churrasqueira', 'Gás Encanado', 'Cozinha Ame...   \n",
       "7   ['Quarto/WC Empregada', 'Gás Encanado', 'Sauna...   \n",
       "8   ['Acessibilidade', 'Mobiliado', 'Churrasqueira...   \n",
       "9   ['Área de Serviço', 'Terraço', 'Ambientes Inte...   \n",
       "10  ['Closet', 'Ambientes Integrados', 'Área de Se...   \n",
       "11                                                 []   \n",
       "12  ['Piscina', 'Quarto/WC Empregada', 'Gás Encana...   \n",
       "13  ['Sauna', 'Terraço', 'Closet', 'Gás Encanado',...   \n",
       "14                                                 []   \n",
       "15  ['Quarto/WC Empregada', 'Varanda', 'Piscina', ...   \n",
       "16  ['Vista Panorâmica', 'Sauna', 'Área de Serviço...   \n",
       "17  ['Quarto/WC Empregada', 'Churrasqueira', 'Sauna']   \n",
       "18  ['Sauna', 'Ambientes Integrados', 'Armários Pl...   \n",
       "19  ['Mobiliado', 'Acessibilidade', 'Área de Servi...   \n",
       "20  ['Sauna', 'Gás Encanado', 'Terraço', 'Ambiente...   \n",
       "21                                                 []   \n",
       "22  ['Terraço', 'Armários Planejados', 'Ambientes ...   \n",
       "23  ['Área de Serviço', 'Quarto/WC Empregada', 'Cl...   \n",
       "24  ['Cozinha Americana', 'Gás Encanado', 'Mobilia...   \n",
       "25  ['Área de Serviço', 'Ambientes Integrados', 'V...   \n",
       "26  ['Gás Encanado', 'Cozinha Americana', 'Vista P...   \n",
       "27  ['Vista Panorâmica', 'Quarto/WC Empregada', 'S...   \n",
       "28  ['Armários Planejados', 'Piscina', 'Churrasque...   \n",
       "29                                                 []   \n",
       "30  ['Mobiliado', 'Sauna', 'Cozinha Americana', 'Á...   \n",
       "31  ['Cozinha Americana', 'Varanda', 'Vista Panorâ...   \n",
       "32  ['Terraço', 'Vista Panorâmica', 'Piscina', 'Ac...   \n",
       "33  ['Cozinha Americana', 'Quarto/WC Empregada', '...   \n",
       "34  ['Área de Serviço', 'Terraço', 'Piscina', 'Clo...   \n",
       "35  ['Acessibilidade', 'Churrasqueira', 'Sauna', '...   \n",
       "36  ['Sauna', 'Vista Panorâmica', 'Terraço', 'Mobi...   \n",
       "37  ['Gás Encanado', 'Mobiliado', 'Cozinha America...   \n",
       "38  ['Área de Serviço', 'Gás Encanado', 'Cozinha A...   \n",
       "39  ['Acessibilidade', 'Cozinha Americana', 'Varan...   \n",
       "40  ['Sauna', 'Piscina', 'Closet', 'Varanda', 'Ace...   \n",
       "41                  ['Mobiliado', 'Vista Panorâmica']   \n",
       "42                                                 []   \n",
       "43  ['Cozinha Americana', 'Vista Panorâmica', 'Gás...   \n",
       "44  ['Mobiliado', 'Varanda', 'Cozinha Americana', ...   \n",
       "45  ['Ambientes Integrados', 'Sauna', 'Piscina', '...   \n",
       "46  ['Acessibilidade', 'Gás Encanado', 'Área de Se...   \n",
       "47  ['Acessibilidade', 'Quarto/WC Empregada', 'Arm...   \n",
       "48  ['Cozinha Americana', 'Mobiliado', 'Sauna', 'P...   \n",
       "49  ['Varanda', 'Closet', 'Armários Planejados', '...   \n",
       "\n",
       "                    imovel_caracteristicas_condominio  \\\n",
       "0   ['Churrasqueira', 'Salão de Jogos', 'Sauna', '...   \n",
       "1   ['Elevador', 'Playground', 'Salão de Festas', ...   \n",
       "2   ['Sauna', 'Playground', 'Quadra Poliesportiva'...   \n",
       "3   ['Quadra Poliesportiva', 'Aceita Pet', 'Playgr...   \n",
       "4   ['Quadra Poliesportiva', 'Porteiro 24 Horas', ...   \n",
       "5   ['Aceita Pet', 'Quadra Poliesportiva', 'Playgr...   \n",
       "6   ['Sauna', 'Sistema de Incêndio', 'Estacionamen...   \n",
       "7   ['Piscina', 'Comércio/Serviços no Condomínio',...   \n",
       "8   ['Aceita Pet', 'Salão de Festas', 'Sauna', 'De...   \n",
       "9   ['Piscina', 'Salão de Festas', 'Estacionamento...   \n",
       "10  ['Segurança Interna', 'Piscina', 'Salão de Jog...   \n",
       "11                                   ['Bicicletário']   \n",
       "12  ['Sauna', 'Estacionamento Coberto', 'Porteiro ...   \n",
       "13  ['Playground', 'Aceita Pet', 'Porteiro 24 Horas']   \n",
       "14      ['Quadra Poliesportiva', 'Porteiro 24 Horas']   \n",
       "15                           ['Quadra Poliesportiva']   \n",
       "16  ['Bicicletário', 'Comércio/Serviços no Condomí...   \n",
       "17  ['Depósito Privativo', 'Bicicletário', 'Churra...   \n",
       "18             ['Elevador', 'Estacionamento Coberto']   \n",
       "19  ['Sistema de Incêndio', 'Acessibilidade', 'Sal...   \n",
       "20    ['Salão de Festas', 'Bicicletário', 'Academia']   \n",
       "21  ['Quadra Poliesportiva', 'Porteiro 24 Horas', ...   \n",
       "22  ['Comércio/Serviços no Condomínio', 'Depósito ...   \n",
       "23  ['Serviço de Transporte no Condomínio', 'Eleva...   \n",
       "24  ['Estacionamento Visitantes', 'Elevador', 'Ace...   \n",
       "25  ['Elevador', 'Salão de Festas', 'Quadra Polies...   \n",
       "26  ['Sauna', 'Quadra Poliesportiva', 'Porteiro 24...   \n",
       "27  ['Quadra Poliesportiva', 'Bicicletário', 'Play...   \n",
       "28  ['Piscina', 'Quadra Poliesportiva', 'Playgroun...   \n",
       "29  ['Salão de Jogos', 'Quadra Poliesportiva', 'El...   \n",
       "30  ['Salão de Festas', 'Segurança Interna', 'Comé...   \n",
       "31  ['Sistema de Incêndio', 'Academia', 'Salão de ...   \n",
       "32  ['Salão de Festas', 'Acessibilidade', 'Quadra ...   \n",
       "33  ['Porteiro 24 Horas', 'Piscina', 'Estacionamen...   \n",
       "34  ['Playground', 'Acessibilidade', 'Serviço de T...   \n",
       "35                                                 []   \n",
       "36  ['Depósito Privativo', 'Elevador', 'Quadra Pol...   \n",
       "37  ['Comércio/Serviços no Condomínio', 'Depósito ...   \n",
       "38  ['Acessibilidade', 'Aceita Pet', 'Quadra Polie...   \n",
       "39           ['Bicicletário', 'Quadra Poliesportiva']   \n",
       "40  ['Quadra Poliesportiva', 'Comércio/Serviços no...   \n",
       "41  ['Comércio/Serviços no Condomínio', 'Playgroun...   \n",
       "42                                                 []   \n",
       "43  ['Porteiro 24 Horas', 'Playground', 'Segurança...   \n",
       "44  ['Elevador', 'Bicicletário', 'Porteiro 24 Hora...   \n",
       "45  ['Estacionamento Visitantes', 'Estacionamento ...   \n",
       "46  ['Segurança Interna', 'Depósito Privativo', 'A...   \n",
       "47  ['Churrasqueira', 'Depósito Privativo', 'Quadr...   \n",
       "48  ['Estacionamento Coberto', 'Quadra Poliesporti...   \n",
       "49  ['Serviço de Transporte no Condomínio', 'Bicic...   \n",
       "\n",
       "                       imovel_caracteristicas_entorno  \\\n",
       "0   ['Próximo a Escola Particular', 'Próximo ao Me...   \n",
       "1   ['Próximo ao Shopping', 'Próximo a Áreas de La...   \n",
       "2                     ['Próximo a Escola Particular']   \n",
       "3   ['Próximo a Farmácia', 'Próximo a Academia', '...   \n",
       "4   ['Próximo a Centro Empresarial', 'Próximo a Ár...   \n",
       "5   ['Próximo a Centro Empresarial', 'Próximo a Es...   \n",
       "6   ['Próximo ao Metrô', 'Próximo ao Shopping', 'P...   \n",
       "7   ['Próximo a Escola Particular', 'Próximo a Com...   \n",
       "8         ['Próximo a Mercado', 'Próximo a Farmácia']   \n",
       "9   ['Próximo ao Metrô', 'Próximo a Comércio Diver...   \n",
       "10  ['Próximo a Centro Empresarial', 'Próximo a Es...   \n",
       "11  ['Próximo a Farmácia', 'Próximo a Áreas de Laz...   \n",
       "12  ['Próximo a Comércio Diversos', 'Próximo a Esc...   \n",
       "13  ['Próximo a Restaurante', 'Próximo ao Metrô', ...   \n",
       "14  ['Próximo ao Metrô', 'Próximo a Mercado', 'Pró...   \n",
       "15  ['Próximo ao Shopping', 'Próximo a Farmácia', ...   \n",
       "16  ['Próximo a Escola Particular', 'Próximo a Pra...   \n",
       "17  ['Próximo a Farmácia', 'Próximo a Escola Parti...   \n",
       "18                   ['Próximo a Centro Empresarial']   \n",
       "19  ['Próximo a Centro Empresarial', 'Próximo a Co...   \n",
       "20  ['Próximo a Academia', 'Próximo a Mercado', 'P...   \n",
       "21  ['Próximo ao Shopping', 'Próximo a Parques e Á...   \n",
       "22  ['Próximo a Restaurante', 'Próximo a Farmácia'...   \n",
       "23  ['Próximo a Academia', 'Próximo a Escola Parti...   \n",
       "24   ['Próximo ao Metrô', 'Próximo a Escola Pública']   \n",
       "25  ['Próximo a Escola Particular', 'Próximo a Mer...   \n",
       "26  ['Próximo a Serviços de Saúde', 'Próximo a Mer...   \n",
       "27  ['Próximo ao Metrô', 'Próximo a Academia', 'Pr...   \n",
       "28  ['Próximo a Parques e Áreas Verdes', 'Próximo ...   \n",
       "29  ['Próximo a Praia', 'Próximo a Academia', 'Pró...   \n",
       "30  ['Próximo a Parques e Áreas Verdes', 'Próximo ...   \n",
       "31  ['Próximo a Áreas de Lazer', 'Próximo a Parque...   \n",
       "32  ['Próximo a Comércio Diversos', 'Próximo a Far...   \n",
       "33                                                 []   \n",
       "34  ['Próximo ao Metrô', 'Próximo a Áreas de Lazer...   \n",
       "35  ['Próximo a Escola Particular', 'Próximo a Ser...   \n",
       "36  ['Próximo a Restaurante', 'Próximo ao Metrô', ...   \n",
       "37  ['Próximo a Serviços de Saúde', 'Próximo a Cen...   \n",
       "38                    ['Próximo a Serviços de Saúde']   \n",
       "39  ['Próximo a Áreas de Lazer', 'Próximo a Restau...   \n",
       "40  ['Próximo ao Shopping', 'Próximo a Escola Part...   \n",
       "41                                                 []   \n",
       "42  ['Próximo a Serviços de Saúde', 'Próximo a Par...   \n",
       "43  ['Próximo ao Metrô', 'Próximo a Escola Particu...   \n",
       "44  ['Próximo a Serviços de Saúde', 'Próximo a Esc...   \n",
       "45  ['Próximo a Serviços de Saúde', 'Próximo a Aca...   \n",
       "46  ['Próximo a Comércio Diversos', 'Próximo a Esc...   \n",
       "47  ['Próximo a Restaurante', 'Próximo a Comércio ...   \n",
       "48  ['Próximo ao Shopping', 'Próximo a Mercado', '...   \n",
       "49                                                 []   \n",
       "\n",
       "   anuncio_tipos_publicacao anuncio_tipos_listagem  anuncio_valores_venda  \\\n",
       "0                    Padrão             Lançamento              2400000.0   \n",
       "1                    Padrão                  Usado               200000.0   \n",
       "2                   Premium                  Usado              4400000.0   \n",
       "3                    Padrão                  Usado              1100000.0   \n",
       "4                    Padrão                  Usado               260000.0   \n",
       "5                    Padrão             Lançamento               280000.0   \n",
       "6                  Destaque                  Usado               300000.0   \n",
       "7                   Premium                  Usado               950000.0   \n",
       "8            Super Destaque                  Usado              1390000.0   \n",
       "9                    Padrão                  Usado               439000.0   \n",
       "10                 Destaque             Lançamento               960000.0   \n",
       "11                   Padrão                  Usado              1080000.0   \n",
       "12                   Padrão                  Usado               400000.0   \n",
       "13                   Padrão                  Usado               370583.0   \n",
       "14                   Padrão                  Usado               490000.0   \n",
       "15                   Padrão                  Usado               440000.0   \n",
       "16                   Padrão                  Usado               700000.0   \n",
       "17                 Destaque                  Usado              1000000.0   \n",
       "18                 Destaque                  Usado              4500000.0   \n",
       "19                   Padrão                  Usado               135000.0   \n",
       "20                 Destaque                  Usado               300000.0   \n",
       "21                 Destaque                  Usado                    0.0   \n",
       "22                   Padrão                  Usado              1285000.0   \n",
       "23                   Padrão             Lançamento               409900.0   \n",
       "24                   Padrão                  Usado              1600000.0   \n",
       "25                 Destaque                  Usado               505000.0   \n",
       "26           Super Destaque                  Usado              1190000.0   \n",
       "27           Super Destaque                  Usado                    0.0   \n",
       "28                 Destaque             Lançamento                    0.0   \n",
       "29                   Padrão                  Usado               500000.0   \n",
       "30                 Destaque             Lançamento              2582000.0   \n",
       "31                   Padrão                  Usado             24000000.0   \n",
       "32           Super Destaque                  Usado              2500000.0   \n",
       "33                 Destaque                  Usado               270000.0   \n",
       "34                   Padrão             Lançamento                    0.0   \n",
       "35                   Padrão             Lançamento              1100000.0   \n",
       "36                  Premium             Lançamento              2730000.0   \n",
       "37                  Premium                  Usado              1260000.0   \n",
       "38           Super Destaque                  Usado               470000.0   \n",
       "39                   Padrão                  Usado              6900000.0   \n",
       "40                   Padrão                  Usado               244000.0   \n",
       "41                   Padrão                  Usado              1890000.0   \n",
       "42                   Padrão                  Usado               735000.0   \n",
       "43           Super Destaque                  Usado              2190000.0   \n",
       "44                 Destaque             Lançamento               690000.0   \n",
       "45                 Destaque             Lançamento              3000000.0   \n",
       "46           Super Destaque                  Usado               320000.0   \n",
       "47           Super Destaque                  Usado              3200000.0   \n",
       "48                   Padrão                  Usado               650000.0   \n",
       "49                   Padrão                  Usado               510000.0   \n",
       "\n",
       "    anuncio_valores_aluguel  anuncio_valores_condominio  anuncio_valores_iptu  \\\n",
       "0                       0.0                       790.0                5700.0   \n",
       "1                       0.0                         0.0                   0.0   \n",
       "2                       0.0                      1200.0                 850.0   \n",
       "3                       0.0                      1300.0                 364.0   \n",
       "4                       0.0                       450.0                 800.0   \n",
       "5                       0.0                       583.0                 188.0   \n",
       "6                       0.0                       350.0                   0.0   \n",
       "7                       0.0                       800.0                 120.0   \n",
       "8                       0.0                       750.0                3282.0   \n",
       "9                       0.0                       620.0                   1.0   \n",
       "10                      0.0                       680.0                 900.0   \n",
       "11                      0.0                      1000.0                1900.0   \n",
       "12                      0.0                       628.0                 661.0   \n",
       "13                      0.0                         0.0                   0.0   \n",
       "14                      0.0                       480.0                 200.0   \n",
       "15                      0.0                       500.0                  25.0   \n",
       "16                      0.0                         0.0                   0.0   \n",
       "17                      0.0                       630.0                 112.0   \n",
       "18                      0.0                      2300.0                   0.0   \n",
       "19                      0.0                       300.0                   0.0   \n",
       "20                      0.0                       370.0                 243.0   \n",
       "21                      0.0                         0.0                   0.0   \n",
       "22                      0.0                      1300.0                   0.0   \n",
       "23                      0.0                       490.0                   0.0   \n",
       "24                      0.0                         0.0                   0.0   \n",
       "25                      0.0                       500.0                   0.0   \n",
       "26                      0.0                       750.0                1904.0   \n",
       "27                      0.0                         0.0                   0.0   \n",
       "28                      0.0                         0.0                   0.0   \n",
       "29                      0.0                       451.0                1500.0   \n",
       "30                      0.0                         0.0                   0.0   \n",
       "31                      0.0                         0.0                   0.0   \n",
       "32                      0.0                         0.0                   0.0   \n",
       "33                      0.0                       360.0                   0.0   \n",
       "34                      0.0                         0.0                   0.0   \n",
       "35                      0.0                         0.0                1560.0   \n",
       "36                      0.0                      1900.0                1700.0   \n",
       "37                      0.0                       890.0                1009.0   \n",
       "38                      0.0                       350.0                 300.0   \n",
       "39                      0.0                      1000.0                1800.0   \n",
       "40                      0.0                       450.0                 330.0   \n",
       "41                      0.0                         0.0                   0.0   \n",
       "42                      0.0                       800.0                 700.0   \n",
       "43                      0.0                      2050.0                 397.0   \n",
       "44                      0.0                       480.0                   0.0   \n",
       "45                      0.0                      1800.0                 500.0   \n",
       "46                      0.0                         0.0                 135.0   \n",
       "47                      0.0                      2520.0                7600.0   \n",
       "48                      0.0                         0.0                   0.0   \n",
       "49                      0.0                       535.0                 724.0   \n",
       "\n",
       "                                    anuncio_descricao  \n",
       "0   Amplo imóvel para venda com 3 quartos, sendo 1...  \n",
       "1   Amplo imóvel para venda com 2 quartos, sendo 0...  \n",
       "2   Amplo imóvel para venda com 5 quartos, sendo 4...  \n",
       "3   Amplo imóvel para venda com 2 quartos, sendo 1...  \n",
       "4   Amplo imóvel para venda com 0 quartos, sendo 0...  \n",
       "5   Amplo imóvel para venda com 1 quartos, sendo 0...  \n",
       "6   Amplo imóvel para venda com 2 quartos, sendo 0...  \n",
       "7   Amplo imóvel para venda com 3 quartos, sendo 1...  \n",
       "8   Amplo imóvel para venda com 4 quartos, sendo 1...  \n",
       "9   Amplo imóvel para venda com 3 quartos, sendo 1...  \n",
       "10  Amplo imóvel para venda com 3 quartos, sendo 0...  \n",
       "11  Amplo imóvel para venda com 3 quartos, sendo 0...  \n",
       "12  Amplo imóvel para venda com 2 quartos, sendo 0...  \n",
       "13  Amplo imóvel para venda com 0 quartos, sendo 0...  \n",
       "14  Amplo imóvel para venda com 2 quartos, sendo 1...  \n",
       "15  Amplo imóvel para venda com 2 quartos, sendo 0...  \n",
       "16  Amplo imóvel para venda com 2 quartos, sendo 0...  \n",
       "17  Amplo imóvel para venda com 2 quartos, sendo 0...  \n",
       "18  Amplo imóvel para venda com 3 quartos, sendo 1...  \n",
       "19  Amplo imóvel para venda com 2 quartos, sendo 0...  \n",
       "20  Amplo imóvel para venda com 3 quartos, sendo 0...  \n",
       "21  Amplo imóvel para venda com 0 quartos, sendo 0...  \n",
       "22  Amplo imóvel para venda com 3 quartos, sendo 1...  \n",
       "23  Amplo imóvel para venda com 2 quartos, sendo 1...  \n",
       "24  Amplo imóvel para venda com 4 quartos, sendo 4...  \n",
       "25  Amplo imóvel para venda com 3 quartos, sendo 1...  \n",
       "26  Amplo imóvel para venda com 3 quartos, sendo 0...  \n",
       "27  Amplo imóvel para venda com 0 quartos, sendo 0...  \n",
       "28  Amplo imóvel para venda com 0 quartos, sendo 0...  \n",
       "29  Amplo imóvel para venda com 2 quartos, sendo 1...  \n",
       "30  Amplo imóvel para venda com 3 quartos, sendo 1...  \n",
       "31  Amplo imóvel para venda com 0 quartos, sendo 0...  \n",
       "32  Amplo imóvel para venda com 1 quartos, sendo 1...  \n",
       "33  Amplo imóvel para venda com 2 quartos, sendo 0...  \n",
       "34  Amplo imóvel para venda com 0 quartos, sendo 0...  \n",
       "35  Amplo imóvel para venda com 3 quartos, sendo 1...  \n",
       "36  Amplo imóvel para venda com 3 quartos, sendo 0...  \n",
       "37  Amplo imóvel para venda com 2 quartos, sendo 1...  \n",
       "38  Amplo imóvel para venda com 2 quartos, sendo 0...  \n",
       "39  Amplo imóvel para venda com 6 quartos, sendo 5...  \n",
       "40  Amplo imóvel para venda com 2 quartos, sendo 0...  \n",
       "41  Amplo imóvel para venda com 0 quartos, sendo 0...  \n",
       "42  Amplo imóvel para venda com 2 quartos, sendo 0...  \n",
       "43  Amplo imóvel para venda com 4 quartos, sendo 1...  \n",
       "44  Amplo imóvel para venda com 2 quartos, sendo 1...  \n",
       "45  Amplo imóvel para venda com 3 quartos, sendo 1...  \n",
       "46  Amplo imóvel para venda com 2 quartos, sendo 0...  \n",
       "47  Amplo imóvel para venda com 4 quartos, sendo 1...  \n",
       "48  Amplo imóvel para venda com 1 quartos, sendo 0...  \n",
       "49  Amplo imóvel para venda com 1 quartos, sendo 0...  "
      ]
     },
     "execution_count": 84,
     "metadata": {},
     "output_type": "execute_result"
    }
   ],
   "source": [
    "dados_normal_listings=pd.json_normalize(data=dados.normal,sep=\"_\",record_path=\"listings\")\n",
    "dados_normal_listings"
   ]
  },
  {
   "cell_type": "code",
   "execution_count": 25,
   "metadata": {},
   "outputs": [
    {
     "data": {
      "text/plain": [
       "[{'imovel': {'tipos': {'propriedade': 'Casa'},\n",
       "   'endereco': {'bairro': 'Barra da Tijuca',\n",
       "    'localizacao': {'type': 'Point',\n",
       "     'coordinates': [-43.3039086, -23.0139692]}},\n",
       "   'vagasGaragem': 4,\n",
       "   'area': 279,\n",
       "   'caracteristicas': {'propriedade': \"['Área de Serviço', 'Terraço', 'Churrasqueira', 'Quarto/WC Empregada', 'Sauna', 'Varanda', 'Gás Encanado', 'Closet', 'Piscina', 'Mobiliado', 'Armários Planejados', 'Acessibilidade']\",\n",
       "    'condominio': \"['Churrasqueira', 'Salão de Jogos', 'Sauna', 'Estacionamento Visitantes', 'Playground', 'Salão de Festas', 'Porteiro 24 Horas', 'Estacionamento Coberto', 'Aceita Pet', 'Sistema de Incêndio', 'Segurança Interna', 'Bicicletário', 'Acessibilidade']\",\n",
       "    'entorno': \"['Próximo a Escola Particular', 'Próximo ao Metrô', 'Próximo a Serviços de Saúde', 'Próximo a Centro Empresarial', 'Próximo a Restaurante', 'Próximo a Academia', 'Próximo a Praia', 'Próximo a Escola Pública', 'Próximo a Farmácia', 'Próximo a Parques e Áreas Verdes', 'Próximo ao Shopping', 'Próximo a Áreas de Lazer', 'Próximo a Mercado', 'Próximo a Comércio Diversos']\"}},\n",
       "  'anuncio': {'tipos': {'publicacao': 'Padrão', 'listagem': 'Lançamento'},\n",
       "   'valores': {'venda': 2400000.0,\n",
       "    'aluguel': 0.0,\n",
       "    'condominio': 790.0,\n",
       "    'iptu': 5700.0},\n",
       "   'descricao': 'Amplo imóvel para venda com 3 quartos, sendo 1 suítes, e 2 banheiros no total.'}},\n",
       " {'imovel': {'tipos': {'propriedade': 'Apartamento'},\n",
       "   'endereco': {'bairro': 'Campo Grande',\n",
       "    'localizacao': {'type': 'Point', 'coordinates': [0, 0]}},\n",
       "   'vagasGaragem': 1,\n",
       "   'area': 60,\n",
       "   'caracteristicas': {'propriedade': \"['Sauna']\",\n",
       "    'condominio': \"['Elevador', 'Playground', 'Salão de Festas', 'Sistema de Incêndio', 'Salão de Jogos', 'Depósito Privativo', 'Porteiro 24 Horas', 'Academia', 'Churrasqueira', 'Quadra Poliesportiva']\",\n",
       "    'entorno': \"['Próximo ao Shopping', 'Próximo a Áreas de Lazer', 'Próximo a Restaurante', 'Próximo a Farmácia', 'Próximo a Academia', 'Próximo a Mercado', 'Próximo a Comércio Diversos', 'Próximo a Centro Empresarial']\"}},\n",
       "  'anuncio': {'tipos': {'publicacao': 'Padrão', 'listagem': 'Usado'},\n",
       "   'valores': {'venda': 200000.0,\n",
       "    'aluguel': 0.0,\n",
       "    'condominio': 0.0,\n",
       "    'iptu': 0.0},\n",
       "   'descricao': 'Amplo imóvel para venda com 2 quartos, sendo 0 suítes, e 1 banheiros no total.'}},\n",
       " {'imovel': {'tipos': {'propriedade': 'Cobertura'},\n",
       "   'endereco': {'bairro': 'Barra da Tijuca',\n",
       "    'localizacao': {'type': 'Point',\n",
       "     'coordinates': [-43.3037186, -22.9951304]}},\n",
       "   'vagasGaragem': 2,\n",
       "   'area': 380,\n",
       "   'caracteristicas': {'propriedade': \"['Acessibilidade', 'Área de Serviço', 'Sauna', 'Ambientes Integrados', 'Gás Encanado', 'Vista Panorâmica', 'Varanda', 'Closet', 'Quarto/WC Empregada', 'Churrasqueira', 'Piscina']\",\n",
       "    'condominio': \"['Sauna', 'Playground', 'Quadra Poliesportiva', 'Salão de Festas', 'Serviço de Transporte no Condomínio', 'Sistema de Incêndio', 'Salão de Jogos', 'Piscina', 'Aceita Pet']\",\n",
       "    'entorno': \"['Próximo a Escola Particular']\"}},\n",
       "  'anuncio': {'tipos': {'publicacao': 'Premium', 'listagem': 'Usado'},\n",
       "   'valores': {'venda': 4400000.0,\n",
       "    'aluguel': 0.0,\n",
       "    'condominio': 1200.0,\n",
       "    'iptu': 850.0},\n",
       "   'descricao': 'Amplo imóvel para venda com 5 quartos, sendo 4 suítes, e 5 banheiros no total.'}},\n",
       " {'imovel': {'tipos': {'propriedade': 'Cobertura'},\n",
       "   'endereco': {'bairro': 'Barra da Tijuca',\n",
       "    'localizacao': {'type': 'Point',\n",
       "     'coordinates': [-43.3548121, -23.0097423]}},\n",
       "   'vagasGaragem': 1,\n",
       "   'area': 73,\n",
       "   'caracteristicas': {'propriedade': \"['Vista Panorâmica', 'Piscina', 'Sauna', 'Closet', 'Mobiliado', 'Armários Planejados', 'Área de Serviço', 'Churrasqueira', 'Varanda']\",\n",
       "    'condominio': \"['Quadra Poliesportiva', 'Aceita Pet', 'Playground', 'Academia', 'Sauna', 'Depósito Privativo', 'Bicicletário', 'Salão de Jogos', 'Estacionamento Visitantes', 'Segurança Interna', 'Comércio/Serviços no Condomínio', 'Churrasqueira', 'Porteiro 24 Horas']\",\n",
       "    'entorno': \"['Próximo a Farmácia', 'Próximo a Academia', 'Próximo a Restaurante', 'Próximo ao Shopping', 'Próximo a Áreas de Lazer', 'Próximo a Escola Pública']\"}},\n",
       "  'anuncio': {'tipos': {'publicacao': 'Padrão', 'listagem': 'Usado'},\n",
       "   'valores': {'venda': 1100000.0,\n",
       "    'aluguel': 0.0,\n",
       "    'condominio': 1300.0,\n",
       "    'iptu': 364.0},\n",
       "   'descricao': 'Amplo imóvel para venda com 2 quartos, sendo 1 suítes, e 2 banheiros no total.'}},\n",
       " {'imovel': {'tipos': {'propriedade': 'Sala Comercial'},\n",
       "   'endereco': {'bairro': 'Glória',\n",
       "    'localizacao': {'type': 'Point',\n",
       "     'coordinates': [-43.1779703, -22.9174894]}},\n",
       "   'vagasGaragem': 1,\n",
       "   'area': 32,\n",
       "   'caracteristicas': {'propriedade': \"['Armários Planejados']\",\n",
       "    'condominio': \"['Quadra Poliesportiva', 'Porteiro 24 Horas', 'Elevador', 'Comércio/Serviços no Condomínio', 'Serviço de Transporte no Condomínio', 'Depósito Privativo', 'Bicicletário']\",\n",
       "    'entorno': \"['Próximo a Centro Empresarial', 'Próximo a Áreas de Lazer', 'Próximo a Escola Particular', 'Próximo a Escola Pública', 'Próximo a Comércio Diversos', 'Próximo a Farmácia', 'Próximo a Restaurante']\"}},\n",
       "  'anuncio': {'tipos': {'publicacao': 'Padrão', 'listagem': 'Usado'},\n",
       "   'valores': {'venda': 260000.0,\n",
       "    'aluguel': 0.0,\n",
       "    'condominio': 450.0,\n",
       "    'iptu': 800.0},\n",
       "   'descricao': 'Amplo imóvel para venda com 0 quartos, sendo 0 suítes, e 1 banheiros no total.'}},\n",
       " {'imovel': {'tipos': {'propriedade': 'Casa'},\n",
       "   'endereco': {'bairro': 'Vila Isabel',\n",
       "    'localizacao': {'type': 'Point', 'coordinates': [0, 0]}},\n",
       "   'vagasGaragem': 2,\n",
       "   'area': 164,\n",
       "   'caracteristicas': {'propriedade': \"['Mobiliado', 'Varanda', 'Closet', 'Churrasqueira', 'Ambientes Integrados', 'Acessibilidade']\",\n",
       "    'condominio': \"['Aceita Pet', 'Quadra Poliesportiva', 'Playground', 'Piscina', 'Sauna', 'Segurança Interna', 'Serviço de Transporte no Condomínio', 'Salão de Festas', 'Churrasqueira', 'Estacionamento Coberto', 'Estacionamento Visitantes', 'Sistema de Incêndio', 'Academia', 'Porteiro 24 Horas', 'Bicicletário', 'Depósito Privativo', 'Salão de Jogos']\",\n",
       "    'entorno': \"['Próximo a Centro Empresarial', 'Próximo a Escola Particular', 'Próximo a Praia', 'Próximo a Mercado', 'Próximo ao Shopping', 'Próximo a Áreas de Lazer', 'Próximo a Farmácia']\"}},\n",
       "  'anuncio': {'tipos': {'publicacao': 'Padrão', 'listagem': 'Lançamento'},\n",
       "   'valores': {'venda': 280000.0,\n",
       "    'aluguel': 0.0,\n",
       "    'condominio': 583.0,\n",
       "    'iptu': 188.0},\n",
       "   'descricao': 'Amplo imóvel para venda com 1 quartos, sendo 0 suítes, e 0 banheiros no total.'}},\n",
       " {'imovel': {'tipos': {'propriedade': 'Casa'},\n",
       "   'endereco': {'bairro': 'Andaraí',\n",
       "    'localizacao': {'type': 'Point',\n",
       "     'coordinates': [-43.252201188, -22.9282608539]}},\n",
       "   'vagasGaragem': 1,\n",
       "   'area': 68,\n",
       "   'caracteristicas': {'propriedade': \"['Churrasqueira', 'Gás Encanado', 'Cozinha Americana', 'Área de Serviço', 'Quarto/WC Empregada', 'Mobiliado', 'Acessibilidade', 'Vista Panorâmica', 'Closet', 'Piscina', 'Ambientes Integrados', 'Terraço']\",\n",
       "    'condominio': \"['Sauna', 'Sistema de Incêndio', 'Estacionamento Visitantes', 'Playground', 'Comércio/Serviços no Condomínio', 'Quadra Poliesportiva', 'Bicicletário', 'Estacionamento Coberto', 'Academia', 'Segurança Interna', 'Depósito Privativo']\",\n",
       "    'entorno': \"['Próximo ao Metrô', 'Próximo ao Shopping', 'Próximo a Restaurante', 'Próximo a Serviços de Saúde', 'Próximo a Escola Particular', 'Próximo a Comércio Diversos', 'Próximo a Praia', 'Próximo a Farmácia', 'Próximo a Mercado', 'Próximo a Parques e Áreas Verdes', 'Próximo a Academia', 'Próximo a Escola Pública']\"}},\n",
       "  'anuncio': {'tipos': {'publicacao': 'Destaque', 'listagem': 'Usado'},\n",
       "   'valores': {'venda': 300000.0,\n",
       "    'aluguel': 0.0,\n",
       "    'condominio': 350.0,\n",
       "    'iptu': 0.0},\n",
       "   'descricao': 'Amplo imóvel para venda com 2 quartos, sendo 0 suítes, e 1 banheiros no total.'}},\n",
       " {'imovel': {'tipos': {'propriedade': 'Apartamento'},\n",
       "   'endereco': {'bairro': 'Copacabana',\n",
       "    'localizacao': {'type': 'Point',\n",
       "     'coordinates': [-43.1749613, -22.964604]}},\n",
       "   'vagasGaragem': 1,\n",
       "   'area': 110,\n",
       "   'caracteristicas': {'propriedade': \"['Quarto/WC Empregada', 'Gás Encanado', 'Sauna', 'Varanda', 'Vista Panorâmica', 'Closet', 'Acessibilidade', 'Terraço', 'Piscina', 'Ambientes Integrados', 'Cozinha Americana', 'Área de Serviço']\",\n",
       "    'condominio': \"['Piscina', 'Comércio/Serviços no Condomínio', 'Segurança Interna', 'Sauna', 'Porteiro 24 Horas', 'Acessibilidade', 'Salão de Jogos', 'Playground', 'Salão de Festas']\",\n",
       "    'entorno': \"['Próximo a Escola Particular', 'Próximo a Comércio Diversos', 'Próximo a Áreas de Lazer', 'Próximo a Praia', 'Próximo a Mercado', 'Próximo a Escola Pública', 'Próximo a Restaurante', 'Próximo a Parques e Áreas Verdes', 'Próximo ao Shopping', 'Próximo a Farmácia']\"}},\n",
       "  'anuncio': {'tipos': {'publicacao': 'Premium', 'listagem': 'Usado'},\n",
       "   'valores': {'venda': 950000.0,\n",
       "    'aluguel': 0.0,\n",
       "    'condominio': 800.0,\n",
       "    'iptu': 120.0},\n",
       "   'descricao': 'Amplo imóvel para venda com 3 quartos, sendo 1 suítes, e 2 banheiros no total.'}},\n",
       " {'imovel': {'tipos': {'propriedade': 'Consultório'},\n",
       "   'endereco': {'bairro': 'Recreio dos Bandeirantes',\n",
       "    'localizacao': {'type': 'Point',\n",
       "     'coordinates': [-43.453754, -23.0102127]}},\n",
       "   'vagasGaragem': 4,\n",
       "   'area': 214,\n",
       "   'caracteristicas': {'propriedade': \"['Acessibilidade', 'Mobiliado', 'Churrasqueira', 'Piscina', 'Armários Planejados', 'Quarto/WC Empregada', 'Ambientes Integrados', 'Sauna', 'Área de Serviço', 'Cozinha Americana', 'Terraço', 'Gás Encanado', 'Varanda']\",\n",
       "    'condominio': \"['Aceita Pet', 'Salão de Festas', 'Sauna', 'Depósito Privativo', 'Estacionamento Coberto', 'Sistema de Incêndio', 'Academia', 'Piscina', 'Estacionamento Visitantes', 'Acessibilidade']\",\n",
       "    'entorno': \"['Próximo a Mercado', 'Próximo a Farmácia']\"}},\n",
       "  'anuncio': {'tipos': {'publicacao': 'Super Destaque', 'listagem': 'Usado'},\n",
       "   'valores': {'venda': 1390000.0,\n",
       "    'aluguel': 0.0,\n",
       "    'condominio': 750.0,\n",
       "    'iptu': 3282.0},\n",
       "   'descricao': 'Amplo imóvel para venda com 4 quartos, sendo 1 suítes, e 2 banheiros no total.'}},\n",
       " {'imovel': {'tipos': {'propriedade': 'Casa'},\n",
       "   'endereco': {'bairro': 'Recreio dos Bandeirantes',\n",
       "    'localizacao': {'type': 'Point',\n",
       "     'coordinates': [-43.5129166, -23.0241139]}},\n",
       "   'vagasGaragem': 1,\n",
       "   'area': 82,\n",
       "   'caracteristicas': {'propriedade': \"['Área de Serviço', 'Terraço', 'Ambientes Integrados', 'Cozinha Americana', 'Gás Encanado', 'Acessibilidade', 'Closet', 'Varanda']\",\n",
       "    'condominio': \"['Piscina', 'Salão de Festas', 'Estacionamento Visitantes', 'Salão de Jogos', 'Academia', 'Sistema de Incêndio', 'Porteiro 24 Horas', 'Segurança Interna', 'Churrasqueira', 'Bicicletário', 'Serviço de Transporte no Condomínio', 'Elevador', 'Estacionamento Coberto', 'Depósito Privativo', 'Quadra Poliesportiva', 'Acessibilidade']\",\n",
       "    'entorno': \"['Próximo ao Metrô', 'Próximo a Comércio Diversos', 'Próximo a Áreas de Lazer']\"}},\n",
       "  'anuncio': {'tipos': {'publicacao': 'Padrão', 'listagem': 'Usado'},\n",
       "   'valores': {'venda': 439000.0,\n",
       "    'aluguel': 0.0,\n",
       "    'condominio': 620.0,\n",
       "    'iptu': 1.0},\n",
       "   'descricao': 'Amplo imóvel para venda com 3 quartos, sendo 1 suítes, e 2 banheiros no total.'}},\n",
       " {'imovel': {'tipos': {'propriedade': 'Casa'},\n",
       "   'endereco': {'bairro': 'Tijuca',\n",
       "    'localizacao': {'type': 'Point', 'coordinates': [-43.2369414, -22.93291]}},\n",
       "   'vagasGaragem': 2,\n",
       "   'area': 230,\n",
       "   'caracteristicas': {'propriedade': \"['Closet', 'Ambientes Integrados', 'Área de Serviço', 'Terraço']\",\n",
       "    'condominio': \"['Segurança Interna', 'Piscina', 'Salão de Jogos']\",\n",
       "    'entorno': \"['Próximo a Centro Empresarial', 'Próximo a Escola Particular', 'Próximo a Parques e Áreas Verdes', 'Próximo a Escola Pública', 'Próximo a Mercado', 'Próximo a Restaurante', 'Próximo a Academia', 'Próximo a Serviços de Saúde', 'Próximo a Áreas de Lazer', 'Próximo a Farmácia']\"}},\n",
       "  'anuncio': {'tipos': {'publicacao': 'Destaque', 'listagem': 'Lançamento'},\n",
       "   'valores': {'venda': 960000.0,\n",
       "    'aluguel': 0.0,\n",
       "    'condominio': 680.0,\n",
       "    'iptu': 900.0},\n",
       "   'descricao': 'Amplo imóvel para venda com 3 quartos, sendo 0 suítes, e 0 banheiros no total.'}},\n",
       " {'imovel': {'tipos': {'propriedade': 'Apartamento'},\n",
       "   'endereco': {'bairro': 'Copacabana',\n",
       "    'localizacao': {'type': 'Point',\n",
       "     'coordinates': [-49.0607072, -26.9225117]}},\n",
       "   'vagasGaragem': 1,\n",
       "   'area': 135,\n",
       "   'caracteristicas': {'propriedade': '[]',\n",
       "    'condominio': \"['Bicicletário']\",\n",
       "    'entorno': \"['Próximo a Farmácia', 'Próximo a Áreas de Lazer', 'Próximo a Escola Pública', 'Próximo ao Metrô', 'Próximo a Academia', 'Próximo a Serviços de Saúde', 'Próximo a Mercado', 'Próximo a Escola Particular', 'Próximo a Comércio Diversos', 'Próximo a Restaurante']\"}},\n",
       "  'anuncio': {'tipos': {'publicacao': 'Padrão', 'listagem': 'Usado'},\n",
       "   'valores': {'venda': 1080000.0,\n",
       "    'aluguel': 0.0,\n",
       "    'condominio': 1000.0,\n",
       "    'iptu': 1900.0},\n",
       "   'descricao': 'Amplo imóvel para venda com 3 quartos, sendo 0 suítes, e 1 banheiros no total.'}},\n",
       " {'imovel': {'tipos': {'propriedade': 'Apartamento'},\n",
       "   'endereco': {'bairro': 'Méier',\n",
       "    'localizacao': {'type': 'Point',\n",
       "     'coordinates': [-49.0607072, -26.9225117]}},\n",
       "   'vagasGaragem': 1,\n",
       "   'area': 63,\n",
       "   'caracteristicas': {'propriedade': \"['Piscina', 'Quarto/WC Empregada', 'Gás Encanado', 'Mobiliado']\",\n",
       "    'condominio': \"['Sauna', 'Estacionamento Coberto', 'Porteiro 24 Horas', 'Aceita Pet', 'Salão de Jogos', 'Bicicletário', 'Churrasqueira', 'Academia', 'Serviço de Transporte no Condomínio', 'Segurança Interna', 'Acessibilidade', 'Depósito Privativo', 'Salão de Festas', 'Comércio/Serviços no Condomínio', 'Piscina']\",\n",
       "    'entorno': \"['Próximo a Comércio Diversos', 'Próximo a Escola Particular', 'Próximo a Farmácia', 'Próximo a Praia', 'Próximo a Escola Pública', 'Próximo a Centro Empresarial', 'Próximo a Áreas de Lazer', 'Próximo ao Metrô', 'Próximo a Academia']\"}},\n",
       "  'anuncio': {'tipos': {'publicacao': 'Padrão', 'listagem': 'Usado'},\n",
       "   'valores': {'venda': 400000.0,\n",
       "    'aluguel': 0.0,\n",
       "    'condominio': 628.0,\n",
       "    'iptu': 661.0},\n",
       "   'descricao': 'Amplo imóvel para venda com 2 quartos, sendo 0 suítes, e 1 banheiros no total.'}},\n",
       " {'imovel': {'tipos': {'propriedade': 'Consultório'},\n",
       "   'endereco': {'bairro': 'Recreio dos Bandeirantes',\n",
       "    'localizacao': {'type': 'Point',\n",
       "     'coordinates': [-43.5010964, -23.0249208]}},\n",
       "   'vagasGaragem': 0,\n",
       "   'area': 0,\n",
       "   'caracteristicas': {'propriedade': \"['Sauna', 'Terraço', 'Closet', 'Gás Encanado', 'Vista Panorâmica']\",\n",
       "    'condominio': \"['Playground', 'Aceita Pet', 'Porteiro 24 Horas']\",\n",
       "    'entorno': \"['Próximo a Restaurante', 'Próximo ao Metrô', 'Próximo a Academia', 'Próximo ao Shopping']\"}},\n",
       "  'anuncio': {'tipos': {'publicacao': 'Padrão', 'listagem': 'Usado'},\n",
       "   'valores': {'venda': 370583.0,\n",
       "    'aluguel': 0.0,\n",
       "    'condominio': 0.0,\n",
       "    'iptu': 0.0},\n",
       "   'descricao': 'Amplo imóvel para venda com 0 quartos, sendo 0 suítes, e 1 banheiros no total.'}},\n",
       " {'imovel': {'tipos': {'propriedade': 'Apartamento'},\n",
       "   'endereco': {'bairro': 'Recreio dos Bandeirantes',\n",
       "    'localizacao': {'type': 'Point',\n",
       "     'coordinates': [-43.4842556, -23.0302751]}},\n",
       "   'vagasGaragem': 1,\n",
       "   'area': 96,\n",
       "   'caracteristicas': {'propriedade': '[]',\n",
       "    'condominio': \"['Quadra Poliesportiva', 'Porteiro 24 Horas']\",\n",
       "    'entorno': \"['Próximo ao Metrô', 'Próximo a Mercado', 'Próximo ao Shopping', 'Próximo a Parques e Áreas Verdes', 'Próximo a Comércio Diversos', 'Próximo a Farmácia', 'Próximo a Escola Particular']\"}},\n",
       "  'anuncio': {'tipos': {'publicacao': 'Padrão', 'listagem': 'Usado'},\n",
       "   'valores': {'venda': 490000.0,\n",
       "    'aluguel': 0.0,\n",
       "    'condominio': 480.0,\n",
       "    'iptu': 200.0},\n",
       "   'descricao': 'Amplo imóvel para venda com 2 quartos, sendo 1 suítes, e 2 banheiros no total.'}},\n",
       " {'imovel': {'tipos': {'propriedade': 'Casa'},\n",
       "   'endereco': {'bairro': 'Vila Isabel',\n",
       "    'localizacao': {'type': 'Point',\n",
       "     'coordinates': [-43.2427336, -22.9185964]}},\n",
       "   'vagasGaragem': 1,\n",
       "   'area': 66,\n",
       "   'caracteristicas': {'propriedade': \"['Quarto/WC Empregada', 'Varanda', 'Piscina', 'Sauna', 'Armários Planejados', 'Ambientes Integrados', 'Cozinha Americana', 'Terraço', 'Vista Panorâmica', 'Mobiliado', 'Churrasqueira', 'Área de Serviço', 'Acessibilidade', 'Closet']\",\n",
       "    'condominio': \"['Quadra Poliesportiva']\",\n",
       "    'entorno': \"['Próximo ao Shopping', 'Próximo a Farmácia', 'Próximo a Centro Empresarial', 'Próximo a Mercado', 'Próximo a Serviços de Saúde', 'Próximo a Comércio Diversos', 'Próximo a Escola Pública', 'Próximo a Restaurante', 'Próximo a Praia', 'Próximo a Escola Particular']\"}},\n",
       "  'anuncio': {'tipos': {'publicacao': 'Padrão', 'listagem': 'Usado'},\n",
       "   'valores': {'venda': 440000.0,\n",
       "    'aluguel': 0.0,\n",
       "    'condominio': 500.0,\n",
       "    'iptu': 25.0},\n",
       "   'descricao': 'Amplo imóvel para venda com 2 quartos, sendo 0 suítes, e 1 banheiros no total.'}},\n",
       " {'imovel': {'tipos': {'propriedade': 'Apartamento'},\n",
       "   'endereco': {'bairro': 'Campo Grande',\n",
       "    'localizacao': {'type': 'Point',\n",
       "     'coordinates': [-43.1728965, -22.9068467]}},\n",
       "   'vagasGaragem': 0,\n",
       "   'area': 40,\n",
       "   'caracteristicas': {'propriedade': \"['Vista Panorâmica', 'Sauna', 'Área de Serviço', 'Piscina', 'Ambientes Integrados', 'Acessibilidade']\",\n",
       "    'condominio': \"['Bicicletário', 'Comércio/Serviços no Condomínio', 'Salão de Festas', 'Estacionamento Coberto', 'Segurança Interna', 'Quadra Poliesportiva', 'Churrasqueira', 'Aceita Pet']\",\n",
       "    'entorno': \"['Próximo a Escola Particular', 'Próximo a Praia', 'Próximo a Academia', 'Próximo a Restaurante', 'Próximo a Mercado', 'Próximo ao Metrô', 'Próximo a Parques e Áreas Verdes', 'Próximo a Comércio Diversos', 'Próximo a Áreas de Lazer', 'Próximo a Farmácia']\"}},\n",
       "  'anuncio': {'tipos': {'publicacao': 'Padrão', 'listagem': 'Usado'},\n",
       "   'valores': {'venda': 700000.0,\n",
       "    'aluguel': 0.0,\n",
       "    'condominio': 0.0,\n",
       "    'iptu': 0.0},\n",
       "   'descricao': 'Amplo imóvel para venda com 2 quartos, sendo 0 suítes, e 1 banheiros no total.'}},\n",
       " {'imovel': {'tipos': {'propriedade': 'Sala Comercial'},\n",
       "   'endereco': {'bairro': 'Copacabana',\n",
       "    'localizacao': {'type': 'Point',\n",
       "     'coordinates': [-43.1857067, -22.9670207]}},\n",
       "   'vagasGaragem': 1,\n",
       "   'area': 80,\n",
       "   'caracteristicas': {'propriedade': \"['Quarto/WC Empregada', 'Churrasqueira', 'Sauna']\",\n",
       "    'condominio': \"['Depósito Privativo', 'Bicicletário', 'Churrasqueira', 'Estacionamento Coberto', 'Comércio/Serviços no Condomínio', 'Segurança Interna', 'Estacionamento Visitantes', 'Acessibilidade', 'Quadra Poliesportiva', 'Sistema de Incêndio', 'Playground']\",\n",
       "    'entorno': \"['Próximo a Farmácia', 'Próximo a Escola Particular', 'Próximo a Academia', 'Próximo ao Shopping', 'Próximo a Praia', 'Próximo a Serviços de Saúde', 'Próximo ao Metrô', 'Próximo a Restaurante']\"}},\n",
       "  'anuncio': {'tipos': {'publicacao': 'Destaque', 'listagem': 'Usado'},\n",
       "   'valores': {'venda': 1000000.0,\n",
       "    'aluguel': 0.0,\n",
       "    'condominio': 630.0,\n",
       "    'iptu': 112.0},\n",
       "   'descricao': 'Amplo imóvel para venda com 2 quartos, sendo 0 suítes, e 1 banheiros no total.'}},\n",
       " {'imovel': {'tipos': {'propriedade': 'Casa'},\n",
       "   'endereco': {'bairro': 'Ipanema',\n",
       "    'localizacao': {'type': 'Point',\n",
       "     'coordinates': [-43.2019364, -22.9832228]}},\n",
       "   'vagasGaragem': 2,\n",
       "   'area': 240,\n",
       "   'caracteristicas': {'propriedade': \"['Sauna', 'Ambientes Integrados', 'Armários Planejados', 'Piscina', 'Cozinha Americana', 'Terraço', 'Varanda', 'Closet', 'Acessibilidade', 'Mobiliado', 'Gás Encanado', 'Churrasqueira']\",\n",
       "    'condominio': \"['Elevador', 'Estacionamento Coberto']\",\n",
       "    'entorno': \"['Próximo a Centro Empresarial']\"}},\n",
       "  'anuncio': {'tipos': {'publicacao': 'Destaque', 'listagem': 'Usado'},\n",
       "   'valores': {'venda': 4500000.0,\n",
       "    'aluguel': 0.0,\n",
       "    'condominio': 2300.0,\n",
       "    'iptu': 0.0},\n",
       "   'descricao': 'Amplo imóvel para venda com 3 quartos, sendo 1 suítes, e 2 banheiros no total.'}},\n",
       " {'imovel': {'tipos': {'propriedade': 'Sala Comercial'},\n",
       "   'endereco': {'bairro': 'Paciência',\n",
       "    'localizacao': {'type': 'Point',\n",
       "     'coordinates': [-43.6220075, -22.8938151]}},\n",
       "   'vagasGaragem': 1,\n",
       "   'area': 45,\n",
       "   'caracteristicas': {'propriedade': \"['Mobiliado', 'Acessibilidade', 'Área de Serviço', 'Vista Panorâmica', 'Gás Encanado', 'Quarto/WC Empregada', 'Terraço', 'Closet']\",\n",
       "    'condominio': \"['Sistema de Incêndio', 'Acessibilidade', 'Salão de Festas', 'Quadra Poliesportiva', 'Bicicletário', 'Playground', 'Serviço de Transporte no Condomínio', 'Sauna', 'Porteiro 24 Horas']\",\n",
       "    'entorno': \"['Próximo a Centro Empresarial', 'Próximo a Comércio Diversos', 'Próximo a Academia', 'Próximo ao Metrô', 'Próximo a Escola Particular', 'Próximo a Escola Pública', 'Próximo a Restaurante', 'Próximo a Praia', 'Próximo a Áreas de Lazer', 'Próximo a Serviços de Saúde']\"}},\n",
       "  'anuncio': {'tipos': {'publicacao': 'Padrão', 'listagem': 'Usado'},\n",
       "   'valores': {'venda': 135000.0,\n",
       "    'aluguel': 0.0,\n",
       "    'condominio': 300.0,\n",
       "    'iptu': 0.0},\n",
       "   'descricao': 'Amplo imóvel para venda com 2 quartos, sendo 0 suítes, e 1 banheiros no total.'}},\n",
       " {'imovel': {'tipos': {'propriedade': 'Apartamento'},\n",
       "   'endereco': {'bairro': 'Freguesia (Jacarepaguá)',\n",
       "    'localizacao': {'type': 'Point',\n",
       "     'coordinates': [-43.1721422, -22.7894064]}},\n",
       "   'vagasGaragem': 1,\n",
       "   'area': 71,\n",
       "   'caracteristicas': {'propriedade': \"['Sauna', 'Gás Encanado', 'Terraço', 'Ambientes Integrados', 'Churrasqueira', 'Área de Serviço', 'Piscina', 'Quarto/WC Empregada', 'Armários Planejados']\",\n",
       "    'condominio': \"['Salão de Festas', 'Bicicletário', 'Academia']\",\n",
       "    'entorno': \"['Próximo a Academia', 'Próximo a Mercado', 'Próximo a Praia', 'Próximo ao Shopping', 'Próximo a Centro Empresarial']\"}},\n",
       "  'anuncio': {'tipos': {'publicacao': 'Destaque', 'listagem': 'Usado'},\n",
       "   'valores': {'venda': 300000.0,\n",
       "    'aluguel': 0.0,\n",
       "    'condominio': 370.0,\n",
       "    'iptu': 243.0},\n",
       "   'descricao': 'Amplo imóvel para venda com 3 quartos, sendo 0 suítes, e 1 banheiros no total.'}},\n",
       " {'imovel': {'tipos': {'propriedade': 'Apartamento'},\n",
       "   'endereco': {'bairro': 'Vargem Pequena',\n",
       "    'localizacao': {'type': 'Point',\n",
       "     'coordinates': [-43.4516177, -22.993534]}},\n",
       "   'vagasGaragem': 0,\n",
       "   'area': 0,\n",
       "   'caracteristicas': {'propriedade': '[]',\n",
       "    'condominio': \"['Quadra Poliesportiva', 'Porteiro 24 Horas', 'Depósito Privativo', 'Serviço de Transporte no Condomínio', 'Salão de Jogos', 'Playground', 'Sistema de Incêndio']\",\n",
       "    'entorno': \"['Próximo ao Shopping', 'Próximo a Parques e Áreas Verdes', 'Próximo a Escola Pública', 'Próximo a Centro Empresarial', 'Próximo a Áreas de Lazer', 'Próximo a Escola Particular', 'Próximo a Comércio Diversos', 'Próximo a Serviços de Saúde', 'Próximo ao Metrô', 'Próximo a Restaurante']\"}},\n",
       "  'anuncio': {'tipos': {'publicacao': 'Destaque', 'listagem': 'Usado'},\n",
       "   'valores': {'venda': 0.0, 'aluguel': 0.0, 'condominio': 0.0, 'iptu': 0.0},\n",
       "   'descricao': 'Amplo imóvel para venda com 0 quartos, sendo 0 suítes, e 1 banheiros no total.'}},\n",
       " {'imovel': {'tipos': {'propriedade': 'Apartamento'},\n",
       "   'endereco': {'bairro': 'Tijuca',\n",
       "    'localizacao': {'type': 'Point',\n",
       "     'coordinates': [-43.2377311, -22.919436]}},\n",
       "   'vagasGaragem': 2,\n",
       "   'area': 136,\n",
       "   'caracteristicas': {'propriedade': \"['Terraço', 'Armários Planejados', 'Ambientes Integrados']\",\n",
       "    'condominio': \"['Comércio/Serviços no Condomínio', 'Depósito Privativo', 'Estacionamento Visitantes', 'Segurança Interna', 'Salão de Jogos', 'Serviço de Transporte no Condomínio', 'Churrasqueira']\",\n",
       "    'entorno': \"['Próximo a Restaurante', 'Próximo a Farmácia', 'Próximo a Mercado', 'Próximo ao Shopping', 'Próximo a Comércio Diversos', 'Próximo a Centro Empresarial', 'Próximo ao Metrô', 'Próximo a Parques e Áreas Verdes']\"}},\n",
       "  'anuncio': {'tipos': {'publicacao': 'Padrão', 'listagem': 'Usado'},\n",
       "   'valores': {'venda': 1285000.0,\n",
       "    'aluguel': 0.0,\n",
       "    'condominio': 1300.0,\n",
       "    'iptu': 0.0},\n",
       "   'descricao': 'Amplo imóvel para venda com 3 quartos, sendo 1 suítes, e 2 banheiros no total.'}},\n",
       " {'imovel': {'tipos': {'propriedade': 'Casa'},\n",
       "   'endereco': {'bairro': 'Recreio dos Bandeirantes',\n",
       "    'localizacao': {'type': 'Point',\n",
       "     'coordinates': [-43.482437, -23.0061018]}},\n",
       "   'vagasGaragem': 2,\n",
       "   'area': 168,\n",
       "   'caracteristicas': {'propriedade': \"['Área de Serviço', 'Quarto/WC Empregada', 'Closet', 'Terraço', 'Mobiliado', 'Armários Planejados', 'Acessibilidade']\",\n",
       "    'condominio': \"['Serviço de Transporte no Condomínio', 'Elevador', 'Estacionamento Visitantes', 'Comércio/Serviços no Condomínio', 'Piscina', 'Porteiro 24 Horas', 'Academia', 'Sistema de Incêndio', 'Bicicletário', 'Salão de Festas', 'Aceita Pet', 'Churrasqueira', 'Playground', 'Quadra Poliesportiva', 'Estacionamento Coberto', 'Acessibilidade', 'Sauna', 'Salão de Jogos', 'Segurança Interna']\",\n",
       "    'entorno': \"['Próximo a Academia', 'Próximo a Escola Particular']\"}},\n",
       "  'anuncio': {'tipos': {'publicacao': 'Padrão', 'listagem': 'Lançamento'},\n",
       "   'valores': {'venda': 409900.0,\n",
       "    'aluguel': 0.0,\n",
       "    'condominio': 490.0,\n",
       "    'iptu': 0.0},\n",
       "   'descricao': 'Amplo imóvel para venda com 2 quartos, sendo 1 suítes, e 2 banheiros no total.'}},\n",
       " {'imovel': {'tipos': {'propriedade': 'Consultório'},\n",
       "   'endereco': {'bairro': 'Recreio dos Bandeirantes',\n",
       "    'localizacao': {'type': 'Point',\n",
       "     'coordinates': [-43.4656992, -23.0226712]}},\n",
       "   'vagasGaragem': 4,\n",
       "   'area': 300,\n",
       "   'caracteristicas': {'propriedade': \"['Cozinha Americana', 'Gás Encanado', 'Mobiliado', 'Área de Serviço', 'Closet', 'Vista Panorâmica', 'Quarto/WC Empregada', 'Terraço', 'Ambientes Integrados', 'Varanda', 'Churrasqueira']\",\n",
       "    'condominio': \"['Estacionamento Visitantes', 'Elevador', 'Aceita Pet', 'Serviço de Transporte no Condomínio']\",\n",
       "    'entorno': \"['Próximo ao Metrô', 'Próximo a Escola Pública']\"}},\n",
       "  'anuncio': {'tipos': {'publicacao': 'Padrão', 'listagem': 'Usado'},\n",
       "   'valores': {'venda': 1600000.0,\n",
       "    'aluguel': 0.0,\n",
       "    'condominio': 0.0,\n",
       "    'iptu': 0.0},\n",
       "   'descricao': 'Amplo imóvel para venda com 4 quartos, sendo 4 suítes, e 5 banheiros no total.'}},\n",
       " {'imovel': {'tipos': {'propriedade': 'Apartamento'},\n",
       "   'endereco': {'bairro': 'Pechincha',\n",
       "    'localizacao': {'type': 'Point',\n",
       "     'coordinates': [-49.0607072, -26.9225117]}},\n",
       "   'vagasGaragem': 2,\n",
       "   'area': 123,\n",
       "   'caracteristicas': {'propriedade': \"['Área de Serviço', 'Ambientes Integrados', 'Vista Panorâmica', 'Quarto/WC Empregada', 'Terraço', 'Varanda', 'Armários Planejados', 'Piscina', 'Acessibilidade', 'Churrasqueira', 'Cozinha Americana', 'Closet', 'Gás Encanado']\",\n",
       "    'condominio': \"['Elevador', 'Salão de Festas', 'Quadra Poliesportiva', 'Acessibilidade', 'Bicicletário', 'Sistema de Incêndio', 'Playground', 'Aceita Pet', 'Estacionamento Visitantes', 'Salão de Jogos', 'Piscina', 'Churrasqueira']\",\n",
       "    'entorno': \"['Próximo a Escola Particular', 'Próximo a Mercado', 'Próximo a Centro Empresarial', 'Próximo a Áreas de Lazer']\"}},\n",
       "  'anuncio': {'tipos': {'publicacao': 'Destaque', 'listagem': 'Usado'},\n",
       "   'valores': {'venda': 505000.0,\n",
       "    'aluguel': 0.0,\n",
       "    'condominio': 500.0,\n",
       "    'iptu': 0.0},\n",
       "   'descricao': 'Amplo imóvel para venda com 3 quartos, sendo 1 suítes, e 2 banheiros no total.'}},\n",
       " {'imovel': {'tipos': {'propriedade': 'Apartamento'},\n",
       "   'endereco': {'bairro': 'Copacabana',\n",
       "    'localizacao': {'type': 'Point',\n",
       "     'coordinates': [-43.1874754, -22.9682656]}},\n",
       "   'vagasGaragem': 1,\n",
       "   'area': 113,\n",
       "   'caracteristicas': {'propriedade': \"['Gás Encanado', 'Cozinha Americana', 'Vista Panorâmica', 'Quarto/WC Empregada', 'Varanda', 'Área de Serviço', 'Sauna', 'Mobiliado', 'Closet', 'Acessibilidade', 'Piscina']\",\n",
       "    'condominio': \"['Sauna', 'Quadra Poliesportiva', 'Porteiro 24 Horas', 'Elevador', 'Depósito Privativo', 'Academia', 'Piscina']\",\n",
       "    'entorno': \"['Próximo a Serviços de Saúde', 'Próximo a Mercado', 'Próximo a Restaurante', 'Próximo a Parques e Áreas Verdes']\"}},\n",
       "  'anuncio': {'tipos': {'publicacao': 'Super Destaque', 'listagem': 'Usado'},\n",
       "   'valores': {'venda': 1190000.0,\n",
       "    'aluguel': 0.0,\n",
       "    'condominio': 750.0,\n",
       "    'iptu': 1904.0},\n",
       "   'descricao': 'Amplo imóvel para venda com 3 quartos, sendo 0 suítes, e 1 banheiros no total.'}},\n",
       " {'imovel': {'tipos': {'propriedade': 'Apartamento'},\n",
       "   'endereco': {'bairro': 'Vargem Pequena',\n",
       "    'localizacao': {'type': 'Point',\n",
       "     'coordinates': [-43.4516177, -22.993534]}},\n",
       "   'vagasGaragem': 0,\n",
       "   'area': 0,\n",
       "   'caracteristicas': {'propriedade': \"['Vista Panorâmica', 'Quarto/WC Empregada', 'Sauna', 'Armários Planejados', 'Cozinha Americana', 'Ambientes Integrados', 'Acessibilidade', 'Área de Serviço', 'Piscina', 'Closet', 'Mobiliado', 'Gás Encanado', 'Churrasqueira']\",\n",
       "    'condominio': \"['Quadra Poliesportiva', 'Bicicletário', 'Playground', 'Estacionamento Coberto', 'Depósito Privativo', 'Comércio/Serviços no Condomínio', 'Serviço de Transporte no Condomínio', 'Estacionamento Visitantes', 'Acessibilidade', 'Elevador', 'Piscina', 'Sauna']\",\n",
       "    'entorno': \"['Próximo ao Metrô', 'Próximo a Academia', 'Próximo a Mercado', 'Próximo a Escola Particular']\"}},\n",
       "  'anuncio': {'tipos': {'publicacao': 'Super Destaque', 'listagem': 'Usado'},\n",
       "   'valores': {'venda': 0.0, 'aluguel': 0.0, 'condominio': 0.0, 'iptu': 0.0},\n",
       "   'descricao': 'Amplo imóvel para venda com 0 quartos, sendo 0 suítes, e 1 banheiros no total.'}},\n",
       " {'imovel': {'tipos': {'propriedade': 'Casa'},\n",
       "   'endereco': {'bairro': 'Freguesia',\n",
       "    'localizacao': {'type': 'Point',\n",
       "     'coordinates': [-43.3273079, -22.9354146]}},\n",
       "   'vagasGaragem': 0,\n",
       "   'area': 0,\n",
       "   'caracteristicas': {'propriedade': \"['Armários Planejados', 'Piscina', 'Churrasqueira', 'Acessibilidade', 'Área de Serviço', 'Terraço', 'Mobiliado', 'Sauna', 'Gás Encanado', 'Varanda', 'Vista Panorâmica']\",\n",
       "    'condominio': \"['Piscina', 'Quadra Poliesportiva', 'Playground', 'Estacionamento Coberto', 'Sistema de Incêndio', 'Elevador', 'Estacionamento Visitantes', 'Sauna', 'Aceita Pet', 'Porteiro 24 Horas', 'Salão de Festas', 'Segurança Interna', 'Salão de Jogos', 'Academia', 'Acessibilidade', 'Bicicletário', 'Serviço de Transporte no Condomínio', 'Comércio/Serviços no Condomínio', 'Churrasqueira', 'Depósito Privativo']\",\n",
       "    'entorno': \"['Próximo a Parques e Áreas Verdes', 'Próximo a Academia', 'Próximo a Serviços de Saúde', 'Próximo a Farmácia', 'Próximo a Escola Pública', 'Próximo a Escola Particular', 'Próximo a Restaurante', 'Próximo ao Metrô', 'Próximo ao Shopping', 'Próximo a Áreas de Lazer', 'Próximo a Comércio Diversos']\"}},\n",
       "  'anuncio': {'tipos': {'publicacao': 'Destaque', 'listagem': 'Lançamento'},\n",
       "   'valores': {'venda': 0.0, 'aluguel': 0.0, 'condominio': 0.0, 'iptu': 0.0},\n",
       "   'descricao': 'Amplo imóvel para venda com 0 quartos, sendo 0 suítes, e 0 banheiros no total.'}},\n",
       " {'imovel': {'tipos': {'propriedade': 'Apartamento'},\n",
       "   'endereco': {'bairro': 'Recreio dos Bandeirantes',\n",
       "    'localizacao': {'type': 'Point',\n",
       "     'coordinates': [-43.4710229, -23.0170387]}},\n",
       "   'vagasGaragem': 2,\n",
       "   'area': 112,\n",
       "   'caracteristicas': {'propriedade': '[]',\n",
       "    'condominio': \"['Salão de Jogos', 'Quadra Poliesportiva', 'Elevador', 'Acessibilidade', 'Sistema de Incêndio', 'Serviço de Transporte no Condomínio', 'Bicicletário', 'Segurança Interna', 'Piscina', 'Churrasqueira', 'Depósito Privativo']\",\n",
       "    'entorno': \"['Próximo a Praia', 'Próximo a Academia', 'Próximo a Centro Empresarial', 'Próximo a Parques e Áreas Verdes', 'Próximo a Comércio Diversos', 'Próximo a Restaurante', 'Próximo a Mercado', 'Próximo a Áreas de Lazer', 'Próximo a Serviços de Saúde', 'Próximo ao Shopping', 'Próximo ao Metrô', 'Próximo a Escola Pública', 'Próximo a Escola Particular']\"}},\n",
       "  'anuncio': {'tipos': {'publicacao': 'Padrão', 'listagem': 'Usado'},\n",
       "   'valores': {'venda': 500000.0,\n",
       "    'aluguel': 0.0,\n",
       "    'condominio': 451.0,\n",
       "    'iptu': 1500.0},\n",
       "   'descricao': 'Amplo imóvel para venda com 2 quartos, sendo 1 suítes, e 2 banheiros no total.'}},\n",
       " {'imovel': {'tipos': {'propriedade': 'Apartamento'},\n",
       "   'endereco': {'bairro': 'Botafogo',\n",
       "    'localizacao': {'type': 'Point',\n",
       "     'coordinates': [-43.190689, -22.9510137]}},\n",
       "   'vagasGaragem': 3,\n",
       "   'area': 195,\n",
       "   'caracteristicas': {'propriedade': \"['Mobiliado', 'Sauna', 'Cozinha Americana', 'Área de Serviço', 'Armários Planejados', 'Acessibilidade', 'Gás Encanado', 'Vista Panorâmica', 'Churrasqueira', 'Terraço']\",\n",
       "    'condominio': \"['Salão de Festas', 'Segurança Interna', 'Comércio/Serviços no Condomínio', 'Piscina', 'Salão de Jogos', 'Elevador', 'Acessibilidade', 'Estacionamento Visitantes', 'Aceita Pet', 'Porteiro 24 Horas', 'Estacionamento Coberto', 'Playground', 'Quadra Poliesportiva', 'Churrasqueira', 'Sistema de Incêndio']\",\n",
       "    'entorno': \"['Próximo a Parques e Áreas Verdes', 'Próximo a Comércio Diversos', 'Próximo ao Metrô', 'Próximo a Farmácia', 'Próximo a Restaurante', 'Próximo a Áreas de Lazer', 'Próximo a Centro Empresarial', 'Próximo ao Shopping', 'Próximo a Praia', 'Próximo a Academia', 'Próximo a Mercado']\"}},\n",
       "  'anuncio': {'tipos': {'publicacao': 'Destaque', 'listagem': 'Lançamento'},\n",
       "   'valores': {'venda': 2582000.0,\n",
       "    'aluguel': 0.0,\n",
       "    'condominio': 0.0,\n",
       "    'iptu': 0.0},\n",
       "   'descricao': 'Amplo imóvel para venda com 3 quartos, sendo 1 suítes, e 2 banheiros no total.'}},\n",
       " {'imovel': {'tipos': {'propriedade': 'Casa'},\n",
       "   'endereco': {'bairro': 'Paciência',\n",
       "    'localizacao': {'type': 'Point', 'coordinates': [0, 0]}},\n",
       "   'vagasGaragem': 0,\n",
       "   'area': 231000,\n",
       "   'caracteristicas': {'propriedade': \"['Cozinha Americana', 'Varanda', 'Vista Panorâmica', 'Closet', 'Acessibilidade', 'Gás Encanado', 'Churrasqueira', 'Área de Serviço', 'Armários Planejados', 'Sauna']\",\n",
       "    'condominio': \"['Sistema de Incêndio', 'Academia', 'Salão de Festas', 'Segurança Interna', 'Comércio/Serviços no Condomínio', 'Sauna', 'Serviço de Transporte no Condomínio', 'Depósito Privativo', 'Salão de Jogos', 'Estacionamento Coberto', 'Bicicletário', 'Elevador', 'Playground', 'Churrasqueira', 'Estacionamento Visitantes', 'Porteiro 24 Horas', 'Aceita Pet', 'Piscina', 'Acessibilidade', 'Quadra Poliesportiva']\",\n",
       "    'entorno': \"['Próximo a Áreas de Lazer', 'Próximo a Parques e Áreas Verdes', 'Próximo a Academia', 'Próximo a Farmácia', 'Próximo a Serviços de Saúde']\"}},\n",
       "  'anuncio': {'tipos': {'publicacao': 'Padrão', 'listagem': 'Usado'},\n",
       "   'valores': {'venda': 24000000.0,\n",
       "    'aluguel': 0.0,\n",
       "    'condominio': 0.0,\n",
       "    'iptu': 0.0},\n",
       "   'descricao': 'Amplo imóvel para venda com 0 quartos, sendo 0 suítes, e 1 banheiros no total.'}},\n",
       " {'imovel': {'tipos': {'propriedade': 'Casa'},\n",
       "   'endereco': {'bairro': 'Ipanema',\n",
       "    'localizacao': {'type': 'Point',\n",
       "     'coordinates': [-43.2052848, -22.9814583]}},\n",
       "   'vagasGaragem': 1,\n",
       "   'area': 120,\n",
       "   'caracteristicas': {'propriedade': \"['Terraço', 'Vista Panorâmica', 'Piscina', 'Acessibilidade', 'Ambientes Integrados', 'Sauna', 'Mobiliado', 'Armários Planejados', 'Churrasqueira', 'Gás Encanado']\",\n",
       "    'condominio': \"['Salão de Festas', 'Acessibilidade', 'Quadra Poliesportiva', 'Salão de Jogos', 'Churrasqueira', 'Serviço de Transporte no Condomínio', 'Aceita Pet', 'Bicicletário', 'Segurança Interna', 'Depósito Privativo', 'Academia', 'Elevador', 'Sauna', 'Sistema de Incêndio', 'Estacionamento Coberto', 'Estacionamento Visitantes']\",\n",
       "    'entorno': \"['Próximo a Comércio Diversos', 'Próximo a Farmácia', 'Próximo a Serviços de Saúde', 'Próximo a Restaurante', 'Próximo ao Shopping', 'Próximo a Escola Pública', 'Próximo a Escola Particular', 'Próximo a Mercado', 'Próximo a Centro Empresarial', 'Próximo a Áreas de Lazer', 'Próximo a Academia', 'Próximo a Praia']\"}},\n",
       "  'anuncio': {'tipos': {'publicacao': 'Super Destaque', 'listagem': 'Usado'},\n",
       "   'valores': {'venda': 2500000.0,\n",
       "    'aluguel': 0.0,\n",
       "    'condominio': 0.0,\n",
       "    'iptu': 0.0},\n",
       "   'descricao': 'Amplo imóvel para venda com 1 quartos, sendo 1 suítes, e 2 banheiros no total.'}},\n",
       " {'imovel': {'tipos': {'propriedade': 'Cobertura'},\n",
       "   'endereco': {'bairro': 'Vila da Penha',\n",
       "    'localizacao': {'type': 'Point',\n",
       "     'coordinates': [-43.3083014, -22.8334376]}},\n",
       "   'vagasGaragem': 1,\n",
       "   'area': 64,\n",
       "   'caracteristicas': {'propriedade': \"['Cozinha Americana', 'Quarto/WC Empregada', 'Área de Serviço', 'Gás Encanado', 'Closet', 'Acessibilidade', 'Piscina']\",\n",
       "    'condominio': \"['Porteiro 24 Horas', 'Piscina', 'Estacionamento Visitantes', 'Salão de Jogos', 'Playground']\",\n",
       "    'entorno': '[]'}},\n",
       "  'anuncio': {'tipos': {'publicacao': 'Destaque', 'listagem': 'Usado'},\n",
       "   'valores': {'venda': 270000.0,\n",
       "    'aluguel': 0.0,\n",
       "    'condominio': 360.0,\n",
       "    'iptu': 0.0},\n",
       "   'descricao': 'Amplo imóvel para venda com 2 quartos, sendo 0 suítes, e 1 banheiros no total.'}},\n",
       " {'imovel': {'tipos': {'propriedade': 'Casa'},\n",
       "   'endereco': {'bairro': 'Jacarepaguá',\n",
       "    'localizacao': {'type': 'Point',\n",
       "     'coordinates': [-43.4152304, -22.9690832]}},\n",
       "   'vagasGaragem': 0,\n",
       "   'area': 0,\n",
       "   'caracteristicas': {'propriedade': \"['Área de Serviço', 'Terraço', 'Piscina', 'Closet', 'Gás Encanado', 'Quarto/WC Empregada', 'Cozinha Americana']\",\n",
       "    'condominio': \"['Playground', 'Acessibilidade', 'Serviço de Transporte no Condomínio']\",\n",
       "    'entorno': \"['Próximo ao Metrô', 'Próximo a Áreas de Lazer', 'Próximo a Academia']\"}},\n",
       "  'anuncio': {'tipos': {'publicacao': 'Padrão', 'listagem': 'Lançamento'},\n",
       "   'valores': {'venda': 0.0, 'aluguel': 0.0, 'condominio': 0.0, 'iptu': 0.0},\n",
       "   'descricao': 'Amplo imóvel para venda com 0 quartos, sendo 0 suítes, e 0 banheiros no total.'}},\n",
       " {'imovel': {'tipos': {'propriedade': 'Apartamento'},\n",
       "   'endereco': {'bairro': 'Pechincha',\n",
       "    'localizacao': {'type': 'Point',\n",
       "     'coordinates': [-43.3490452, -22.9240714]}},\n",
       "   'vagasGaragem': 3,\n",
       "   'area': 348,\n",
       "   'caracteristicas': {'propriedade': \"['Acessibilidade', 'Churrasqueira', 'Sauna', 'Closet', 'Área de Serviço']\",\n",
       "    'condominio': '[]',\n",
       "    'entorno': \"['Próximo a Escola Particular', 'Próximo a Serviços de Saúde']\"}},\n",
       "  'anuncio': {'tipos': {'publicacao': 'Padrão', 'listagem': 'Lançamento'},\n",
       "   'valores': {'venda': 1100000.0,\n",
       "    'aluguel': 0.0,\n",
       "    'condominio': 0.0,\n",
       "    'iptu': 1560.0},\n",
       "   'descricao': 'Amplo imóvel para venda com 3 quartos, sendo 1 suítes, e 2 banheiros no total.'}},\n",
       " {'imovel': {'tipos': {'propriedade': 'Casa'},\n",
       "   'endereco': {'bairro': 'Copacabana',\n",
       "    'localizacao': {'type': 'Point',\n",
       "     'coordinates': [-43.1889208, -22.9751691]}},\n",
       "   'vagasGaragem': 0,\n",
       "   'area': 240,\n",
       "   'caracteristicas': {'propriedade': \"['Sauna', 'Vista Panorâmica', 'Terraço', 'Mobiliado', 'Piscina', 'Closet', 'Cozinha Americana', 'Acessibilidade', 'Varanda', 'Área de Serviço', 'Gás Encanado', 'Quarto/WC Empregada', 'Ambientes Integrados', 'Churrasqueira', 'Armários Planejados']\",\n",
       "    'condominio': \"['Depósito Privativo', 'Elevador', 'Quadra Poliesportiva', 'Estacionamento Coberto', 'Aceita Pet']\",\n",
       "    'entorno': \"['Próximo a Restaurante', 'Próximo ao Metrô', 'Próximo a Escola Pública', 'Próximo a Serviços de Saúde', 'Próximo a Parques e Áreas Verdes', 'Próximo a Farmácia', 'Próximo a Academia', 'Próximo a Praia', 'Próximo a Escola Particular', 'Próximo a Comércio Diversos', 'Próximo a Áreas de Lazer', 'Próximo a Centro Empresarial']\"}},\n",
       "  'anuncio': {'tipos': {'publicacao': 'Premium', 'listagem': 'Lançamento'},\n",
       "   'valores': {'venda': 2730000.0,\n",
       "    'aluguel': 0.0,\n",
       "    'condominio': 1900.0,\n",
       "    'iptu': 1700.0},\n",
       "   'descricao': 'Amplo imóvel para venda com 3 quartos, sendo 0 suítes, e 0 banheiros no total.'}},\n",
       " {'imovel': {'tipos': {'propriedade': 'Casa'},\n",
       "   'endereco': {'bairro': 'Laranjeiras',\n",
       "    'localizacao': {'type': 'Point',\n",
       "     'coordinates': [-43.1919165, -22.9358772]}},\n",
       "   'vagasGaragem': 2,\n",
       "   'area': 85,\n",
       "   'caracteristicas': {'propriedade': \"['Gás Encanado', 'Mobiliado', 'Cozinha Americana']\",\n",
       "    'condominio': \"['Comércio/Serviços no Condomínio', 'Depósito Privativo', 'Acessibilidade', 'Salão de Festas', 'Bicicletário', 'Salão de Jogos', 'Playground', 'Academia', 'Estacionamento Visitantes', 'Segurança Interna', 'Churrasqueira']\",\n",
       "    'entorno': \"['Próximo a Serviços de Saúde', 'Próximo a Centro Empresarial', 'Próximo a Áreas de Lazer', 'Próximo a Escola Particular', 'Próximo ao Metrô', 'Próximo a Comércio Diversos', 'Próximo a Escola Pública', 'Próximo a Academia']\"}},\n",
       "  'anuncio': {'tipos': {'publicacao': 'Premium', 'listagem': 'Usado'},\n",
       "   'valores': {'venda': 1260000.0,\n",
       "    'aluguel': 0.0,\n",
       "    'condominio': 890.0,\n",
       "    'iptu': 1009.0},\n",
       "   'descricao': 'Amplo imóvel para venda com 2 quartos, sendo 1 suítes, e 2 banheiros no total.'}},\n",
       " {'imovel': {'tipos': {'propriedade': 'Apartamento'},\n",
       "   'endereco': {'bairro': 'Ribeira',\n",
       "    'localizacao': {'type': 'Point',\n",
       "     'coordinates': [-43.1710835, -22.8237953]}},\n",
       "   'vagasGaragem': 1,\n",
       "   'area': 58,\n",
       "   'caracteristicas': {'propriedade': \"['Área de Serviço', 'Gás Encanado', 'Cozinha Americana', 'Quarto/WC Empregada', 'Sauna', 'Piscina', 'Terraço', 'Armários Planejados', 'Acessibilidade']\",\n",
       "    'condominio': \"['Acessibilidade', 'Aceita Pet', 'Quadra Poliesportiva', 'Academia', 'Sauna', 'Comércio/Serviços no Condomínio', 'Salão de Jogos', 'Estacionamento Visitantes', 'Piscina', 'Serviço de Transporte no Condomínio', 'Elevador', 'Estacionamento Coberto', 'Playground', 'Porteiro 24 Horas', 'Sistema de Incêndio', 'Churrasqueira', 'Salão de Festas', 'Segurança Interna', 'Bicicletário']\",\n",
       "    'entorno': \"['Próximo a Serviços de Saúde']\"}},\n",
       "  'anuncio': {'tipos': {'publicacao': 'Super Destaque', 'listagem': 'Usado'},\n",
       "   'valores': {'venda': 470000.0,\n",
       "    'aluguel': 0.0,\n",
       "    'condominio': 350.0,\n",
       "    'iptu': 300.0},\n",
       "   'descricao': 'Amplo imóvel para venda com 2 quartos, sendo 0 suítes, e 1 banheiros no total.'}},\n",
       " {'imovel': {'tipos': {'propriedade': 'Imóvel Comercial'},\n",
       "   'endereco': {'bairro': 'Barra da Tijuca',\n",
       "    'localizacao': {'type': 'Point',\n",
       "     'coordinates': [-43.3752545, -23.0031345]}},\n",
       "   'vagasGaragem': 9,\n",
       "   'area': 950,\n",
       "   'caracteristicas': {'propriedade': \"['Acessibilidade', 'Cozinha Americana', 'Varanda', 'Gás Encanado', 'Closet']\",\n",
       "    'condominio': \"['Bicicletário', 'Quadra Poliesportiva']\",\n",
       "    'entorno': \"['Próximo a Áreas de Lazer', 'Próximo a Restaurante', 'Próximo a Farmácia', 'Próximo a Escola Particular', 'Próximo a Parques e Áreas Verdes', 'Próximo a Centro Empresarial', 'Próximo a Comércio Diversos', 'Próximo a Serviços de Saúde', 'Próximo a Praia', 'Próximo a Academia', 'Próximo ao Metrô']\"}},\n",
       "  'anuncio': {'tipos': {'publicacao': 'Padrão', 'listagem': 'Usado'},\n",
       "   'valores': {'venda': 6900000.0,\n",
       "    'aluguel': 0.0,\n",
       "    'condominio': 1000.0,\n",
       "    'iptu': 1800.0},\n",
       "   'descricao': 'Amplo imóvel para venda com 6 quartos, sendo 5 suítes, e 6 banheiros no total.'}},\n",
       " {'imovel': {'tipos': {'propriedade': 'Casa'},\n",
       "   'endereco': {'bairro': 'Jacarepaguá',\n",
       "    'localizacao': {'type': 'Point', 'coordinates': [0, 0]}},\n",
       "   'vagasGaragem': 1,\n",
       "   'area': 50,\n",
       "   'caracteristicas': {'propriedade': \"['Sauna', 'Piscina', 'Closet', 'Varanda', 'Acessibilidade', 'Armários Planejados', 'Mobiliado']\",\n",
       "    'condominio': \"['Quadra Poliesportiva', 'Comércio/Serviços no Condomínio', 'Serviço de Transporte no Condomínio', 'Salão de Festas', 'Playground', 'Estacionamento Coberto', 'Aceita Pet', 'Academia']\",\n",
       "    'entorno': \"['Próximo ao Shopping', 'Próximo a Escola Particular', 'Próximo a Comércio Diversos', 'Próximo a Restaurante', 'Próximo a Escola Pública', 'Próximo a Mercado', 'Próximo a Praia', 'Próximo a Academia']\"}},\n",
       "  'anuncio': {'tipos': {'publicacao': 'Padrão', 'listagem': 'Usado'},\n",
       "   'valores': {'venda': 244000.0,\n",
       "    'aluguel': 0.0,\n",
       "    'condominio': 450.0,\n",
       "    'iptu': 330.0},\n",
       "   'descricao': 'Amplo imóvel para venda com 2 quartos, sendo 0 suítes, e 1 banheiros no total.'}},\n",
       " {'imovel': {'tipos': {'propriedade': 'Apartamento'},\n",
       "   'endereco': {'bairro': 'Botafogo',\n",
       "    'localizacao': {'type': 'Point',\n",
       "     'coordinates': [-43.187335, -22.9564526]}},\n",
       "   'vagasGaragem': 0,\n",
       "   'area': 0,\n",
       "   'caracteristicas': {'propriedade': \"['Mobiliado', 'Vista Panorâmica']\",\n",
       "    'condominio': \"['Comércio/Serviços no Condomínio', 'Playground', 'Depósito Privativo', 'Sauna', 'Serviço de Transporte no Condomínio', 'Churrasqueira', 'Quadra Poliesportiva', 'Segurança Interna', 'Piscina', 'Aceita Pet', 'Porteiro 24 Horas', 'Elevador', 'Bicicletário', 'Sistema de Incêndio', 'Salão de Festas', 'Academia', 'Estacionamento Coberto', 'Acessibilidade', 'Salão de Jogos', 'Estacionamento Visitantes']\",\n",
       "    'entorno': '[]'}},\n",
       "  'anuncio': {'tipos': {'publicacao': 'Padrão', 'listagem': 'Usado'},\n",
       "   'valores': {'venda': 1890000.0,\n",
       "    'aluguel': 0.0,\n",
       "    'condominio': 0.0,\n",
       "    'iptu': 0.0},\n",
       "   'descricao': 'Amplo imóvel para venda com 0 quartos, sendo 0 suítes, e 1 banheiros no total.'}},\n",
       " {'imovel': {'tipos': {'propriedade': 'Apartamento'},\n",
       "   'endereco': {'bairro': 'Copacabana',\n",
       "    'localizacao': {'type': 'Point', 'coordinates': [0, 0]}},\n",
       "   'vagasGaragem': 0,\n",
       "   'area': 70,\n",
       "   'caracteristicas': {'propriedade': '[]',\n",
       "    'condominio': '[]',\n",
       "    'entorno': \"['Próximo a Serviços de Saúde', 'Próximo a Parques e Áreas Verdes', 'Próximo a Escola Particular', 'Próximo a Praia', 'Próximo a Comércio Diversos', 'Próximo a Escola Pública', 'Próximo a Restaurante', 'Próximo ao Metrô', 'Próximo a Farmácia', 'Próximo a Academia', 'Próximo a Mercado', 'Próximo a Áreas de Lazer', 'Próximo ao Shopping']\"}},\n",
       "  'anuncio': {'tipos': {'publicacao': 'Padrão', 'listagem': 'Usado'},\n",
       "   'valores': {'venda': 735000.0,\n",
       "    'aluguel': 0.0,\n",
       "    'condominio': 800.0,\n",
       "    'iptu': 700.0},\n",
       "   'descricao': 'Amplo imóvel para venda com 2 quartos, sendo 0 suítes, e 1 banheiros no total.'}},\n",
       " {'imovel': {'tipos': {'propriedade': 'Casa'},\n",
       "   'endereco': {'bairro': 'Botafogo',\n",
       "    'localizacao': {'type': 'Point',\n",
       "     'coordinates': [-43.1816275, -22.9443828]}},\n",
       "   'vagasGaragem': 2,\n",
       "   'area': 199,\n",
       "   'caracteristicas': {'propriedade': \"['Cozinha Americana', 'Vista Panorâmica', 'Gás Encanado', 'Terraço', 'Acessibilidade', 'Ambientes Integrados', 'Sauna', 'Piscina', 'Churrasqueira', 'Mobiliado', 'Varanda', 'Quarto/WC Empregada']\",\n",
       "    'condominio': \"['Porteiro 24 Horas', 'Playground', 'Segurança Interna', 'Academia', 'Depósito Privativo', 'Estacionamento Coberto']\",\n",
       "    'entorno': \"['Próximo ao Metrô', 'Próximo a Escola Particular', 'Próximo a Áreas de Lazer', 'Próximo ao Shopping', 'Próximo a Escola Pública', 'Próximo a Centro Empresarial', 'Próximo a Parques e Áreas Verdes', 'Próximo a Serviços de Saúde', 'Próximo a Restaurante', 'Próximo a Academia', 'Próximo a Farmácia', 'Próximo a Mercado', 'Próximo a Praia', 'Próximo a Comércio Diversos']\"}},\n",
       "  'anuncio': {'tipos': {'publicacao': 'Super Destaque', 'listagem': 'Usado'},\n",
       "   'valores': {'venda': 2190000.0,\n",
       "    'aluguel': 0.0,\n",
       "    'condominio': 2050.0,\n",
       "    'iptu': 397.0},\n",
       "   'descricao': 'Amplo imóvel para venda com 4 quartos, sendo 1 suítes, e 2 banheiros no total.'}},\n",
       " {'imovel': {'tipos': {'propriedade': 'Apartamento'},\n",
       "   'endereco': {'bairro': 'Lapa',\n",
       "    'localizacao': {'type': 'Point',\n",
       "     'coordinates': [-43.1825899, -22.9144053]}},\n",
       "   'vagasGaragem': 2,\n",
       "   'area': 170,\n",
       "   'caracteristicas': {'propriedade': \"['Mobiliado', 'Varanda', 'Cozinha Americana', 'Armários Planejados', 'Closet', 'Gás Encanado', 'Ambientes Integrados', 'Vista Panorâmica', 'Terraço', 'Acessibilidade', 'Quarto/WC Empregada', 'Área de Serviço', 'Piscina', 'Churrasqueira']\",\n",
       "    'condominio': \"['Elevador', 'Bicicletário', 'Porteiro 24 Horas', 'Salão de Jogos', 'Churrasqueira', 'Playground', 'Acessibilidade', 'Academia', 'Aceita Pet', 'Serviço de Transporte no Condomínio', 'Comércio/Serviços no Condomínio', 'Piscina', 'Estacionamento Visitantes', 'Quadra Poliesportiva', 'Sauna', 'Estacionamento Coberto']\",\n",
       "    'entorno': \"['Próximo a Serviços de Saúde', 'Próximo a Escola Particular', 'Próximo a Parques e Áreas Verdes']\"}},\n",
       "  'anuncio': {'tipos': {'publicacao': 'Destaque', 'listagem': 'Lançamento'},\n",
       "   'valores': {'venda': 690000.0,\n",
       "    'aluguel': 0.0,\n",
       "    'condominio': 480.0,\n",
       "    'iptu': 0.0},\n",
       "   'descricao': 'Amplo imóvel para venda com 2 quartos, sendo 1 suítes, e 2 banheiros no total.'}},\n",
       " {'imovel': {'tipos': {'propriedade': 'Cobertura'},\n",
       "   'endereco': {'bairro': 'Copacabana',\n",
       "    'localizacao': {'type': 'Point',\n",
       "     'coordinates': [-43.1888153, -22.9778673]}},\n",
       "   'vagasGaragem': 2,\n",
       "   'area': 250,\n",
       "   'caracteristicas': {'propriedade': \"['Ambientes Integrados', 'Sauna', 'Piscina', 'Vista Panorâmica', 'Closet', 'Área de Serviço', 'Varanda', 'Cozinha Americana', 'Gás Encanado', 'Churrasqueira', 'Mobiliado', 'Armários Planejados', 'Acessibilidade', 'Terraço', 'Quarto/WC Empregada']\",\n",
       "    'condominio': \"['Estacionamento Visitantes', 'Estacionamento Coberto', 'Bicicletário', 'Piscina', 'Quadra Poliesportiva', 'Sauna', 'Segurança Interna', 'Depósito Privativo', 'Serviço de Transporte no Condomínio', 'Elevador', 'Salão de Jogos', 'Aceita Pet', 'Porteiro 24 Horas', 'Playground', 'Sistema de Incêndio', 'Churrasqueira', 'Academia', 'Acessibilidade', 'Salão de Festas', 'Comércio/Serviços no Condomínio']\",\n",
       "    'entorno': \"['Próximo a Serviços de Saúde', 'Próximo a Academia', 'Próximo a Restaurante', 'Próximo a Praia', 'Próximo a Parques e Áreas Verdes', 'Próximo a Centro Empresarial', 'Próximo a Farmácia', 'Próximo a Mercado']\"}},\n",
       "  'anuncio': {'tipos': {'publicacao': 'Destaque', 'listagem': 'Lançamento'},\n",
       "   'valores': {'venda': 3000000.0,\n",
       "    'aluguel': 0.0,\n",
       "    'condominio': 1800.0,\n",
       "    'iptu': 500.0},\n",
       "   'descricao': 'Amplo imóvel para venda com 3 quartos, sendo 1 suítes, e 2 banheiros no total.'}},\n",
       " {'imovel': {'tipos': {'propriedade': 'Apartamento'},\n",
       "   'endereco': {'bairro': 'Rocha',\n",
       "    'localizacao': {'type': 'Point',\n",
       "     'coordinates': [-43.2499016, -22.9017852]}},\n",
       "   'vagasGaragem': 0,\n",
       "   'area': 67,\n",
       "   'caracteristicas': {'propriedade': \"['Acessibilidade', 'Gás Encanado', 'Área de Serviço', 'Closet', 'Quarto/WC Empregada', 'Sauna', 'Armários Planejados', 'Vista Panorâmica', 'Cozinha Americana']\",\n",
       "    'condominio': \"['Segurança Interna', 'Depósito Privativo', 'Academia', 'Sistema de Incêndio', 'Elevador']\",\n",
       "    'entorno': \"['Próximo a Comércio Diversos', 'Próximo a Escola Particular', 'Próximo a Academia', 'Próximo a Praia', 'Próximo a Farmácia', 'Próximo a Mercado', 'Próximo a Parques e Áreas Verdes', 'Próximo a Serviços de Saúde']\"}},\n",
       "  'anuncio': {'tipos': {'publicacao': 'Super Destaque', 'listagem': 'Usado'},\n",
       "   'valores': {'venda': 320000.0,\n",
       "    'aluguel': 0.0,\n",
       "    'condominio': 0.0,\n",
       "    'iptu': 135.0},\n",
       "   'descricao': 'Amplo imóvel para venda com 2 quartos, sendo 0 suítes, e 1 banheiros no total.'}},\n",
       " {'imovel': {'tipos': {'propriedade': 'Casa'},\n",
       "   'endereco': {'bairro': 'Barra da Tijuca',\n",
       "    'localizacao': {'type': 'Point', 'coordinates': [-43.3413206, -22.99961]}},\n",
       "   'vagasGaragem': 0,\n",
       "   'area': 370,\n",
       "   'caracteristicas': {'propriedade': \"['Acessibilidade', 'Quarto/WC Empregada', 'Armários Planejados', 'Área de Serviço', 'Ambientes Integrados', 'Varanda', 'Sauna']\",\n",
       "    'condominio': \"['Churrasqueira', 'Depósito Privativo', 'Quadra Poliesportiva', 'Comércio/Serviços no Condomínio', 'Estacionamento Coberto', 'Acessibilidade', 'Segurança Interna', 'Sauna', 'Piscina', 'Elevador', 'Bicicletário', 'Salão de Jogos', 'Sistema de Incêndio', 'Academia', 'Estacionamento Visitantes', 'Playground', 'Serviço de Transporte no Condomínio', 'Salão de Festas']\",\n",
       "    'entorno': \"['Próximo a Restaurante', 'Próximo a Comércio Diversos', 'Próximo a Academia', 'Próximo a Serviços de Saúde', 'Próximo ao Shopping']\"}},\n",
       "  'anuncio': {'tipos': {'publicacao': 'Super Destaque', 'listagem': 'Usado'},\n",
       "   'valores': {'venda': 3200000.0,\n",
       "    'aluguel': 0.0,\n",
       "    'condominio': 2520.0,\n",
       "    'iptu': 7600.0},\n",
       "   'descricao': 'Amplo imóvel para venda com 4 quartos, sendo 1 suítes, e 2 banheiros no total.'}},\n",
       " {'imovel': {'tipos': {'propriedade': 'Casa'},\n",
       "   'endereco': {'bairro': 'Copacabana',\n",
       "    'localizacao': {'type': 'Point',\n",
       "     'coordinates': [-43.1918012, -22.9756286]}},\n",
       "   'vagasGaragem': 0,\n",
       "   'area': 30,\n",
       "   'caracteristicas': {'propriedade': \"['Cozinha Americana', 'Mobiliado', 'Sauna', 'Piscina', 'Varanda', 'Vista Panorâmica', 'Ambientes Integrados', 'Churrasqueira', 'Acessibilidade', 'Terraço']\",\n",
       "    'condominio': \"['Estacionamento Coberto', 'Quadra Poliesportiva', 'Aceita Pet', 'Porteiro 24 Horas', 'Depósito Privativo', 'Serviço de Transporte no Condomínio', 'Salão de Festas', 'Acessibilidade', 'Estacionamento Visitantes', 'Playground', 'Salão de Jogos']\",\n",
       "    'entorno': \"['Próximo ao Shopping', 'Próximo a Mercado', 'Próximo a Restaurante']\"}},\n",
       "  'anuncio': {'tipos': {'publicacao': 'Padrão', 'listagem': 'Usado'},\n",
       "   'valores': {'venda': 650000.0,\n",
       "    'aluguel': 0.0,\n",
       "    'condominio': 0.0,\n",
       "    'iptu': 0.0},\n",
       "   'descricao': 'Amplo imóvel para venda com 1 quartos, sendo 0 suítes, e 1 banheiros no total.'}},\n",
       " {'imovel': {'tipos': {'propriedade': 'Casa'},\n",
       "   'endereco': {'bairro': 'Flamengo',\n",
       "    'localizacao': {'type': 'Point',\n",
       "     'coordinates': [-43.1758048, -22.9339568]}},\n",
       "   'vagasGaragem': 0,\n",
       "   'area': 46,\n",
       "   'caracteristicas': {'propriedade': \"['Varanda', 'Closet', 'Armários Planejados', 'Piscina', 'Ambientes Integrados', 'Mobiliado', 'Área de Serviço', 'Acessibilidade', 'Churrasqueira', 'Cozinha Americana', 'Terraço']\",\n",
       "    'condominio': \"['Serviço de Transporte no Condomínio', 'Bicicletário', 'Sauna', 'Comércio/Serviços no Condomínio', 'Estacionamento Visitantes', 'Acessibilidade', 'Elevador', 'Churrasqueira', 'Depósito Privativo', 'Academia', 'Playground', 'Segurança Interna', 'Quadra Poliesportiva', 'Sistema de Incêndio']\",\n",
       "    'entorno': '[]'}},\n",
       "  'anuncio': {'tipos': {'publicacao': 'Padrão', 'listagem': 'Usado'},\n",
       "   'valores': {'venda': 510000.0,\n",
       "    'aluguel': 0.0,\n",
       "    'condominio': 535.0,\n",
       "    'iptu': 724.0},\n",
       "   'descricao': 'Amplo imóvel para venda com 1 quartos, sendo 0 suítes, e 1 banheiros no total.'}}]"
      ]
     },
     "execution_count": 25,
     "metadata": {},
     "output_type": "execute_result"
    }
   ],
   "source": [
    "dados_norm['listings'][0]"
   ]
  },
  {
   "cell_type": "code",
   "execution_count": 35,
   "metadata": {},
   "outputs": [],
   "source": [
    "bairros=dados_normal_listings['imovel_endereco_bairro']"
   ]
  },
  {
   "attachments": {},
   "cell_type": "markdown",
   "metadata": {
    "id": "4S6wyakFevgQ"
   },
   "source": [
    "### Opções de configuração\n",
    "\n",
    "[Documentação](https://pandas.pydata.org/pandas-docs/stable/user_guide/options.html)"
   ]
  },
  {
   "cell_type": "code",
   "execution_count": 37,
   "metadata": {
    "id": "6UVcvI0-evgR"
   },
   "outputs": [
    {
     "data": {
      "text/plain": [
       "Index(['São Cristóvão', 'São Cristóvão', 'São Cristóvão', 'São Cristóvão',\n",
       "       'São Cristóvão', 'São Cristóvão', 'São Cristóvão', 'Benfica', 'Benfica',\n",
       "       'Benfica',\n",
       "       ...\n",
       "       'Vila Kosmos', 'Vila Kosmos', 'Vila Kosmos', 'Vista Alegre',\n",
       "       'Vista Alegre', 'Vista Alegre', 'Vista Alegre', 'Vista Alegre',\n",
       "       'Vista Alegre', 'Vista Alegre'],\n",
       "      dtype='object', name='bairros', length=1127)"
      ]
     },
     "execution_count": 37,
     "metadata": {},
     "output_type": "execute_result"
    }
   ],
   "source": [
    "bairros_todos=dados2.index.get_level_values('bairros')\n",
    "bairros_todos"
   ]
  },
  {
   "cell_type": "code",
   "execution_count": 41,
   "metadata": {
    "id": "A8Nvt66tevgR"
   },
   "outputs": [],
   "source": [
    "bairros_todos=pd.Series(bairros_todos.unique())"
   ]
  },
  {
   "cell_type": "code",
   "execution_count": 42,
   "metadata": {},
   "outputs": [],
   "source": [
    "bairros_amostra=pd.Series(bairros.unique())"
   ]
  },
  {
   "cell_type": "code",
   "execution_count": 43,
   "metadata": {},
   "outputs": [
    {
     "data": {
      "text/plain": [
       "0        Data Science\n",
       "1            Big Data\n",
       "2                  DS\n",
       "3    Machine Learning\n",
       "4                  ML\n",
       "dtype: object"
      ]
     },
     "execution_count": 43,
     "metadata": {},
     "output_type": "execute_result"
    }
   ],
   "source": [
    "nomes = pd.Series(['Data Science', 'Big Data', 'DS', 'Machine Learning', 'ML'])\n",
    "nomes"
   ]
  },
  {
   "attachments": {},
   "cell_type": "markdown",
   "metadata": {
    "id": "xmP4ARNSevgR"
   },
   "source": [
    "[Opções disponíveis](https://pandas.pydata.org/pandas-docs/stable/user_guide/options.html#available-options)"
   ]
  },
  {
   "cell_type": "code",
   "execution_count": 49,
   "metadata": {
    "id": "rKUvxnvnevgS"
   },
   "outputs": [],
   "source": [
    "df = pd.DataFrame(\n",
    "    {\n",
    "        'alunos': ['Juca', 'Zeca', 'Ana', 'Rita', 'Lia', 'Beto'],\n",
    "        'notas': [8, 6.5, 10, 7, 6, 0]\n",
    "    }\n",
    ").set_index('alunos')"
   ]
  },
  {
   "cell_type": "code",
   "execution_count": 52,
   "metadata": {
    "id": "Gptfp9ygevgS"
   },
   "outputs": [
    {
     "data": {
      "text/html": [
       "<div>\n",
       "<style scoped>\n",
       "    .dataframe tbody tr th:only-of-type {\n",
       "        vertical-align: middle;\n",
       "    }\n",
       "\n",
       "    .dataframe tbody tr th {\n",
       "        vertical-align: top;\n",
       "    }\n",
       "\n",
       "    .dataframe thead th {\n",
       "        text-align: right;\n",
       "    }\n",
       "</style>\n",
       "<table border=\"1\" class=\"dataframe\">\n",
       "  <thead>\n",
       "    <tr style=\"text-align: right;\">\n",
       "      <th></th>\n",
       "      <th>notas</th>\n",
       "      <th>resultado</th>\n",
       "    </tr>\n",
       "    <tr>\n",
       "      <th>alunos</th>\n",
       "      <th></th>\n",
       "      <th></th>\n",
       "    </tr>\n",
       "  </thead>\n",
       "  <tbody>\n",
       "    <tr>\n",
       "      <th>Juca</th>\n",
       "      <td>8.0</td>\n",
       "      <td>Aprovado</td>\n",
       "    </tr>\n",
       "    <tr>\n",
       "      <th>Zeca</th>\n",
       "      <td>6.5</td>\n",
       "      <td>Recuperação</td>\n",
       "    </tr>\n",
       "    <tr>\n",
       "      <th>Ana</th>\n",
       "      <td>10.0</td>\n",
       "      <td>Aprovado</td>\n",
       "    </tr>\n",
       "    <tr>\n",
       "      <th>Rita</th>\n",
       "      <td>7.0</td>\n",
       "      <td>Aprovado</td>\n",
       "    </tr>\n",
       "    <tr>\n",
       "      <th>Lia</th>\n",
       "      <td>6.0</td>\n",
       "      <td>Recuperação</td>\n",
       "    </tr>\n",
       "    <tr>\n",
       "      <th>Beto</th>\n",
       "      <td>0.0</td>\n",
       "      <td>Reprovado</td>\n",
       "    </tr>\n",
       "  </tbody>\n",
       "</table>\n",
       "</div>"
      ],
      "text/plain": [
       "        notas    resultado\n",
       "alunos                    \n",
       "Juca      8.0     Aprovado\n",
       "Zeca      6.5  Recuperação\n",
       "Ana      10.0     Aprovado\n",
       "Rita      7.0     Aprovado\n",
       "Lia       6.0  Recuperação\n",
       "Beto      0.0    Reprovado"
      ]
     },
     "execution_count": 52,
     "metadata": {},
     "output_type": "execute_result"
    }
   ],
   "source": [
    "classes=[0, 5.9, 6.9, 10]\n",
    "rotulos=['Reprovado', 'Recuperação', 'Aprovado']\n",
    "df['resultado']=pd.cut(x=df.notas, bins=classes, labels=rotulos, include_lowest=True)\n",
    "df"
   ]
  },
  {
   "cell_type": "code",
   "execution_count": 63,
   "metadata": {
    "id": "QIif0CPGevgS"
   },
   "outputs": [
    {
     "data": {
      "text/html": [
       "<div>\n",
       "<style scoped>\n",
       "    .dataframe tbody tr th:only-of-type {\n",
       "        vertical-align: middle;\n",
       "    }\n",
       "\n",
       "    .dataframe tbody tr th {\n",
       "        vertical-align: top;\n",
       "    }\n",
       "\n",
       "    .dataframe thead th {\n",
       "        text-align: right;\n",
       "    }\n",
       "</style>\n",
       "<table border=\"1\" class=\"dataframe\">\n",
       "  <thead>\n",
       "    <tr style=\"text-align: right;\">\n",
       "      <th></th>\n",
       "      <th>Idade</th>\n",
       "      <th>Altura</th>\n",
       "    </tr>\n",
       "  </thead>\n",
       "  <tbody>\n",
       "    <tr>\n",
       "      <th>Zeca</th>\n",
       "      <td>25</td>\n",
       "      <td>176</td>\n",
       "    </tr>\n",
       "    <tr>\n",
       "      <th>Ana</th>\n",
       "      <td>32</td>\n",
       "      <td>152</td>\n",
       "    </tr>\n",
       "  </tbody>\n",
       "</table>\n",
       "</div>"
      ],
      "text/plain": [
       "      Idade  Altura\n",
       "Zeca     25     176\n",
       "Ana      32     152"
      ]
     },
     "execution_count": 63,
     "metadata": {},
     "output_type": "execute_result"
    }
   ],
   "source": [
    "df = pd.DataFrame.from_dict({'Zeca': [25,  176], 'Ana': [32, 152]}, columns=['Idade', 'Altura'], orient='index')\n",
    "df"
   ]
  },
  {
   "cell_type": "code",
   "execution_count": 76,
   "metadata": {
    "id": "MY69H5oEevgS"
   },
   "outputs": [
    {
     "data": {
      "text/html": [
       "<div>\n",
       "<style scoped>\n",
       "    .dataframe tbody tr th:only-of-type {\n",
       "        vertical-align: middle;\n",
       "    }\n",
       "\n",
       "    .dataframe tbody tr th {\n",
       "        vertical-align: top;\n",
       "    }\n",
       "\n",
       "    .dataframe thead th {\n",
       "        text-align: right;\n",
       "    }\n",
       "</style>\n",
       "<table border=\"1\" class=\"dataframe\">\n",
       "  <thead>\n",
       "    <tr style=\"text-align: right;\">\n",
       "      <th></th>\n",
       "      <th></th>\n",
       "      <th>0</th>\n",
       "    </tr>\n",
       "  </thead>\n",
       "  <tbody>\n",
       "    <tr>\n",
       "      <th rowspan=\"2\" valign=\"top\">Zeca</th>\n",
       "      <th>Idade</th>\n",
       "      <td>25</td>\n",
       "    </tr>\n",
       "    <tr>\n",
       "      <th>Altura</th>\n",
       "      <td>176</td>\n",
       "    </tr>\n",
       "    <tr>\n",
       "      <th rowspan=\"2\" valign=\"top\">Ana</th>\n",
       "      <th>Idade</th>\n",
       "      <td>32</td>\n",
       "    </tr>\n",
       "    <tr>\n",
       "      <th>Altura</th>\n",
       "      <td>152</td>\n",
       "    </tr>\n",
       "  </tbody>\n",
       "</table>\n",
       "</div>"
      ],
      "text/plain": [
       "               0\n",
       "Zeca Idade    25\n",
       "     Altura  176\n",
       "Ana  Idade    32\n",
       "     Altura  152"
      ]
     },
     "execution_count": 76,
     "metadata": {},
     "output_type": "execute_result"
    }
   ],
   "source": [
    "pd.DataFrame(df.stack())."
   ]
  },
  {
   "cell_type": "code",
   "execution_count": null,
   "metadata": {
    "id": "I2UKn2kWevgT"
   },
   "outputs": [],
   "source": []
  },
  {
   "cell_type": "code",
   "execution_count": null,
   "metadata": {
    "id": "HaWo0sq5evgT"
   },
   "outputs": [],
   "source": []
  },
  {
   "attachments": {},
   "cell_type": "markdown",
   "metadata": {
    "id": "43QYxdBWevgT"
   },
   "source": [
    "## Carregando os dados"
   ]
  },
  {
   "attachments": {},
   "cell_type": "markdown",
   "metadata": {
    "id": "votr38ZYevgT"
   },
   "source": [
    "### Arquivos JSON - `read_json`\n",
    "\n",
    "[Documentação](https://pandas.pydata.org/pandas-docs/stable/reference/api/pandas.read_json.html)\n",
    "\n",
    "## JSON\n",
    "\n",
    "JSON (**J**ava**S**cript **O**bject **N**otation - Notação de Objetos JavaScript) é uma formatação leve de troca de dados. Para seres humanos, é fácil de ler e escrever. Para máquinas, é fácil de interpretar e gerar. Está baseado em um subconjunto da linguagem de programação JavaScript, Standard ECMA-262 3a Edição - Dezembro - 1999. JSON é em formato texto e completamente independente de linguagem, pois usa convenções que são familiares às linguagens C e familiares, incluindo C++, C#, Java, JavaScript, Perl, Python e muitas outras. Estas propriedades fazem com que JSON seja um formato ideal de troca de dados.\n",
    "\n",
    "[fonte](https://www.json.org/json-pt.html)\n",
    "\n",
    "[Online JSON Viewer](http://jsonviewer.stack.hu/)"
   ]
  },
  {
   "cell_type": "code",
   "execution_count": null,
   "metadata": {
    "id": "mqhtwsPSevgU"
   },
   "outputs": [],
   "source": []
  },
  {
   "cell_type": "code",
   "execution_count": null,
   "metadata": {
    "id": "9QbVDt0LevgU"
   },
   "outputs": [],
   "source": []
  },
  {
   "cell_type": "code",
   "execution_count": null,
   "metadata": {
    "id": "FU7LgMbAevgU"
   },
   "outputs": [],
   "source": []
  },
  {
   "cell_type": "code",
   "execution_count": null,
   "metadata": {
    "id": "xqMteeCFevgU"
   },
   "outputs": [],
   "source": []
  },
  {
   "attachments": {},
   "cell_type": "markdown",
   "metadata": {
    "id": "Q0coCxxrevgU"
   },
   "source": [
    "### Arquivos EXCEL - `read_excel`\n",
    "\n",
    "[Documentação](https://pandas.pydata.org/pandas-docs/stable/reference/api/pandas.read_excel.html)"
   ]
  },
  {
   "cell_type": "code",
   "execution_count": null,
   "metadata": {
    "id": "xoSV41cTevgV",
    "scrolled": true
   },
   "outputs": [],
   "source": []
  },
  {
   "attachments": {},
   "cell_type": "markdown",
   "metadata": {
    "id": "A05bkoTPevgV"
   },
   "source": [
    "# TRANSFORMANDO E TRATANDO OS DADOS\n",
    "---"
   ]
  },
  {
   "attachments": {},
   "cell_type": "markdown",
   "metadata": {
    "id": "Wy7HvxaZevgV"
   },
   "source": [
    "## Transformando dados no formato JSON para uma tabela"
   ]
  },
  {
   "cell_type": "code",
   "execution_count": null,
   "metadata": {
    "id": "g0533aVtevgV"
   },
   "outputs": [],
   "source": []
  },
  {
   "attachments": {},
   "cell_type": "markdown",
   "metadata": {
    "id": "bLn7laG1evgV"
   },
   "source": [
    "### `json_normalize`\n",
    "\n",
    "[Documentação](https://pandas.pydata.org/pandas-docs/stable/reference/api/pandas.json_normalize.html)"
   ]
  },
  {
   "cell_type": "code",
   "execution_count": null,
   "metadata": {
    "id": "NqBTVXNKevgW"
   },
   "outputs": [],
   "source": []
  },
  {
   "cell_type": "code",
   "execution_count": null,
   "metadata": {
    "id": "Tq_44heHevgW"
   },
   "outputs": [],
   "source": []
  },
  {
   "cell_type": "code",
   "execution_count": null,
   "metadata": {
    "id": "NyQdnK6tevgW"
   },
   "outputs": [],
   "source": []
  },
  {
   "cell_type": "code",
   "execution_count": null,
   "metadata": {
    "id": "Sz6n0-4gevgW",
    "scrolled": true
   },
   "outputs": [],
   "source": []
  },
  {
   "cell_type": "code",
   "execution_count": null,
   "metadata": {
    "id": "nyYi0xgEevgW"
   },
   "outputs": [],
   "source": []
  },
  {
   "cell_type": "code",
   "execution_count": null,
   "metadata": {
    "id": "DJqqVu0YevgX"
   },
   "outputs": [],
   "source": []
  },
  {
   "cell_type": "code",
   "execution_count": null,
   "metadata": {
    "id": "x4ZlYa3vevgX",
    "scrolled": true
   },
   "outputs": [],
   "source": []
  },
  {
   "cell_type": "code",
   "execution_count": null,
   "metadata": {
    "id": "arGcoQHuevgX",
    "scrolled": true
   },
   "outputs": [],
   "source": []
  },
  {
   "attachments": {},
   "cell_type": "markdown",
   "metadata": {
    "id": "cpaDGnecevgX"
   },
   "source": [
    "## Trabalhando com dados textuais"
   ]
  },
  {
   "attachments": {},
   "cell_type": "markdown",
   "metadata": {
    "id": "CMgPdhFNevgX"
   },
   "source": [
    "### Transformando *strings* em listas do Python"
   ]
  },
  {
   "cell_type": "code",
   "execution_count": null,
   "metadata": {
    "id": "vJmnnHZ_evgY",
    "scrolled": true
   },
   "outputs": [],
   "source": []
  },
  {
   "cell_type": "code",
   "execution_count": null,
   "metadata": {
    "id": "karvMBcBifJf"
   },
   "outputs": [],
   "source": []
  },
  {
   "cell_type": "code",
   "execution_count": null,
   "metadata": {
    "id": "Cw5aR9T4ifJg"
   },
   "outputs": [],
   "source": []
  },
  {
   "attachments": {},
   "cell_type": "markdown",
   "metadata": {
    "id": "cYPl0qylifJj"
   },
   "source": [
    "#### Métodos de *strings*\n",
    "\n",
    "[Documentação](https://docs.python.org/3.6/library/stdtypes.html#string-methods)"
   ]
  },
  {
   "cell_type": "code",
   "execution_count": null,
   "metadata": {
    "id": "IYEo2u_bifJl"
   },
   "outputs": [],
   "source": []
  },
  {
   "cell_type": "code",
   "execution_count": null,
   "metadata": {
    "id": "QEy7_TWJevgZ"
   },
   "outputs": [],
   "source": []
  },
  {
   "cell_type": "code",
   "execution_count": null,
   "metadata": {
    "id": "lFO8yF2QifJt"
   },
   "outputs": [],
   "source": []
  },
  {
   "cell_type": "code",
   "execution_count": null,
   "metadata": {
    "id": "-b5SugvuifJv"
   },
   "outputs": [],
   "source": []
  },
  {
   "cell_type": "code",
   "execution_count": null,
   "metadata": {
    "id": "OagOgk64ifJx"
   },
   "outputs": [],
   "source": []
  },
  {
   "cell_type": "code",
   "execution_count": null,
   "metadata": {
    "id": "Ek6sMqhsifJz"
   },
   "outputs": [],
   "source": []
  },
  {
   "cell_type": "code",
   "execution_count": null,
   "metadata": {
    "id": "oRWEteJKifJ1"
   },
   "outputs": [],
   "source": []
  },
  {
   "attachments": {},
   "cell_type": "markdown",
   "metadata": {
    "id": "8Ak250BYevga"
   },
   "source": [
    "#### `str`\n",
    "\n",
    "[Documentação](https://pandas.pydata.org/pandas-docs/stable/reference/api/pandas.Series.str.html)"
   ]
  },
  {
   "cell_type": "code",
   "execution_count": null,
   "metadata": {
    "id": "6vv8s40ievga"
   },
   "outputs": [],
   "source": []
  },
  {
   "cell_type": "code",
   "execution_count": null,
   "metadata": {
    "id": "GKIZLU9_ifJ3"
   },
   "outputs": [],
   "source": []
  },
  {
   "cell_type": "code",
   "execution_count": null,
   "metadata": {
    "id": "j5ZntTzAifJ5"
   },
   "outputs": [],
   "source": []
  },
  {
   "cell_type": "code",
   "execution_count": null,
   "metadata": {
    "id": "TJpsQdSPifJ9"
   },
   "outputs": [],
   "source": []
  },
  {
   "cell_type": "code",
   "execution_count": null,
   "metadata": {
    "id": "-diMtJl7ifKA"
   },
   "outputs": [],
   "source": []
  },
  {
   "cell_type": "code",
   "execution_count": null,
   "metadata": {
    "id": "yM8GML9yifKC"
   },
   "outputs": [],
   "source": []
  },
  {
   "cell_type": "code",
   "execution_count": null,
   "metadata": {
    "id": "-yHC8F6fifKF"
   },
   "outputs": [],
   "source": []
  },
  {
   "cell_type": "code",
   "execution_count": null,
   "metadata": {
    "id": "TOZJO0GRifKG"
   },
   "outputs": [],
   "source": []
  },
  {
   "attachments": {},
   "cell_type": "markdown",
   "metadata": {
    "id": "udrVGc3_evgb"
   },
   "source": [
    "#### `filter`\n",
    "\n",
    "[Documentação](https://pandas.pydata.org/pandas-docs/stable/reference/api/pandas.DataFrame.filter.html)"
   ]
  },
  {
   "cell_type": "code",
   "execution_count": null,
   "metadata": {
    "id": "7uNZ9jOCevgc"
   },
   "outputs": [],
   "source": []
  },
  {
   "cell_type": "code",
   "execution_count": null,
   "metadata": {
    "id": "S1vRA6-pifKN",
    "scrolled": true
   },
   "outputs": [],
   "source": []
  },
  {
   "attachments": {},
   "cell_type": "markdown",
   "metadata": {
    "id": "1NRyywesevgc"
   },
   "source": [
    "# COMBINANDO CONJUNTOS DE DADOS\n",
    "---"
   ]
  },
  {
   "cell_type": "code",
   "execution_count": null,
   "metadata": {
    "id": "fVukYp7wevgc"
   },
   "outputs": [],
   "source": []
  },
  {
   "cell_type": "code",
   "execution_count": null,
   "metadata": {
    "id": "ssxgfqonevgc"
   },
   "outputs": [],
   "source": []
  },
  {
   "attachments": {},
   "cell_type": "markdown",
   "metadata": {
    "id": "rZgiUKLdevgc"
   },
   "source": [
    "## Empilhando *DataFrames*"
   ]
  },
  {
   "attachments": {},
   "cell_type": "markdown",
   "metadata": {
    "id": "-h32tlhVevgd"
   },
   "source": [
    "### `append`\n",
    "\n",
    "[Documentação](https://pandas.pydata.org/pandas-docs/stable/reference/api/pandas.DataFrame.append.html)"
   ]
  },
  {
   "cell_type": "code",
   "execution_count": null,
   "metadata": {
    "id": "LHCKRDJ_evgd",
    "scrolled": true
   },
   "outputs": [],
   "source": []
  },
  {
   "cell_type": "code",
   "execution_count": null,
   "metadata": {
    "id": "tF1g0sR2evgd",
    "scrolled": true
   },
   "outputs": [],
   "source": []
  },
  {
   "cell_type": "code",
   "execution_count": null,
   "metadata": {
    "id": "bbBmb6dRevgd"
   },
   "outputs": [],
   "source": []
  },
  {
   "cell_type": "code",
   "execution_count": null,
   "metadata": {
    "id": "i9p8pJONevgd",
    "scrolled": true
   },
   "outputs": [],
   "source": []
  },
  {
   "attachments": {},
   "cell_type": "markdown",
   "metadata": {
    "id": "r2--u5uMevgd"
   },
   "source": [
    "### `concat`\n",
    "\n",
    "[Documentação](https://pandas.pydata.org/pandas-docs/stable/reference/api/pandas.concat.html)"
   ]
  },
  {
   "cell_type": "code",
   "execution_count": null,
   "metadata": {
    "id": "Slce5RQdevge"
   },
   "outputs": [],
   "source": []
  },
  {
   "cell_type": "code",
   "execution_count": null,
   "metadata": {
    "id": "44uiNz8Oevge"
   },
   "outputs": [],
   "source": []
  },
  {
   "attachments": {},
   "cell_type": "markdown",
   "metadata": {
    "id": "GJbtme1Gevge"
   },
   "source": [
    "## Combinando *DataFrames* a partir de uma chave de ligação"
   ]
  },
  {
   "cell_type": "code",
   "execution_count": null,
   "metadata": {
    "id": "-wKGhtQ0evge"
   },
   "outputs": [],
   "source": []
  },
  {
   "cell_type": "code",
   "execution_count": null,
   "metadata": {
    "id": "JphM_Y6Vevge"
   },
   "outputs": [],
   "source": []
  },
  {
   "attachments": {},
   "cell_type": "markdown",
   "metadata": {
    "id": "iWSZcYnuevgf"
   },
   "source": [
    "### Tratando a variável de ligação"
   ]
  },
  {
   "attachments": {},
   "cell_type": "markdown",
   "metadata": {
    "id": "EnAauv0Qevgf"
   },
   "source": [
    "#### Selecionando a variável de ligação nos dois *DataFrames*"
   ]
  },
  {
   "cell_type": "code",
   "execution_count": null,
   "metadata": {
    "id": "9ZROypsOevgf"
   },
   "outputs": [],
   "source": []
  },
  {
   "attachments": {},
   "cell_type": "markdown",
   "metadata": {
    "id": "l38MglWkevgf"
   },
   "source": [
    "[Documentação: `get_level_values`](https://pandas.pydata.org/pandas-docs/stable/reference/api/pandas.MultiIndex.get_level_values.html)"
   ]
  },
  {
   "cell_type": "code",
   "execution_count": null,
   "metadata": {
    "id": "PqOX0cVRevgf"
   },
   "outputs": [],
   "source": []
  },
  {
   "attachments": {},
   "cell_type": "markdown",
   "metadata": {
    "id": "mQQGRwbVevgg"
   },
   "source": [
    "#### Identificando e eliminando valores duplicados - `nunique` e `unique`\n",
    "\n",
    "[Documentação: `nunique`](https://pandas.pydata.org/pandas-docs/stable/reference/api/pandas.Series.nunique.html)\n",
    "\n",
    "[Documentação: `unique`](https://pandas.pydata.org/pandas-docs/stable/reference/api/pandas.Series.unique.html)"
   ]
  },
  {
   "cell_type": "code",
   "execution_count": null,
   "metadata": {
    "id": "oQ7JrM4oevgg"
   },
   "outputs": [],
   "source": []
  },
  {
   "cell_type": "code",
   "execution_count": null,
   "metadata": {
    "id": "3EseTUMGevgg"
   },
   "outputs": [],
   "source": []
  },
  {
   "cell_type": "code",
   "execution_count": null,
   "metadata": {
    "id": "wTzTjSG4evgg"
   },
   "outputs": [],
   "source": []
  },
  {
   "cell_type": "code",
   "execution_count": null,
   "metadata": {
    "id": "phexF7SWevgg"
   },
   "outputs": [],
   "source": []
  },
  {
   "cell_type": "code",
   "execution_count": null,
   "metadata": {
    "id": "P8IO0v72evgh",
    "scrolled": true
   },
   "outputs": [],
   "source": []
  },
  {
   "attachments": {},
   "cell_type": "markdown",
   "metadata": {
    "id": "SzEMZcrBevgh"
   },
   "source": [
    "---"
   ]
  },
  {
   "cell_type": "code",
   "execution_count": null,
   "metadata": {
    "id": "QDoTILAcevgh"
   },
   "outputs": [],
   "source": []
  },
  {
   "cell_type": "code",
   "execution_count": null,
   "metadata": {
    "id": "P8VPy0fmevgh"
   },
   "outputs": [],
   "source": []
  },
  {
   "cell_type": "code",
   "execution_count": null,
   "metadata": {
    "id": "d2r54C34evgi",
    "scrolled": true
   },
   "outputs": [],
   "source": []
  },
  {
   "attachments": {},
   "cell_type": "markdown",
   "metadata": {
    "id": "ivrVtUQlevgi"
   },
   "source": [
    "#### Verificando se existe correspondência entre as variáveis de ligação\n",
    "\n",
    "[Documentação](https://pandas.pydata.org/pandas-docs/stable/reference/api/pandas.Series.isin.html)"
   ]
  },
  {
   "cell_type": "code",
   "execution_count": null,
   "metadata": {
    "id": "RCPjMO2levgi",
    "scrolled": false
   },
   "outputs": [],
   "source": []
  },
  {
   "cell_type": "code",
   "execution_count": null,
   "metadata": {
    "id": "IFWWnS4Kevgi",
    "scrolled": true
   },
   "outputs": [],
   "source": []
  },
  {
   "cell_type": "code",
   "execution_count": null,
   "metadata": {
    "id": "uiacZ9lnevgi"
   },
   "outputs": [],
   "source": []
  },
  {
   "cell_type": "code",
   "execution_count": null,
   "metadata": {
    "id": "HSpGW6vdevgj"
   },
   "outputs": [],
   "source": []
  },
  {
   "attachments": {},
   "cell_type": "markdown",
   "metadata": {
    "id": "poxpGTtuevgj"
   },
   "source": [
    "#### Ajustando os valores\n",
    "\n",
    "[Documentação](https://pandas.pydata.org/pandas-docs/stable/reference/api/pandas.Series.replace.html)"
   ]
  },
  {
   "cell_type": "code",
   "execution_count": null,
   "metadata": {
    "id": "XTDo7AvYevgk"
   },
   "outputs": [],
   "source": []
  },
  {
   "cell_type": "code",
   "execution_count": null,
   "metadata": {
    "id": "NAqMX05Yevgk",
    "scrolled": true
   },
   "outputs": [],
   "source": []
  },
  {
   "cell_type": "code",
   "execution_count": null,
   "metadata": {
    "id": "iGudgRQ6evgk",
    "scrolled": false
   },
   "outputs": [],
   "source": []
  },
  {
   "attachments": {},
   "cell_type": "markdown",
   "metadata": {
    "id": "3btbFOGeevgl"
   },
   "source": [
    "### Combinando os *DataFrames*"
   ]
  },
  {
   "attachments": {},
   "cell_type": "markdown",
   "metadata": {
    "id": "CBTdNyc1evgl"
   },
   "source": [
    "#### `merge`\n",
    "\n",
    "[Documentação](https://pandas.pydata.org/pandas-docs/stable/reference/api/pandas.merge.html)\n",
    "\n",
    "```\n",
    "pandas.merge(left, right, how='inner', on=None, left_on=None, right_on=None, left_index=False, right_index=False, sort=False, suffixes='_x', '_y', copy=True, indicator=False, validate=None)\n",
    "```\n",
    "\n",
    "**Parameters**\n",
    "\n",
    "- **left**: DataFrame\n",
    "\n",
    "\n",
    "- **right**: DataFrame\n",
    "    \n",
    "\n",
    "- **how**: {‘left’, ‘right’, ‘outer’, ‘inner’}, *default* ‘inner’\n",
    "\n",
    "        Tipo de junção que será realizada.\n",
    "\n",
    "        - left: usa apenas as chaves do DataFrame especificado no parâmetro left.\n",
    "\n",
    "        - right: usa apenas as chaves do DataFrame especificado no parâmetro right.\n",
    "\n",
    "        - outer: considera todos os registros dos DataFrames especificados nos parâmetros left e right, isto é, faz a união das chaves.\n",
    "\n",
    "        - inner: considera apenas a interseção das chaves dos DataFrames especificados nos parâmetros left e right.\n",
    "    \n",
    "\n",
    "- **on**: label ou list\n",
    "\n",
    "        Nomes das colunas ou dos índices que serão utilizados na junção. Estes devem ser encontrados em ambos os DataFrames.\n",
    "        \n",
    "\n",
    "- **left_on**: label ou list, or array-like\n",
    "\n",
    "        Nomes das colunas ou dos índices do DataFrame especificado em left que serão utilizados na junção.\n",
    "        \n",
    "\n",
    "- **right_on**: label or list, or array-like\n",
    "\n",
    "        Nomes das colunas ou dos índices do DataFrame especificado em right que serão utilizados na junção.\n",
    "    \n",
    "\n",
    "- **left_index**: bool, *default False*\n",
    "\n",
    "        Indica se o índice do DataFrame especificado no parâmetro left deve ser utilizado como chave de junção.\n",
    "        \n",
    "\n",
    "- **right_index**: bool, *default False*\n",
    "\n",
    "        Indica se o índice do DataFrame especificado no parâmetro right deve ser utilizado como chave de junção."
   ]
  },
  {
   "cell_type": "code",
   "execution_count": null,
   "metadata": {
    "id": "wo8ttXKcevgn",
    "scrolled": true
   },
   "outputs": [],
   "source": []
  },
  {
   "attachments": {},
   "cell_type": "markdown",
   "metadata": {
    "id": "ymrhrLaYevgn"
   },
   "source": [
    "# ADICIONANDO INFORMAÇÕES\n",
    "---"
   ]
  },
  {
   "attachments": {},
   "cell_type": "markdown",
   "metadata": {
    "id": "4aqxo4l-evgn"
   },
   "source": [
    "## Criando as colunas `quartos`, `suites` e `banheiros`"
   ]
  },
  {
   "cell_type": "code",
   "execution_count": null,
   "metadata": {
    "id": "giBGU4gOevgs"
   },
   "outputs": [],
   "source": []
  },
  {
   "attachments": {},
   "cell_type": "markdown",
   "metadata": {
    "id": "nya9Yy7Kevgs"
   },
   "source": [
    "### `str.extractall`\n",
    "\n",
    "[Documentação](https://pandas.pydata.org/pandas-docs/stable/reference/api/pandas.Series.str.extractall.html)"
   ]
  },
  {
   "cell_type": "code",
   "execution_count": null,
   "metadata": {
    "id": "Toi4yfM-evgs",
    "scrolled": true
   },
   "outputs": [],
   "source": []
  },
  {
   "attachments": {},
   "cell_type": "markdown",
   "metadata": {
    "id": "p2bibVe9evgs"
   },
   "source": [
    "### `unstack`\n",
    "\n",
    "[Documentação](https://pandas.pydata.org/pandas-docs/stable/reference/api/pandas.DataFrame.unstack.html)"
   ]
  },
  {
   "cell_type": "code",
   "execution_count": null,
   "metadata": {
    "id": "QXWYy2h8evgt"
   },
   "outputs": [],
   "source": []
  },
  {
   "cell_type": "code",
   "execution_count": null,
   "metadata": {
    "id": "FktwCtLTevgt"
   },
   "outputs": [],
   "source": []
  },
  {
   "attachments": {},
   "cell_type": "markdown",
   "metadata": {
    "id": "-jVhoVI-evgt"
   },
   "source": [
    "### `droplevel`\n",
    "\n",
    "[Documentação](https://pandas.pydata.org/pandas-docs/stable/reference/api/pandas.DataFrame.droplevel.html)"
   ]
  },
  {
   "cell_type": "code",
   "execution_count": null,
   "metadata": {
    "id": "TSojRmn9evgt"
   },
   "outputs": [],
   "source": []
  },
  {
   "cell_type": "code",
   "execution_count": null,
   "metadata": {
    "id": "ac4wLkEGevgt",
    "scrolled": true
   },
   "outputs": [],
   "source": []
  },
  {
   "attachments": {},
   "cell_type": "markdown",
   "metadata": {
    "id": "m2CS8xkuevgu"
   },
   "source": [
    "## Criando novas classificações"
   ]
  },
  {
   "attachments": {},
   "cell_type": "markdown",
   "metadata": {
    "id": "bJqulTItevgu"
   },
   "source": [
    "### Com dados categóricos - `map`\n",
    "\n",
    "[Documentação](https://pandas.pydata.org/pandas-docs/stable/reference/api/pandas.Series.map.html)"
   ]
  },
  {
   "cell_type": "code",
   "execution_count": null,
   "metadata": {
    "id": "_l0qDgFzevgu"
   },
   "outputs": [],
   "source": [
    "tipo_uso = {\n",
    "    'Apartamento': 'Residencial',\n",
    "    'Casa': 'Residencial',\n",
    "    'Cobertura': 'Residencial',\n",
    "    'Consultório': 'Comercial',\n",
    "    'Imóvel Comercial': 'Comercial',\n",
    "    'Loja': 'Comercial',\n",
    "    'Sala Comercial': 'Comercial'\n",
    "}"
   ]
  },
  {
   "cell_type": "code",
   "execution_count": null,
   "metadata": {
    "id": "DwyFjomsevgu",
    "scrolled": true
   },
   "outputs": [],
   "source": []
  },
  {
   "cell_type": "code",
   "execution_count": null,
   "metadata": {
    "id": "X3B_8DLvevgv"
   },
   "outputs": [],
   "source": []
  },
  {
   "attachments": {},
   "cell_type": "markdown",
   "metadata": {
    "id": "995hOzHhevgv"
   },
   "source": [
    "#### `insert`\n",
    "\n",
    "[Documentação](https://pandas.pydata.org/pandas-docs/stable/reference/api/pandas.DataFrame.insert.html)"
   ]
  },
  {
   "cell_type": "code",
   "execution_count": null,
   "metadata": {
    "id": "tuPwv1JTevgv"
   },
   "outputs": [],
   "source": []
  },
  {
   "cell_type": "code",
   "execution_count": null,
   "metadata": {
    "id": "IMSZeeIhevgw",
    "scrolled": true
   },
   "outputs": [],
   "source": []
  },
  {
   "attachments": {},
   "cell_type": "markdown",
   "metadata": {
    "id": "1CRwFHsfevgw"
   },
   "source": [
    "### Com dados numéricos - `cut`\n",
    "\n",
    "[Documentação](https://pandas.pydata.org/pandas-docs/stable/reference/api/pandas.cut.html)"
   ]
  },
  {
   "attachments": {},
   "cell_type": "markdown",
   "metadata": {
    "id": "2g4jSmX1evgw"
   },
   "source": [
    "#### Utilizando classes fixas"
   ]
  },
  {
   "cell_type": "code",
   "execution_count": null,
   "metadata": {
    "id": "0KTpjlnhevgx"
   },
   "outputs": [],
   "source": []
  },
  {
   "cell_type": "code",
   "execution_count": null,
   "metadata": {
    "id": "zapsO_NJAoj7"
   },
   "outputs": [],
   "source": []
  },
  {
   "cell_type": "code",
   "execution_count": null,
   "metadata": {
    "id": "ztdhjZ2mevgx"
   },
   "outputs": [],
   "source": []
  },
  {
   "cell_type": "code",
   "execution_count": null,
   "metadata": {
    "id": "je6VWPuYevgx",
    "scrolled": true
   },
   "outputs": [],
   "source": []
  },
  {
   "cell_type": "code",
   "execution_count": null,
   "metadata": {
    "id": "vY7d-5z5ceWO",
    "scrolled": true
   },
   "outputs": [],
   "source": []
  },
  {
   "cell_type": "code",
   "execution_count": null,
   "metadata": {
    "id": "q1ENkBM0evgy"
   },
   "outputs": [],
   "source": []
  },
  {
   "attachments": {},
   "cell_type": "markdown",
   "metadata": {
    "id": "hGo5UyTsevgy"
   },
   "source": [
    "#### Utilizando classes personalizadas"
   ]
  },
  {
   "cell_type": "code",
   "execution_count": null,
   "metadata": {
    "id": "XzoW4Hasb8q7"
   },
   "outputs": [],
   "source": []
  },
  {
   "cell_type": "code",
   "execution_count": null,
   "metadata": {
    "id": "I65cC8pkevgz",
    "scrolled": true
   },
   "outputs": [],
   "source": []
  },
  {
   "cell_type": "code",
   "execution_count": null,
   "metadata": {
    "id": "mfZ0S5b0evgz",
    "scrolled": true
   },
   "outputs": [],
   "source": []
  },
  {
   "cell_type": "code",
   "execution_count": null,
   "metadata": {
    "id": "iHDPvSAPevgz"
   },
   "outputs": [],
   "source": []
  },
  {
   "attachments": {},
   "cell_type": "markdown",
   "metadata": {
    "id": "zWGPxzcuevg0"
   },
   "source": [
    "## Novas colunas derivadas das informações existentes"
   ]
  },
  {
   "attachments": {},
   "cell_type": "markdown",
   "metadata": {
    "id": "LLxPnrTHevg0"
   },
   "source": [
    "### Valor por m²"
   ]
  },
  {
   "cell_type": "code",
   "execution_count": null,
   "metadata": {
    "id": "ucf8dkBzevg0",
    "scrolled": true
   },
   "outputs": [],
   "source": []
  },
  {
   "cell_type": "code",
   "execution_count": null,
   "metadata": {
    "id": "RAPOfBHgevg0"
   },
   "outputs": [],
   "source": []
  },
  {
   "attachments": {},
   "cell_type": "markdown",
   "metadata": {
    "id": "JxaCGr1Devg1"
   },
   "source": [
    "#### `apply`\n",
    "\n",
    "[Documentação](https://pandas.pydata.org/pandas-docs/stable/reference/api/pandas.DataFrame.apply.html)"
   ]
  },
  {
   "cell_type": "code",
   "execution_count": null,
   "metadata": {
    "id": "yNmvRWLievg1"
   },
   "outputs": [],
   "source": []
  },
  {
   "cell_type": "code",
   "execution_count": null,
   "metadata": {
    "id": "Xeqd609_evg1"
   },
   "outputs": [],
   "source": []
  },
  {
   "cell_type": "code",
   "execution_count": null,
   "metadata": {
    "id": "ZEvfUpFoevg2"
   },
   "outputs": [],
   "source": []
  },
  {
   "attachments": {},
   "cell_type": "markdown",
   "metadata": {
    "id": "1Pcx255bevg2"
   },
   "source": [
    "### Piscina?"
   ]
  },
  {
   "cell_type": "code",
   "execution_count": null,
   "metadata": {
    "id": "U6z63nqXevg2"
   },
   "outputs": [],
   "source": []
  },
  {
   "attachments": {},
   "cell_type": "markdown",
   "metadata": {
    "id": "KNSWnriMevg2"
   },
   "source": [
    "# TABULAÇÕES E SUMARIZAÇÕES\n",
    "---"
   ]
  },
  {
   "attachments": {},
   "cell_type": "markdown",
   "metadata": {
    "id": "eiFZz3Gcevg2"
   },
   "source": [
    "## Agrupamentos"
   ]
  },
  {
   "cell_type": "code",
   "execution_count": null,
   "metadata": {
    "id": "GepN60rgevg2"
   },
   "outputs": [],
   "source": []
  },
  {
   "attachments": {},
   "cell_type": "markdown",
   "metadata": {
    "id": "4VGAbY3Sevg3"
   },
   "source": [
    "### `aggregate`\n",
    "\n",
    "[Documentação](https://pandas.pydata.org/pandas-docs/stable/reference/api/pandas.DataFrame.aggregate.html)"
   ]
  },
  {
   "cell_type": "code",
   "execution_count": null,
   "metadata": {
    "id": "CJopCPinevg3"
   },
   "outputs": [],
   "source": []
  },
  {
   "cell_type": "code",
   "execution_count": null,
   "metadata": {
    "id": "fiQc4618evg3"
   },
   "outputs": [],
   "source": []
  },
  {
   "attachments": {},
   "cell_type": "markdown",
   "metadata": {
    "id": "Y_T5j1Dkevg3"
   },
   "source": [
    "### `groupby`\n",
    "\n",
    "[Documentação](https://pandas.pydata.org/pandas-docs/stable/reference/api/pandas.DataFrame.groupby.html)"
   ]
  },
  {
   "cell_type": "code",
   "execution_count": null,
   "metadata": {
    "id": "Zu9QU8XYevg3"
   },
   "outputs": [],
   "source": []
  },
  {
   "cell_type": "code",
   "execution_count": null,
   "metadata": {
    "id": "UVdqyITfevg4"
   },
   "outputs": [],
   "source": []
  },
  {
   "cell_type": "code",
   "execution_count": null,
   "metadata": {
    "id": "QNe-9qufevg4"
   },
   "outputs": [],
   "source": []
  },
  {
   "cell_type": "code",
   "execution_count": null,
   "metadata": {
    "id": "2mF_L8cAevg4"
   },
   "outputs": [],
   "source": []
  },
  {
   "cell_type": "code",
   "execution_count": null,
   "metadata": {
    "id": "cafTo2wUevg4"
   },
   "outputs": [],
   "source": []
  },
  {
   "cell_type": "code",
   "execution_count": null,
   "metadata": {
    "id": "zVu7oxvYevg5"
   },
   "outputs": [],
   "source": []
  },
  {
   "attachments": {},
   "cell_type": "markdown",
   "metadata": {
    "id": "AUBj_APUevg5"
   },
   "source": [
    "### `value_counts`\n",
    "\n",
    "[Documentação](https://pandas.pydata.org/pandas-docs/stable/reference/api/pandas.DataFrame.value_counts.html)"
   ]
  },
  {
   "cell_type": "code",
   "execution_count": null,
   "metadata": {
    "id": "EF2L8WmHevg5"
   },
   "outputs": [],
   "source": []
  },
  {
   "cell_type": "code",
   "execution_count": null,
   "metadata": {
    "id": "IOZ1Fb0Tevg5"
   },
   "outputs": [],
   "source": []
  },
  {
   "cell_type": "code",
   "execution_count": null,
   "metadata": {
    "id": "irStjJUvevg5"
   },
   "outputs": [],
   "source": []
  },
  {
   "attachments": {},
   "cell_type": "markdown",
   "metadata": {
    "id": "KJtrt3l5evg6"
   },
   "source": [
    "#### `to_frame`\n",
    "\n",
    "[Documentação](https://pandas.pydata.org/pandas-docs/stable/reference/api/pandas.Series.to_frame.html)"
   ]
  },
  {
   "cell_type": "code",
   "execution_count": null,
   "metadata": {
    "id": "86UZBXs9evg6"
   },
   "outputs": [],
   "source": []
  },
  {
   "attachments": {},
   "cell_type": "markdown",
   "metadata": {
    "id": "zfIcPdHpevg6"
   },
   "source": [
    "## Mudando o formato de um *DataFrame*"
   ]
  },
  {
   "attachments": {},
   "cell_type": "markdown",
   "metadata": {
    "id": "FMI3APPqevg6"
   },
   "source": [
    "### `unstack`\n",
    "\n",
    "Faz a rotação ou o pivoteamento das linhas para as colunas.\n",
    "\n",
    "[Documentação](https://pandas.pydata.org/pandas-docs/stable/reference/api/pandas.DataFrame.unstack.html)"
   ]
  },
  {
   "cell_type": "code",
   "execution_count": null,
   "metadata": {
    "id": "ihUiFlUoevg6"
   },
   "outputs": [],
   "source": []
  },
  {
   "cell_type": "code",
   "execution_count": null,
   "metadata": {
    "id": "QJ4pCdlnevg6"
   },
   "outputs": [],
   "source": []
  },
  {
   "cell_type": "code",
   "execution_count": null,
   "metadata": {
    "id": "v_n21a8cevg7"
   },
   "outputs": [],
   "source": []
  },
  {
   "attachments": {},
   "cell_type": "markdown",
   "metadata": {
    "id": "se1knkwkevg7"
   },
   "source": [
    "### `stack`\n",
    "\n",
    "Faz a rotação ou o pivoteamento das colunas de um *DataFrame* para as linhas.\n",
    "\n",
    "[Documentação](https://pandas.pydata.org/pandas-docs/stable/reference/api/pandas.DataFrame.stack.html)"
   ]
  },
  {
   "cell_type": "code",
   "execution_count": null,
   "metadata": {
    "id": "xJRpaXH_evg7"
   },
   "outputs": [],
   "source": []
  },
  {
   "cell_type": "code",
   "execution_count": null,
   "metadata": {
    "id": "QkWRUW1Hevg7"
   },
   "outputs": [],
   "source": []
  },
  {
   "cell_type": "code",
   "execution_count": null,
   "metadata": {
    "id": "dGE9_h4Eevg7",
    "scrolled": true
   },
   "outputs": [],
   "source": []
  },
  {
   "cell_type": "code",
   "execution_count": null,
   "metadata": {
    "id": "SYBirwOQevg7",
    "scrolled": true
   },
   "outputs": [],
   "source": []
  },
  {
   "attachments": {},
   "cell_type": "markdown",
   "metadata": {
    "id": "721L30DGevg8"
   },
   "source": [
    "## Criando tabelas dinâmicas"
   ]
  },
  {
   "attachments": {},
   "cell_type": "markdown",
   "metadata": {
    "id": "MT9R7ULTevg8"
   },
   "source": [
    "### `pivot`\n",
    "\n",
    "[Documentação](https://pandas.pydata.org/pandas-docs/stable/reference/api/pandas.DataFrame.pivot.html)"
   ]
  },
  {
   "cell_type": "code",
   "execution_count": null,
   "metadata": {
    "id": "TxCjxASHevg8"
   },
   "outputs": [],
   "source": []
  },
  {
   "attachments": {},
   "cell_type": "markdown",
   "metadata": {
    "id": "KK2lRVTZevg8"
   },
   "source": [
    "#### `droplevel`\n",
    "\n",
    "[Documentação](https://pandas.pydata.org/pandas-docs/stable/reference/api/pandas.DataFrame.droplevel.html)"
   ]
  },
  {
   "cell_type": "code",
   "execution_count": null,
   "metadata": {
    "id": "WM8eGmWyevg9"
   },
   "outputs": [],
   "source": []
  },
  {
   "attachments": {},
   "cell_type": "markdown",
   "metadata": {
    "id": "JV0cPfjjevg9"
   },
   "source": [
    "#### `reset_index`\n",
    "\n",
    "[Documentação](https://pandas.pydata.org/pandas-docs/stable/reference/api/pandas.DataFrame.reset_index.html)"
   ]
  },
  {
   "cell_type": "code",
   "execution_count": null,
   "metadata": {
    "id": "_2zbYlDUevg9",
    "scrolled": true
   },
   "outputs": [],
   "source": []
  },
  {
   "cell_type": "code",
   "execution_count": null,
   "metadata": {
    "id": "Tr3lQ7_Pevg9"
   },
   "outputs": [],
   "source": []
  },
  {
   "attachments": {},
   "cell_type": "markdown",
   "metadata": {
    "id": "si3S5yVIevg9"
   },
   "source": [
    "### `pivot_table`\n",
    "\n",
    "[Documentação](https://pandas.pydata.org/pandas-docs/stable/reference/api/pandas.DataFrame.pivot_table.html)"
   ]
  },
  {
   "cell_type": "code",
   "execution_count": null,
   "metadata": {
    "id": "Cc8GufF3evg-"
   },
   "outputs": [],
   "source": []
  },
  {
   "cell_type": "code",
   "execution_count": null,
   "metadata": {
    "id": "VxFFo13gevg-"
   },
   "outputs": [],
   "source": []
  },
  {
   "cell_type": "code",
   "execution_count": null,
   "metadata": {
    "id": "5AzhTNwaevg-"
   },
   "outputs": [],
   "source": []
  },
  {
   "attachments": {},
   "cell_type": "markdown",
   "metadata": {
    "id": "z3WPXV_1evg-"
   },
   "source": [
    "# TABULAÇÕES E ESTILIZAÇÃO\n",
    "---"
   ]
  },
  {
   "attachments": {},
   "cell_type": "markdown",
   "metadata": {
    "id": "hEMpF1yYevg-"
   },
   "source": [
    "## Tabulações a partir de informações no formato de listas"
   ]
  },
  {
   "attachments": {},
   "cell_type": "markdown",
   "metadata": {
    "id": "ZFqI6k6_evg-"
   },
   "source": [
    "### `explode`\n",
    "\n",
    "[Documentação](https://pandas.pydata.org/pandas-docs/stable/reference/api/pandas.DataFrame.explode.html)"
   ]
  },
  {
   "cell_type": "code",
   "execution_count": null,
   "metadata": {
    "id": "JFZCZ7Yuevg_",
    "scrolled": true
   },
   "outputs": [],
   "source": []
  },
  {
   "cell_type": "code",
   "execution_count": null,
   "metadata": {
    "id": "VhIcLAXzevg_"
   },
   "outputs": [],
   "source": []
  },
  {
   "cell_type": "code",
   "execution_count": null,
   "metadata": {
    "id": "q8dhRb3sevg_",
    "scrolled": false
   },
   "outputs": [],
   "source": []
  },
  {
   "attachments": {},
   "cell_type": "markdown",
   "metadata": {
    "id": "f8aTRZ-Mevg_"
   },
   "source": [
    "#### `where`\n",
    "\n",
    "[Documentação](https://pandas.pydata.org/pandas-docs/stable/reference/api/pandas.Series.where.html)"
   ]
  },
  {
   "cell_type": "code",
   "execution_count": null,
   "metadata": {
    "id": "eVqYjcWievg_"
   },
   "outputs": [],
   "source": []
  },
  {
   "cell_type": "code",
   "execution_count": null,
   "metadata": {
    "id": "IRMPSZhvevhA"
   },
   "outputs": [],
   "source": []
  },
  {
   "attachments": {},
   "cell_type": "markdown",
   "metadata": {
    "id": "Hqsk2TCqevhA"
   },
   "source": [
    "## Estilizando um DataFrame"
   ]
  },
  {
   "attachments": {},
   "cell_type": "markdown",
   "metadata": {
    "id": "D9fI8e5TevhA"
   },
   "source": [
    "### `style`\n",
    "\n",
    "[Documentação](https://pandas.pydata.org/pandas-docs/stable/reference/api/pandas.DataFrame.style.html)"
   ]
  },
  {
   "cell_type": "code",
   "execution_count": null,
   "metadata": {
    "id": "6RSwWnIhevhA"
   },
   "outputs": [],
   "source": []
  },
  {
   "cell_type": "code",
   "execution_count": null,
   "metadata": {
    "id": "0m_-TJTuevhA"
   },
   "outputs": [],
   "source": []
  },
  {
   "cell_type": "code",
   "execution_count": null,
   "metadata": {
    "id": "1KnL7z-CevhA"
   },
   "outputs": [],
   "source": []
  },
  {
   "attachments": {},
   "cell_type": "markdown",
   "metadata": {
    "id": "yvFSL0PAevhB"
   },
   "source": [
    "#### `format`\n",
    "\n",
    "[Documentação](https://pandas.pydata.org/pandas-docs/stable/reference/api/pandas.io.formats.style.Styler.format.html)"
   ]
  },
  {
   "cell_type": "code",
   "execution_count": null,
   "metadata": {
    "id": "r_0DbWypevhB"
   },
   "outputs": [],
   "source": []
  },
  {
   "attachments": {},
   "cell_type": "markdown",
   "metadata": {
    "id": "ncaZ5etWevhB"
   },
   "source": [
    "#### `bar`\n",
    "\n",
    "[Documentação](https://pandas.pydata.org/pandas-docs/stable/reference/api/pandas.io.formats.style.Styler.bar.html)"
   ]
  },
  {
   "cell_type": "code",
   "execution_count": null,
   "metadata": {
    "id": "0DYposenevhB"
   },
   "outputs": [],
   "source": []
  },
  {
   "attachments": {},
   "cell_type": "markdown",
   "metadata": {
    "id": "q9EV6PsZevhB"
   },
   "source": [
    "#### `applymap`\n",
    "\n",
    "[Documentação](https://pandas.pydata.org/pandas-docs/stable/reference/api/pandas.io.formats.style.Styler.applymap.html)"
   ]
  },
  {
   "cell_type": "code",
   "execution_count": null,
   "metadata": {
    "id": "dwRK5vwXevhB"
   },
   "outputs": [],
   "source": []
  },
  {
   "cell_type": "code",
   "execution_count": null,
   "metadata": {
    "id": "qyMctQrhevhD"
   },
   "outputs": [],
   "source": []
  },
  {
   "attachments": {},
   "cell_type": "markdown",
   "metadata": {
    "id": "xklcN2wjevhD"
   },
   "source": [
    "#### `highlight_max` e `highlight_min`\n",
    "\n",
    "[Documentação: `highlight_max`](https://pandas.pydata.org/pandas-docs/stable/reference/api/pandas.io.formats.style.Styler.highlight_max.html)\n",
    "\n",
    "[Documentação: `highlight_min`](https://pandas.pydata.org/pandas-docs/stable/reference/api/pandas.io.formats.style.Styler.highlight_min.html)"
   ]
  },
  {
   "cell_type": "code",
   "execution_count": null,
   "metadata": {
    "id": "bH5k6L7FevhE"
   },
   "outputs": [],
   "source": []
  },
  {
   "cell_type": "code",
   "execution_count": null,
   "metadata": {
    "id": "QfSwVQg9evhE"
   },
   "outputs": [],
   "source": []
  },
  {
   "cell_type": "code",
   "execution_count": null,
   "metadata": {
    "id": "Q2WvRk1eevhF",
    "scrolled": true
   },
   "outputs": [],
   "source": []
  },
  {
   "cell_type": "code",
   "execution_count": null,
   "metadata": {
    "id": "JHoRZr3gevhG"
   },
   "outputs": [],
   "source": []
  },
  {
   "cell_type": "code",
   "execution_count": null,
   "metadata": {
    "id": "07rpMsdIevhG"
   },
   "outputs": [],
   "source": []
  },
  {
   "cell_type": "code",
   "execution_count": null,
   "metadata": {
    "id": "OkZyFqDdevhG"
   },
   "outputs": [],
   "source": []
  },
  {
   "cell_type": "code",
   "execution_count": null,
   "metadata": {
    "id": "WX5UuzeYevhG"
   },
   "outputs": [],
   "source": []
  },
  {
   "attachments": {},
   "cell_type": "markdown",
   "metadata": {
    "id": "A13lh-6WevhH"
   },
   "source": [
    "#### `background_gradient`\n",
    "\n",
    "[Documentação](https://pandas.pydata.org/pandas-docs/stable/reference/api/pandas.io.formats.style.Styler.background_gradient.html)"
   ]
  },
  {
   "cell_type": "code",
   "execution_count": null,
   "metadata": {
    "id": "DUUt_GaRevhH"
   },
   "outputs": [],
   "source": []
  },
  {
   "cell_type": "code",
   "execution_count": null,
   "metadata": {
    "id": "Cqbg9GgvevhJ"
   },
   "outputs": [],
   "source": []
  },
  {
   "cell_type": "code",
   "execution_count": null,
   "metadata": {
    "id": "1YYNpDxbevhJ"
   },
   "outputs": [],
   "source": []
  },
  {
   "attachments": {},
   "cell_type": "markdown",
   "metadata": {
    "id": "IKxU1RsFevhJ"
   },
   "source": [
    "#### `to_excel`\n",
    "\n",
    "[Documentação](https://pandas.pydata.org/pandas-docs/stable/reference/api/pandas.io.formats.style.Styler.to_excel.html)"
   ]
  },
  {
   "cell_type": "code",
   "execution_count": null,
   "metadata": {
    "id": "Hqc01SzXevhK"
   },
   "outputs": [],
   "source": []
  },
  {
   "attachments": {},
   "cell_type": "markdown",
   "metadata": {
    "id": "A75CwZB0evhK"
   },
   "source": [
    "# ANEXOS\n",
    "---"
   ]
  },
  {
   "attachments": {},
   "cell_type": "markdown",
   "metadata": {
    "id": "TcE_9F2eevhL"
   },
   "source": [
    "### Opções para o parâmetro `cmap`\n",
    "\n",
    "[Documentação](https://matplotlib.org/3.3.2/tutorials/colors/colormaps.html)"
   ]
  },
  {
   "cell_type": "code",
   "execution_count": null,
   "metadata": {
    "id": "hpyWIdU2evhL"
   },
   "outputs": [],
   "source": [
    "import numpy as np\n",
    "import matplotlib as mpl\n",
    "import matplotlib.pyplot as plt\n",
    "from matplotlib import cm\n",
    "from collections import OrderedDict\n",
    "\n",
    "cmaps = OrderedDict()"
   ]
  },
  {
   "cell_type": "code",
   "execution_count": null,
   "metadata": {
    "id": "DbvdFKVievhM"
   },
   "outputs": [],
   "source": [
    "cmaps['Perceptually Uniform Sequential'] = [\n",
    "            'viridis', 'plasma', 'inferno', 'magma', 'cividis']\n",
    "\n",
    "cmaps['Sequential'] = [\n",
    "            'Greys', 'Purples', 'Blues', 'Greens', 'Oranges', 'Reds',\n",
    "            'YlOrBr', 'YlOrRd', 'OrRd', 'PuRd', 'RdPu', 'BuPu',\n",
    "            'GnBu', 'PuBu', 'YlGnBu', 'PuBuGn', 'BuGn', 'YlGn']\n",
    "\n",
    "cmaps['Sequential (2)'] = [\n",
    "            'binary', 'gist_yarg', 'gist_gray', 'gray', 'bone', 'pink',\n",
    "            'spring', 'summer', 'autumn', 'winter', 'cool', 'Wistia',\n",
    "            'hot', 'afmhot', 'gist_heat', 'copper']\n",
    "\n",
    "cmaps['Diverging'] = [\n",
    "            'PiYG', 'PRGn', 'BrBG', 'PuOr', 'RdGy', 'RdBu',\n",
    "            'RdYlBu', 'RdYlGn', 'Spectral', 'coolwarm', 'bwr', 'seismic']\n",
    "\n",
    "cmaps['Cyclic'] = ['twilight', 'twilight_shifted', 'hsv']\n",
    "\n",
    "cmaps['Qualitative'] = ['Pastel1', 'Pastel2', 'Paired', 'Accent',\n",
    "                        'Dark2', 'Set1', 'Set2', 'Set3',\n",
    "                        'tab10', 'tab20', 'tab20b', 'tab20c']\n",
    "\n",
    "cmaps['Miscellaneous'] = [\n",
    "            'flag', 'prism', 'ocean', 'gist_earth', 'terrain', 'gist_stern',\n",
    "            'gnuplot', 'gnuplot2', 'CMRmap', 'cubehelix', 'brg',\n",
    "            'gist_rainbow', 'rainbow', 'jet', 'nipy_spectral',\n",
    "            'gist_ncar']"
   ]
  },
  {
   "cell_type": "code",
   "execution_count": null,
   "metadata": {
    "id": "krg94xcfevhM",
    "scrolled": false
   },
   "outputs": [],
   "source": [
    "nrows = max(len(cmap_list) for cmap_category, cmap_list in cmaps.items())\n",
    "gradient = np.linspace(0, 1, 256)\n",
    "gradient = np.vstack((gradient, gradient))\n",
    "\n",
    "\n",
    "def plot_color_gradients(cmap_category, cmap_list, nrows):\n",
    "    fig, axes = plt.subplots(nrows=nrows)\n",
    "    fig.subplots_adjust(top=0.95, bottom=0.01, left=0.2, right=0.99)\n",
    "    axes[0].set_title(cmap_category + ' colormaps', fontsize=14)\n",
    "\n",
    "    for ax, name in zip(axes, cmap_list):\n",
    "        ax.imshow(gradient, aspect='auto', cmap=plt.get_cmap(name))\n",
    "        pos = list(ax.get_position().bounds)\n",
    "        x_text = pos[0] - 0.01\n",
    "        y_text = pos[1] + pos[3]/2.\n",
    "        fig.text(x_text, y_text, name, va='center', ha='right', fontsize=10)\n",
    "\n",
    "    # Turn off *all* ticks & spines, not just the ones with colormaps.\n",
    "    for ax in axes:\n",
    "        ax.set_axis_off()\n",
    "\n",
    "\n",
    "for cmap_category, cmap_list in cmaps.items():\n",
    "    plot_color_gradients(cmap_category, cmap_list, nrows)\n",
    "\n",
    "plt.show()"
   ]
  },
  {
   "cell_type": "code",
   "execution_count": null,
   "metadata": {
    "id": "vmmcXYh2evhN"
   },
   "outputs": [],
   "source": []
  }
 ],
 "metadata": {
  "colab": {
   "name": "Projeto.ipynb",
   "provenance": []
  },
  "kernelspec": {
   "display_name": "Python 3",
   "language": "python",
   "name": "python3"
  },
  "language_info": {
   "codemirror_mode": {
    "name": "ipython",
    "version": 3
   },
   "file_extension": ".py",
   "mimetype": "text/x-python",
   "name": "python",
   "nbconvert_exporter": "python",
   "pygments_lexer": "ipython3",
   "version": "3.11.0"
  },
  "toc": {
   "base_numbering": 1,
   "nav_menu": {},
   "number_sections": false,
   "sideBar": true,
   "skip_h1_title": false,
   "title_cell": "Table of Contents",
   "title_sidebar": "Contents",
   "toc_cell": false,
   "toc_position": {
    "height": "calc(100% - 180px)",
    "left": "10px",
    "top": "150px",
    "width": "268.2px"
   },
   "toc_section_display": true,
   "toc_window_display": false
  },
  "varInspector": {
   "cols": {
    "lenName": 16,
    "lenType": 16,
    "lenVar": 40
   },
   "kernels_config": {
    "python": {
     "delete_cmd_postfix": "",
     "delete_cmd_prefix": "del ",
     "library": "var_list.py",
     "varRefreshCmd": "print(var_dic_list())"
    },
    "r": {
     "delete_cmd_postfix": ") ",
     "delete_cmd_prefix": "rm(",
     "library": "var_list.r",
     "varRefreshCmd": "cat(var_dic_list()) "
    }
   },
   "types_to_exclude": [
    "module",
    "function",
    "builtin_function_or_method",
    "instance",
    "_Feature"
   ],
   "window_display": false
  }
 },
 "nbformat": 4,
 "nbformat_minor": 1
}
