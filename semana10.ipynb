{
 "cells": [
  {
   "attachments": {},
   "cell_type": "markdown",
   "metadata": {},
   "source": [
    "Importando os pacotes"
   ]
  },
  {
   "cell_type": "code",
   "execution_count": 1,
   "metadata": {},
   "outputs": [],
   "source": [
    "import pandas as pd"
   ]
  },
  {
   "attachments": {},
   "cell_type": "markdown",
   "metadata": {},
   "source": [
    "Carregando os dados"
   ]
  },
  {
   "cell_type": "code",
   "execution_count": 2,
   "metadata": {},
   "outputs": [],
   "source": [
    "dados=pd.read_csv('dados2.csv')"
   ]
  },
  {
   "cell_type": "code",
   "execution_count": 3,
   "metadata": {},
   "outputs": [],
   "source": [
    "# dados.iloc[:,[0,1,2]].rename(columns={'CONCLIENTE':'id'})\n",
    "#cliente=dados.iloc[:,[0,1,2]]\n",
    "cliente=dados[['CONCLIENTE','dataNascimentoCliente','sexoCliente']]\n",
    "cliente.columns=['id','data_nascimento','sexo']\n",
    "cliente=cliente[~cliente['id'].isna()]"
   ]
  },
  {
   "cell_type": "code",
   "execution_count": 4,
   "metadata": {},
   "outputs": [],
   "source": [
    "inscricao=dados[['CONINSCRICAO','CONCLIENTE','CONPRODUTO','periodicidadeCobranca']]\n",
    "inscricao.columns=['id','cliente_id','produto_id','periodicidade']\n",
    "inscricao=inscricao[~inscricao['id'].isna()]"
   ]
  },
  {
   "cell_type": "code",
   "execution_count": 5,
   "metadata": {},
   "outputs": [],
   "source": [
    "itemcontratado=dados[['CONITEMCONTRATADO','CONINSCRICAO','codigoSistemaItemContratado','dataInicioVigenciaCobertura','prazoCobertura','prazoContribuicao','prazoCertoRendaItemContratado','prazoMinimoGarantidoRendaItemContratado','prazoDecrescimoItemContratado','indiceReajusteItemContratado','valorCapitalSeguradoItemContratadoInicial']]\n",
    "itemcontratado.columns=['id','inscricao_id','itemproduto_id','data_assinatura','prazo_cobertura','prazo_pagamento','prazo_renda','prazo_certo_renda','prazo_decrescimo','indice_reajuste','beneficio_inicial']\n",
    "itemcontratado=itemcontratado[~itemcontratado['id'].isna()]"
   ]
  },
  {
   "cell_type": "code",
   "execution_count": 6,
   "metadata": {},
   "outputs": [],
   "source": [
    "itembeneficiario=dados[['CONITEMCONTRATADOBENEFICIARIO','CONITEMCONTRATADO','CONBENEFICIARIO','percentualParticipacaoBeneficio']]\n",
    "itembeneficiario.columns=['id','itemcontratado_id','beneficiario_id','percentual_beneficio']\n",
    "itembeneficiario=itembeneficiario[~itembeneficiario['id'].isna()]"
   ]
  },
  {
   "cell_type": "code",
   "execution_count": 22,
   "metadata": {},
   "outputs": [],
   "source": [
    "beneficiario=dados[['CONBENEFICIARIO','dataNascimentoBeneficiario','sexoBeneficiario']]\n",
    "beneficiario.columns=['id','data_nascimento','sexo']\n",
    "beneficiario=beneficiario[~beneficiario['id'].isna()]\n",
    "beneficiario['sexo']=beneficiario['sexo'].fillna('NÃO INFORMADO')"
   ]
  },
  {
   "cell_type": "code",
   "execution_count": 23,
   "metadata": {},
   "outputs": [],
   "source": [
    "import sqlalchemy\n",
    "from sqlalchemy import create_engine, MetaData, Table, inspect"
   ]
  },
  {
   "cell_type": "code",
   "execution_count": 24,
   "metadata": {},
   "outputs": [],
   "source": [
    "engine=create_engine(\"sqlite:///dados.db\")"
   ]
  },
  {
   "cell_type": "code",
   "execution_count": 25,
   "metadata": {},
   "outputs": [
    {
     "data": {
      "text/plain": [
       "764"
      ]
     },
     "execution_count": 25,
     "metadata": {},
     "output_type": "execute_result"
    }
   ],
   "source": [
    "cliente.to_sql('cliente',con=engine,if_exists=\"replace\", index=False)\n",
    "inscricao.to_sql('inscricao',con=engine,if_exists=\"replace\", index=False)\n",
    "itemcontratado.to_sql('itemcontratado',con=engine,if_exists=\"replace\", index=False)\n",
    "itembeneficiario.to_sql('itembeneficiario',con=engine,if_exists=\"replace\", index=False)\n",
    "beneficiario.to_sql('beneficiario',con=engine,if_exists=\"replace\", index=False)"
   ]
  },
  {
   "cell_type": "code",
   "execution_count": 26,
   "metadata": {},
   "outputs": [
    {
     "name": "stdout",
     "output_type": "stream",
     "text": [
      "['beneficiario', 'cliente', 'inscricao', 'itembeneficiario', 'itemcontratado']\n"
     ]
    }
   ],
   "source": [
    "inspector = inspect(engine)\n",
    "print(inspector.get_table_names())"
   ]
  },
  {
   "cell_type": "code",
   "execution_count": 27,
   "metadata": {},
   "outputs": [
    {
     "data": {
      "text/plain": [
       "array(['M', 'F'], dtype=object)"
      ]
     },
     "execution_count": 27,
     "metadata": {},
     "output_type": "execute_result"
    }
   ],
   "source": [
    "cliente['sexo'].unique()"
   ]
  },
  {
   "cell_type": "code",
   "execution_count": 28,
   "metadata": {},
   "outputs": [
    {
     "data": {
      "text/plain": [
       "1000"
      ]
     },
     "execution_count": 28,
     "metadata": {},
     "output_type": "execute_result"
    }
   ],
   "source": [
    "Sexo = {\n",
    "'F': 'FEMININO',\n",
    "'M': 'MASCULINO'}\n",
    "\n",
    "cliente['sexo_desc'] = cliente['sexo'].map(Sexo)\n",
    "cliente.to_sql('cliente',con=engine,if_exists=\"replace\", index=False)"
   ]
  },
  {
   "cell_type": "code",
   "execution_count": 34,
   "metadata": {},
   "outputs": [],
   "source": [
    "query = \"\"\"SELECT B.SEXO, COUNT(*) AS CONTAGEM_BENEF, C.CONTAGEM_CLIENTE\n",
    "            FROM BENEFICIARIO B\n",
    "            LEFT JOIN (SELECT SEXO_DESC, COUNT(*) AS CONTAGEM_CLIENTE FROM CLIENTE\n",
    "                        GROUP BY SEXO_DESC) C ON B.SEXO=C.SEXO_DESC\n",
    "            GROUP BY B.SEXO\n",
    "        \"\"\""
   ]
  },
  {
   "cell_type": "code",
   "execution_count": 35,
   "metadata": {},
   "outputs": [
    {
     "data": {
      "text/html": [
       "<div>\n",
       "<style scoped>\n",
       "    .dataframe tbody tr th:only-of-type {\n",
       "        vertical-align: middle;\n",
       "    }\n",
       "\n",
       "    .dataframe tbody tr th {\n",
       "        vertical-align: top;\n",
       "    }\n",
       "\n",
       "    .dataframe thead th {\n",
       "        text-align: right;\n",
       "    }\n",
       "</style>\n",
       "<table border=\"1\" class=\"dataframe\">\n",
       "  <thead>\n",
       "    <tr style=\"text-align: right;\">\n",
       "      <th></th>\n",
       "      <th>sexo</th>\n",
       "      <th>CONTAGEM_BENEF</th>\n",
       "      <th>CONTAGEM_CLIENTE</th>\n",
       "    </tr>\n",
       "  </thead>\n",
       "  <tbody>\n",
       "    <tr>\n",
       "      <th>0</th>\n",
       "      <td>FEMININO</td>\n",
       "      <td>130</td>\n",
       "      <td>421.0</td>\n",
       "    </tr>\n",
       "    <tr>\n",
       "      <th>1</th>\n",
       "      <td>MASCULINO</td>\n",
       "      <td>432</td>\n",
       "      <td>579.0</td>\n",
       "    </tr>\n",
       "    <tr>\n",
       "      <th>2</th>\n",
       "      <td>NÃO INFORMADO</td>\n",
       "      <td>202</td>\n",
       "      <td>NaN</td>\n",
       "    </tr>\n",
       "  </tbody>\n",
       "</table>\n",
       "</div>"
      ],
      "text/plain": [
       "            sexo  CONTAGEM_BENEF  CONTAGEM_CLIENTE\n",
       "0       FEMININO             130             421.0\n",
       "1      MASCULINO             432             579.0\n",
       "2  NÃO INFORMADO             202               NaN"
      ]
     },
     "execution_count": 35,
     "metadata": {},
     "output_type": "execute_result"
    }
   ],
   "source": [
    "pd.read_sql(query, engine)"
   ]
  },
  {
   "cell_type": "code",
   "execution_count": null,
   "metadata": {},
   "outputs": [],
   "source": [
    "query2 = \"\"\"SELECT CLIENTE_ID, COUNT(*) AS CONTAGEM FROM INSCRICAO\n",
    "            GROUP BY CLIENTE_ID\n",
    "            HAVING CONTAGEM>1\n",
    "            ORDER BY COUNT(*) DESC\n",
    "        \"\"\"\n",
    "tabela=pd.read_sql(query2, engine)\n"
   ]
  },
  {
   "cell_type": "code",
   "execution_count": null,
   "metadata": {},
   "outputs": [],
   "source": [
    "tabela.style.highlight_max(color= 'lightblue',subset='CONTAGEM').highlight_min(color = 'lightyellow',subset='CONTAGEM')"
   ]
  },
  {
   "cell_type": "code",
   "execution_count": null,
   "metadata": {},
   "outputs": [],
   "source": [
    "query2 = \"\"\"SELECT CLIENTE_ID, COUNT(*) AS CONTAGEM FROM INSCRICAO\n",
    "            GROUP BY CLIENTE_ID\n",
    "            HAVING CONTAGEM>1\n",
    "            ORDER BY COUNT(*) DESC\n",
    "        \"\"\"\n",
    "tabela=pd.read_sql(query2, engine)\n"
   ]
  },
  {
   "cell_type": "code",
   "execution_count": 77,
   "metadata": {},
   "outputs": [
    {
     "data": {
      "text/html": [
       "<div>\n",
       "<style scoped>\n",
       "    .dataframe tbody tr th:only-of-type {\n",
       "        vertical-align: middle;\n",
       "    }\n",
       "\n",
       "    .dataframe tbody tr th {\n",
       "        vertical-align: top;\n",
       "    }\n",
       "\n",
       "    .dataframe thead th {\n",
       "        text-align: right;\n",
       "    }\n",
       "</style>\n",
       "<table border=\"1\" class=\"dataframe\">\n",
       "  <thead>\n",
       "    <tr style=\"text-align: right;\">\n",
       "      <th></th>\n",
       "      <th>beneficiario_id</th>\n",
       "      <th>CLIENTE_ID</th>\n",
       "    </tr>\n",
       "  </thead>\n",
       "  <tbody>\n",
       "    <tr>\n",
       "      <th>0</th>\n",
       "      <td>3631309.0</td>\n",
       "      <td>7583711</td>\n",
       "    </tr>\n",
       "    <tr>\n",
       "      <th>1</th>\n",
       "      <td>3631310.0</td>\n",
       "      <td>7583711</td>\n",
       "    </tr>\n",
       "    <tr>\n",
       "      <th>2</th>\n",
       "      <td>3631311.0</td>\n",
       "      <td>7583711</td>\n",
       "    </tr>\n",
       "    <tr>\n",
       "      <th>3</th>\n",
       "      <td>3631312.0</td>\n",
       "      <td>7583711</td>\n",
       "    </tr>\n",
       "    <tr>\n",
       "      <th>4</th>\n",
       "      <td>3631313.0</td>\n",
       "      <td>7583711</td>\n",
       "    </tr>\n",
       "    <tr>\n",
       "      <th>5</th>\n",
       "      <td>3631314.0</td>\n",
       "      <td>7583711</td>\n",
       "    </tr>\n",
       "    <tr>\n",
       "      <th>6</th>\n",
       "      <td>3623815.0</td>\n",
       "      <td>1997789</td>\n",
       "    </tr>\n",
       "    <tr>\n",
       "      <th>7</th>\n",
       "      <td>3623816.0</td>\n",
       "      <td>1997789</td>\n",
       "    </tr>\n",
       "    <tr>\n",
       "      <th>8</th>\n",
       "      <td>3623817.0</td>\n",
       "      <td>1997789</td>\n",
       "    </tr>\n",
       "    <tr>\n",
       "      <th>9</th>\n",
       "      <td>3623818.0</td>\n",
       "      <td>1997789</td>\n",
       "    </tr>\n",
       "    <tr>\n",
       "      <th>10</th>\n",
       "      <td>3623819.0</td>\n",
       "      <td>1997789</td>\n",
       "    </tr>\n",
       "    <tr>\n",
       "      <th>11</th>\n",
       "      <td>3780400.0</td>\n",
       "      <td>1997789</td>\n",
       "    </tr>\n",
       "  </tbody>\n",
       "</table>\n",
       "</div>"
      ],
      "text/plain": [
       "    beneficiario_id  CLIENTE_ID\n",
       "0         3631309.0     7583711\n",
       "1         3631310.0     7583711\n",
       "2         3631311.0     7583711\n",
       "3         3631312.0     7583711\n",
       "4         3631313.0     7583711\n",
       "5         3631314.0     7583711\n",
       "6         3623815.0     1997789\n",
       "7         3623816.0     1997789\n",
       "8         3623817.0     1997789\n",
       "9         3623818.0     1997789\n",
       "10        3623819.0     1997789\n",
       "11        3780400.0     1997789"
      ]
     },
     "execution_count": 77,
     "metadata": {},
     "output_type": "execute_result"
    }
   ],
   "source": [
    "query3 = \"\"\" \n",
    "SELECT DISTINCT A.BENEFICIARIO_ID,D.CLIENTE_ID FROM ITEMBENEFICIARIO A\n",
    "INNER JOIN ITEMCONTRATADO B ON A.ITEMCONTRATADO_ID=B.ID\n",
    "INNER JOIN INSCRICAO C ON B.INSCRICAO_ID=C.ID \n",
    "INNER JOIN \n",
    "(SELECT E.CLIENTE_ID,COUNT(*) AS CONTAGEM FROM \n",
    "(SELECT DISTINCT C.CLIENTE_ID, A.BENEFICIARIO_ID FROM ITEMBENEFICIARIO A\n",
    "LEFT JOIN ITEMCONTRATADO B ON A.ITEMCONTRATADO_ID=B.ID\n",
    "LEFT JOIN INSCRICAO C ON B.INSCRICAO_ID=C.ID) E\n",
    "GROUP BY E.CLIENTE_ID\n",
    "ORDER BY COUNT(*) DESC\n",
    "LIMIT 2) D ON D.CLIENTE_ID=C.CLIENTE_ID\n",
    "\"\"\"\n",
    "pd.read_sql(query3, engine)\n"
   ]
  },
  {
   "cell_type": "code",
   "execution_count": 84,
   "metadata": {},
   "outputs": [
    {
     "data": {
      "text/plain": [
       "array(['baixo', 'moderado', 'alto'], dtype=object)"
      ]
     },
     "execution_count": 84,
     "metadata": {},
     "output_type": "execute_result"
    }
   ],
   "source": [
    "query4 = \"\"\"  select a.*, case when Quartile=1 then 'baixo'\n",
    "                               when Quartile=2 then 'moderado'\n",
    "                               else 'alto' end as classificacao from\n",
    "(SELECT *, NTILE(3) OVER(ORDER BY BENEFICIO_INICIAL DESC) AS Quartile FROM ITEMCONTRATADO) a\"\"\"\n",
    "\n",
    "tabela=pd.read_sql(query4, engine)\n",
    "tabela['classificacao'].unique()"
   ]
  },
  {
   "cell_type": "code",
   "execution_count": null,
   "metadata": {},
   "outputs": [],
   "source": [
    "POWER(POWER(B.BENEFICIO_INICIAL,2))/COUNT(*),0.5) AS DESVIO_P FROM"
   ]
  },
  {
   "cell_type": "code",
   "execution_count": 105,
   "metadata": {},
   "outputs": [
    {
     "data": {
      "text/html": [
       "<div>\n",
       "<style scoped>\n",
       "    .dataframe tbody tr th:only-of-type {\n",
       "        vertical-align: middle;\n",
       "    }\n",
       "\n",
       "    .dataframe tbody tr th {\n",
       "        vertical-align: top;\n",
       "    }\n",
       "\n",
       "    .dataframe thead th {\n",
       "        text-align: right;\n",
       "    }\n",
       "</style>\n",
       "<table border=\"1\" class=\"dataframe\">\n",
       "  <thead>\n",
       "    <tr style=\"text-align: right;\">\n",
       "      <th></th>\n",
       "      <th>CLIENTE_ID</th>\n",
       "      <th>MEDIA_BENEF</th>\n",
       "      <th>MAX_BENEF</th>\n",
       "      <th>MIN_BENEF</th>\n",
       "    </tr>\n",
       "  </thead>\n",
       "  <tbody>\n",
       "    <tr>\n",
       "      <th>0</th>\n",
       "      <td>144775</td>\n",
       "      <td>400000.00</td>\n",
       "      <td>400000.00</td>\n",
       "      <td>400000.00</td>\n",
       "    </tr>\n",
       "    <tr>\n",
       "      <th>1</th>\n",
       "      <td>168499</td>\n",
       "      <td>20000.00</td>\n",
       "      <td>20000.00</td>\n",
       "      <td>20000.00</td>\n",
       "    </tr>\n",
       "    <tr>\n",
       "      <th>2</th>\n",
       "      <td>206183</td>\n",
       "      <td>500000.00</td>\n",
       "      <td>500000.00</td>\n",
       "      <td>500000.00</td>\n",
       "    </tr>\n",
       "    <tr>\n",
       "      <th>3</th>\n",
       "      <td>208669</td>\n",
       "      <td>52885.48</td>\n",
       "      <td>52885.48</td>\n",
       "      <td>52885.48</td>\n",
       "    </tr>\n",
       "    <tr>\n",
       "      <th>4</th>\n",
       "      <td>235463</td>\n",
       "      <td>300000.00</td>\n",
       "      <td>300000.00</td>\n",
       "      <td>300000.00</td>\n",
       "    </tr>\n",
       "    <tr>\n",
       "      <th>...</th>\n",
       "      <td>...</td>\n",
       "      <td>...</td>\n",
       "      <td>...</td>\n",
       "      <td>...</td>\n",
       "    </tr>\n",
       "    <tr>\n",
       "      <th>630</th>\n",
       "      <td>7620078</td>\n",
       "      <td>450000.00</td>\n",
       "      <td>450000.00</td>\n",
       "      <td>450000.00</td>\n",
       "    </tr>\n",
       "    <tr>\n",
       "      <th>631</th>\n",
       "      <td>7620378</td>\n",
       "      <td>3000000.00</td>\n",
       "      <td>3000000.00</td>\n",
       "      <td>3000000.00</td>\n",
       "    </tr>\n",
       "    <tr>\n",
       "      <th>632</th>\n",
       "      <td>7621256</td>\n",
       "      <td>400000.00</td>\n",
       "      <td>400000.00</td>\n",
       "      <td>400000.00</td>\n",
       "    </tr>\n",
       "    <tr>\n",
       "      <th>633</th>\n",
       "      <td>7621715</td>\n",
       "      <td>500000.00</td>\n",
       "      <td>500000.00</td>\n",
       "      <td>500000.00</td>\n",
       "    </tr>\n",
       "    <tr>\n",
       "      <th>634</th>\n",
       "      <td>7621718</td>\n",
       "      <td>500000.00</td>\n",
       "      <td>500000.00</td>\n",
       "      <td>500000.00</td>\n",
       "    </tr>\n",
       "  </tbody>\n",
       "</table>\n",
       "<p>635 rows × 4 columns</p>\n",
       "</div>"
      ],
      "text/plain": [
       "     CLIENTE_ID  MEDIA_BENEF   MAX_BENEF   MIN_BENEF\n",
       "0        144775    400000.00   400000.00   400000.00\n",
       "1        168499     20000.00    20000.00    20000.00\n",
       "2        206183    500000.00   500000.00   500000.00\n",
       "3        208669     52885.48    52885.48    52885.48\n",
       "4        235463    300000.00   300000.00   300000.00\n",
       "..          ...          ...         ...         ...\n",
       "630     7620078    450000.00   450000.00   450000.00\n",
       "631     7620378   3000000.00  3000000.00  3000000.00\n",
       "632     7621256    400000.00   400000.00   400000.00\n",
       "633     7621715    500000.00   500000.00   500000.00\n",
       "634     7621718    500000.00   500000.00   500000.00\n",
       "\n",
       "[635 rows x 4 columns]"
      ]
     },
     "execution_count": 105,
     "metadata": {},
     "output_type": "execute_result"
    }
   ],
   "source": [
    "query4 = \"\"\" \n",
    "SELECT B.CLIENTE_ID, AVG(B.BENEFICIO_INICIAL) AS MEDIA_BENEF,  MAX(B.BENEFICIO_INICIAL) AS MAX_BENEF,\n",
    "MIN(B.BENEFICIO_INICIAL) AS MIN_BENEF FROM\n",
    "(SELECT C.CLIENTE_ID, B.BENEFICIO_INICIAL FROM ITEMCONTRATADO B\n",
    "INNER JOIN INSCRICAO C ON B.INSCRICAO_ID=C.ID) B\n",
    "GROUP BY B.CLIENTE_ID\n",
    "\"\"\"\n",
    "pd.read_sql(query4, engine)\n"
   ]
  },
  {
   "cell_type": "code",
   "execution_count": 111,
   "metadata": {},
   "outputs": [
    {
     "data": {
      "text/html": [
       "<div>\n",
       "<style scoped>\n",
       "    .dataframe tbody tr th:only-of-type {\n",
       "        vertical-align: middle;\n",
       "    }\n",
       "\n",
       "    .dataframe tbody tr th {\n",
       "        vertical-align: top;\n",
       "    }\n",
       "\n",
       "    .dataframe thead th {\n",
       "        text-align: right;\n",
       "    }\n",
       "</style>\n",
       "<table border=\"1\" class=\"dataframe\">\n",
       "  <thead>\n",
       "    <tr style=\"text-align: right;\">\n",
       "      <th></th>\n",
       "      <th>id</th>\n",
       "      <th>data_nascimento</th>\n",
       "      <th>sexo</th>\n",
       "    </tr>\n",
       "  </thead>\n",
       "  <tbody>\n",
       "    <tr>\n",
       "      <th>0</th>\n",
       "      <td>1750926</td>\n",
       "      <td>1977-10-06</td>\n",
       "      <td>M</td>\n",
       "    </tr>\n",
       "    <tr>\n",
       "      <th>1</th>\n",
       "      <td>4300961</td>\n",
       "      <td>1957-04-15</td>\n",
       "      <td>M</td>\n",
       "    </tr>\n",
       "    <tr>\n",
       "      <th>2</th>\n",
       "      <td>7488418</td>\n",
       "      <td>1963-03-05</td>\n",
       "      <td>F</td>\n",
       "    </tr>\n",
       "    <tr>\n",
       "      <th>3</th>\n",
       "      <td>2700079</td>\n",
       "      <td>1966-05-20</td>\n",
       "      <td>F</td>\n",
       "    </tr>\n",
       "    <tr>\n",
       "      <th>4</th>\n",
       "      <td>7503154</td>\n",
       "      <td>1983-03-04</td>\n",
       "      <td>F</td>\n",
       "    </tr>\n",
       "    <tr>\n",
       "      <th>...</th>\n",
       "      <td>...</td>\n",
       "      <td>...</td>\n",
       "      <td>...</td>\n",
       "    </tr>\n",
       "    <tr>\n",
       "      <th>105</th>\n",
       "      <td>7598207</td>\n",
       "      <td>1988-12-09</td>\n",
       "      <td>F</td>\n",
       "    </tr>\n",
       "    <tr>\n",
       "      <th>106</th>\n",
       "      <td>7598014</td>\n",
       "      <td>1970-10-06</td>\n",
       "      <td>M</td>\n",
       "    </tr>\n",
       "    <tr>\n",
       "      <th>107</th>\n",
       "      <td>7598746</td>\n",
       "      <td>1990-03-29</td>\n",
       "      <td>M</td>\n",
       "    </tr>\n",
       "    <tr>\n",
       "      <th>108</th>\n",
       "      <td>2435127</td>\n",
       "      <td>1977-06-17</td>\n",
       "      <td>M</td>\n",
       "    </tr>\n",
       "    <tr>\n",
       "      <th>109</th>\n",
       "      <td>7599427</td>\n",
       "      <td>1991-05-31</td>\n",
       "      <td>F</td>\n",
       "    </tr>\n",
       "  </tbody>\n",
       "</table>\n",
       "<p>110 rows × 3 columns</p>\n",
       "</div>"
      ],
      "text/plain": [
       "          id data_nascimento sexo\n",
       "0    1750926      1977-10-06    M\n",
       "1    4300961      1957-04-15    M\n",
       "2    7488418      1963-03-05    F\n",
       "3    2700079      1966-05-20    F\n",
       "4    7503154      1983-03-04    F\n",
       "..       ...             ...  ...\n",
       "105  7598207      1988-12-09    F\n",
       "106  7598014      1970-10-06    M\n",
       "107  7598746      1990-03-29    M\n",
       "108  2435127      1977-06-17    M\n",
       "109  7599427      1991-05-31    F\n",
       "\n",
       "[110 rows x 3 columns]"
      ]
     },
     "execution_count": 111,
     "metadata": {},
     "output_type": "execute_result"
    }
   ],
   "source": [
    "query5 = \"\"\" \n",
    "SELECT DISTINCT A.ID, A.DATA_NASCIMENTO,A.SEXO FROM\n",
    "CLIENTE A INNER JOIN\n",
    "(SELECT DISTINCT C.CLIENTE_ID, C.PERIODICIDADE, B.DATA_ASSINATURA FROM ITEMCONTRATADO B\n",
    "INNER JOIN INSCRICAO C ON B.INSCRICAO_ID=C.ID\n",
    "WHERE C.PERIODICIDADE = 'MENSAL' OR (B.DATA_ASSINATURA>='2022-01-06' AND B.DATA_ASSINATURA<='2022-01-10')\n",
    ") B ON B.CLIENTE_ID=A.ID\n",
    "\"\"\"\n",
    "pd.read_sql(query5, engine)\n"
   ]
  }
 ],
 "metadata": {
  "kernelspec": {
   "display_name": "Python 3",
   "language": "python",
   "name": "python3"
  },
  "language_info": {
   "codemirror_mode": {
    "name": "ipython",
    "version": 3
   },
   "file_extension": ".py",
   "mimetype": "text/x-python",
   "name": "python",
   "nbconvert_exporter": "python",
   "pygments_lexer": "ipython3",
   "version": "3.11.0"
  },
  "orig_nbformat": 4
 },
 "nbformat": 4,
 "nbformat_minor": 2
}
